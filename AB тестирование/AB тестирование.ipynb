{
 "cells": [
  {
   "cell_type": "markdown",
   "metadata": {},
   "source": [
    "<div style=\"background:#F5F5F5; color:#000000; padding:10px\">\n",
    "    <p><big><b> Техническое задание. </b></big></p> \n",
    "    \n",
    "    \n",
    "__Задача:__\n",
    "Вы — аналитик крупного интернет-магазина. Вместе с отделом маркетинга вы подготовили список гипотез для увеличения выручки.\n",
    "Приоритизируйте гипотезы, запустите A/B-тест и проанализируйте результаты. "
   ]
  },
  {
   "cell_type": "markdown",
   "metadata": {},
   "source": [
    "# Проект: A/B-тестирование."
   ]
  },
  {
   "cell_type": "markdown",
   "metadata": {},
   "source": [
    "__Описание проекта__\n",
    "\n",
    "__Цель исследования__ - приоритизировать гипотезы для увеличения выручки интернет-магазина.\n",
    "\n",
    "__Исследование пройдёт в два этапа:__\n",
    "\n",
    "1. Приоритизация гипотез;\n",
    "2. Анализ A/B-теста.\n",
    "\n",
    "__Описание данных__\n",
    "\n",
    "Данные для приоритизация гипотез взяты из таблицы /datasets/hypothesis.csv. \n",
    "\n",
    "- __Hypothesis__ — краткое описание гипотезы;\n",
    "- __Reach__ — охват пользователей по 10-балльной шкале;\n",
    "- __Impact__ — влияние на пользователей по 10-балльной шкале;\n",
    "- __Confidence__ — уверенность в гипотезе по 10-балльной шкале;\n",
    "- __Efforts__ — затраты ресурсов на проверку гипотезы по 10-балльной шкале. Чем больше значение Efforts, тем дороже проверка гипотезы.\n",
    "\n",
    "Данные для анализ A/B-теста взяты из таблицы /datasets/orders.csv. \n",
    "\n",
    "- __transactionId__ — идентификатор заказа;\n",
    "- __visitorId__ — идентификатор пользователя, совершившего заказ;\n",
    "- __date__ — дата, когда был совершён заказ;\n",
    "- __revenue__ — выручка заказа;\n",
    "- __group__ — группа A/B-теста, в которую попал заказ.\n",
    "\n",
    "И из таблицы /datasets/visitors.csv. \n",
    "- __date__ — дата;\n",
    "- __group__ — группа A/B-теста;\n",
    "- __visitors__ — количество пользователей в указанную дату в указанной группе A/B-теста\n"
   ]
  },
  {
   "cell_type": "code",
   "execution_count": 1,
   "metadata": {},
   "outputs": [],
   "source": [
    "#импортируем библиотеки \n",
    "import pandas as pd\n",
    "import datetime as dt\n",
    "from datetime import datetime, timedelta\n",
    "import numpy as np\n",
    "import scipy.stats as stats\n",
    "from matplotlib import pyplot as plt\n",
    "from pandas.plotting import register_matplotlib_converters\n",
    "register_matplotlib_converters()\n",
    "import warnings"
   ]
  },
  {
   "cell_type": "markdown",
   "metadata": {},
   "source": [
    "## Приоритизация гипотез."
   ]
  },
  {
   "cell_type": "markdown",
   "metadata": {},
   "source": [
    "В данном разделе приоритизируем 9 гипотез по увеличению выручки интернет-магазина. Для приоритизации гипотез будут использованы фреймворки ICE и RICE. "
   ]
  },
  {
   "cell_type": "code",
   "execution_count": 2,
   "metadata": {},
   "outputs": [
    {
     "data": {
      "text/html": [
       "<div>\n",
       "<style scoped>\n",
       "    .dataframe tbody tr th:only-of-type {\n",
       "        vertical-align: middle;\n",
       "    }\n",
       "\n",
       "    .dataframe tbody tr th {\n",
       "        vertical-align: top;\n",
       "    }\n",
       "\n",
       "    .dataframe thead th {\n",
       "        text-align: right;\n",
       "    }\n",
       "</style>\n",
       "<table border=\"1\" class=\"dataframe\">\n",
       "  <thead>\n",
       "    <tr style=\"text-align: right;\">\n",
       "      <th></th>\n",
       "      <th>Hypothesis</th>\n",
       "      <th>Reach</th>\n",
       "      <th>Impact</th>\n",
       "      <th>Confidence</th>\n",
       "      <th>Efforts</th>\n",
       "    </tr>\n",
       "  </thead>\n",
       "  <tbody>\n",
       "    <tr>\n",
       "      <th>0</th>\n",
       "      <td>Добавить два новых канала привлечения трафика,...</td>\n",
       "      <td>3</td>\n",
       "      <td>10</td>\n",
       "      <td>8</td>\n",
       "      <td>6</td>\n",
       "    </tr>\n",
       "    <tr>\n",
       "      <th>1</th>\n",
       "      <td>Запустить собственную службу доставки, что сок...</td>\n",
       "      <td>2</td>\n",
       "      <td>5</td>\n",
       "      <td>4</td>\n",
       "      <td>10</td>\n",
       "    </tr>\n",
       "    <tr>\n",
       "      <th>2</th>\n",
       "      <td>Добавить блоки рекомендаций товаров на сайт ин...</td>\n",
       "      <td>8</td>\n",
       "      <td>3</td>\n",
       "      <td>7</td>\n",
       "      <td>3</td>\n",
       "    </tr>\n",
       "  </tbody>\n",
       "</table>\n",
       "</div>"
      ],
      "text/plain": [
       "                                          Hypothesis  Reach  Impact  \\\n",
       "0  Добавить два новых канала привлечения трафика,...      3      10   \n",
       "1  Запустить собственную службу доставки, что сок...      2       5   \n",
       "2  Добавить блоки рекомендаций товаров на сайт ин...      8       3   \n",
       "\n",
       "   Confidence  Efforts  \n",
       "0           8        6  \n",
       "1           4       10  \n",
       "2           7        3  "
      ]
     },
     "metadata": {},
     "output_type": "display_data"
    }
   ],
   "source": [
    "#прочитаем датафрейм\n",
    "try:\n",
    "    hypothesis = pd.read_csv('/Users/angelinakotelnikova/Desktop/koTing/datasets/hypothesis.csv') \n",
    "except:\n",
    "    hypothesis = pd.read_csv('/datasets/hypothesis.csv') \n",
    "\n",
    "display(hypothesis.head(3))"
   ]
  },
  {
   "cell_type": "markdown",
   "metadata": {},
   "source": [
    "Для начала гипотезы приоритизируем с помощью фреймворка ICE  по формуле:  \n",
    "\n",
    "$$ ICE=\\cfrac{Impact*Confidence}{Efforts} $$"
   ]
  },
  {
   "cell_type": "code",
   "execution_count": 3,
   "metadata": {},
   "outputs": [],
   "source": [
    "#применим способ приоритизации гипотез ICE\n",
    "hypothesis['ICE']=hypothesis['Impact']*hypothesis['Confidence']/hypothesis['Efforts']"
   ]
  },
  {
   "cell_type": "markdown",
   "metadata": {},
   "source": [
    "Теперь гипотезы приоритизируем с помощью фреймворка RICE по формуле:\n",
    "\n",
    "$$ RICE=\\cfrac{Reach*Impact*Confidence}{Efforts} $$"
   ]
  },
  {
   "cell_type": "code",
   "execution_count": 4,
   "metadata": {},
   "outputs": [],
   "source": [
    "#применим способ приоритизации гипотез RICE\n",
    "hypothesis['RICE']=(hypothesis['Reach']*hypothesis['Impact']*hypothesis['Confidence'])/hypothesis['Efforts']\n",
    "\n",
    "#отсортируем по большему числу в RICE\n",
    "hypothesis = hypothesis.sort_values(by='RICE', ascending=False)"
   ]
  },
  {
   "cell_type": "markdown",
   "metadata": {},
   "source": [
    "Выведем итоговую таблицу приоритизации гипотез по RICE и ICE."
   ]
  },
  {
   "cell_type": "code",
   "execution_count": 5,
   "metadata": {},
   "outputs": [
    {
     "name": "stderr",
     "output_type": "stream",
     "text": [
      "/var/folders/wz/1tjfg6y12vs8qd7bvd_16x1c0000gn/T/ipykernel_25216/1672245861.py:4: FutureWarning: this method is deprecated in favour of `Styler.hide(axis='index')`\n",
      "  (hypothesis\n"
     ]
    },
    {
     "data": {
      "text/html": [
       "<style type=\"text/css\">\n",
       "#T_4bc49 th {\n",
       "  text-align: left;\n",
       "}\n",
       "#T_4bc49_row0_col0, #T_4bc49_row0_col1, #T_4bc49_row0_col2, #T_4bc49_row0_col3, #T_4bc49_row0_col4, #T_4bc49_row1_col0, #T_4bc49_row1_col1, #T_4bc49_row1_col2, #T_4bc49_row1_col3, #T_4bc49_row1_col4, #T_4bc49_row2_col0, #T_4bc49_row2_col1, #T_4bc49_row2_col2, #T_4bc49_row2_col3, #T_4bc49_row2_col4, #T_4bc49_row3_col0, #T_4bc49_row3_col1, #T_4bc49_row3_col2, #T_4bc49_row3_col3, #T_4bc49_row3_col4, #T_4bc49_row4_col0, #T_4bc49_row4_col1, #T_4bc49_row4_col2, #T_4bc49_row4_col3, #T_4bc49_row4_col4, #T_4bc49_row5_col0, #T_4bc49_row5_col1, #T_4bc49_row5_col2, #T_4bc49_row5_col3, #T_4bc49_row5_col4, #T_4bc49_row6_col0, #T_4bc49_row6_col1, #T_4bc49_row6_col2, #T_4bc49_row6_col3, #T_4bc49_row6_col4, #T_4bc49_row7_col0, #T_4bc49_row7_col1, #T_4bc49_row7_col2, #T_4bc49_row7_col3, #T_4bc49_row7_col4, #T_4bc49_row8_col0, #T_4bc49_row8_col1, #T_4bc49_row8_col2, #T_4bc49_row8_col3, #T_4bc49_row8_col4 {\n",
       "  text-align: left;\n",
       "}\n",
       "#T_4bc49_row0_col5 {\n",
       "  background-color: #36a164;\n",
       "  color: #f1f1f1;\n",
       "  text-align: left;\n",
       "}\n",
       "#T_4bc49_row0_col6, #T_4bc49_row4_col5 {\n",
       "  background-color: yellowgreen;\n",
       "  background-color: #00441b;\n",
       "  color: #f1f1f1;\n",
       "  text-align: left;\n",
       "}\n",
       "#T_4bc49_row1_col5 {\n",
       "  background-color: #90d4c3;\n",
       "  color: #000000;\n",
       "  text-align: left;\n",
       "}\n",
       "#T_4bc49_row1_col6 {\n",
       "  background-color: #6cc4a8;\n",
       "  color: #000000;\n",
       "  text-align: left;\n",
       "}\n",
       "#T_4bc49_row2_col5 {\n",
       "  background-color: #127c39;\n",
       "  color: #f1f1f1;\n",
       "  text-align: left;\n",
       "}\n",
       "#T_4bc49_row2_col6, #T_4bc49_row3_col6 {\n",
       "  background-color: #a8ded2;\n",
       "  color: #000000;\n",
       "  text-align: left;\n",
       "}\n",
       "#T_4bc49_row3_col5 {\n",
       "  background-color: #77c9b0;\n",
       "  color: #000000;\n",
       "  text-align: left;\n",
       "}\n",
       "#T_4bc49_row4_col6 {\n",
       "  background-color: #e5f5f9;\n",
       "  color: #000000;\n",
       "  text-align: left;\n",
       "}\n",
       "#T_4bc49_row5_col5, #T_4bc49_row6_col6, #T_4bc49_row7_col6 {\n",
       "  background-color: #f6fcfd;\n",
       "  color: #000000;\n",
       "  text-align: left;\n",
       "}\n",
       "#T_4bc49_row5_col6 {\n",
       "  background-color: #eff9fb;\n",
       "  color: #000000;\n",
       "  text-align: left;\n",
       "}\n",
       "#T_4bc49_row6_col5 {\n",
       "  background-color: #eef8fb;\n",
       "  color: #000000;\n",
       "  text-align: left;\n",
       "}\n",
       "#T_4bc49_row7_col5 {\n",
       "  background-color: #f4fbfc;\n",
       "  color: #000000;\n",
       "  text-align: left;\n",
       "}\n",
       "#T_4bc49_row8_col5, #T_4bc49_row8_col6 {\n",
       "  background-color: #f7fcfd;\n",
       "  color: #000000;\n",
       "  text-align: left;\n",
       "}\n",
       "</style>\n",
       "<table id=\"T_4bc49\">\n",
       "  <caption>Приоритизации гипотез с помощью ICE и RICE</caption>\n",
       "  <thead>\n",
       "    <tr>\n",
       "      <th id=\"T_4bc49_level0_col0\" class=\"col_heading level0 col0\" >Hypothesis</th>\n",
       "      <th id=\"T_4bc49_level0_col1\" class=\"col_heading level0 col1\" >Reach</th>\n",
       "      <th id=\"T_4bc49_level0_col2\" class=\"col_heading level0 col2\" >Impact</th>\n",
       "      <th id=\"T_4bc49_level0_col3\" class=\"col_heading level0 col3\" >Confidence</th>\n",
       "      <th id=\"T_4bc49_level0_col4\" class=\"col_heading level0 col4\" >Efforts</th>\n",
       "      <th id=\"T_4bc49_level0_col5\" class=\"col_heading level0 col5\" >ICE</th>\n",
       "      <th id=\"T_4bc49_level0_col6\" class=\"col_heading level0 col6\" >RICE</th>\n",
       "    </tr>\n",
       "  </thead>\n",
       "  <tbody>\n",
       "    <tr>\n",
       "      <td id=\"T_4bc49_row0_col0\" class=\"data row0 col0\" >Добавить форму подписки на все основные страницы, чтобы собрать базу клиентов для email-рассылок</td>\n",
       "      <td id=\"T_4bc49_row0_col1\" class=\"data row0 col1\" >10</td>\n",
       "      <td id=\"T_4bc49_row0_col2\" class=\"data row0 col2\" >7</td>\n",
       "      <td id=\"T_4bc49_row0_col3\" class=\"data row0 col3\" >8</td>\n",
       "      <td id=\"T_4bc49_row0_col4\" class=\"data row0 col4\" >5</td>\n",
       "      <td id=\"T_4bc49_row0_col5\" class=\"data row0 col5\" >11.2</td>\n",
       "      <td id=\"T_4bc49_row0_col6\" class=\"data row0 col6\" >112.0</td>\n",
       "    </tr>\n",
       "    <tr>\n",
       "      <td id=\"T_4bc49_row1_col0\" class=\"data row1 col0\" >Добавить блоки рекомендаций товаров на сайт интернет магазина, чтобы повысить конверсию и средний чек заказа</td>\n",
       "      <td id=\"T_4bc49_row1_col1\" class=\"data row1 col1\" >8</td>\n",
       "      <td id=\"T_4bc49_row1_col2\" class=\"data row1 col2\" >3</td>\n",
       "      <td id=\"T_4bc49_row1_col3\" class=\"data row1 col3\" >7</td>\n",
       "      <td id=\"T_4bc49_row1_col4\" class=\"data row1 col4\" >3</td>\n",
       "      <td id=\"T_4bc49_row1_col5\" class=\"data row1 col5\" >7.0</td>\n",
       "      <td id=\"T_4bc49_row1_col6\" class=\"data row1 col6\" >56.0</td>\n",
       "    </tr>\n",
       "    <tr>\n",
       "      <td id=\"T_4bc49_row2_col0\" class=\"data row2 col0\" >Добавить два новых канала привлечения трафика, что позволит привлекать на 30% больше пользователей</td>\n",
       "      <td id=\"T_4bc49_row2_col1\" class=\"data row2 col1\" >3</td>\n",
       "      <td id=\"T_4bc49_row2_col2\" class=\"data row2 col2\" >10</td>\n",
       "      <td id=\"T_4bc49_row2_col3\" class=\"data row2 col3\" >8</td>\n",
       "      <td id=\"T_4bc49_row2_col4\" class=\"data row2 col4\" >6</td>\n",
       "      <td id=\"T_4bc49_row2_col5\" class=\"data row2 col5\" >13.3</td>\n",
       "      <td id=\"T_4bc49_row2_col6\" class=\"data row2 col6\" >40.0</td>\n",
       "    </tr>\n",
       "    <tr>\n",
       "      <td id=\"T_4bc49_row3_col0\" class=\"data row3 col0\" >Показать на главной странице баннеры с актуальными акциями и распродажами, чтобы увеличить конверсию</td>\n",
       "      <td id=\"T_4bc49_row3_col1\" class=\"data row3 col1\" >5</td>\n",
       "      <td id=\"T_4bc49_row3_col2\" class=\"data row3 col2\" >3</td>\n",
       "      <td id=\"T_4bc49_row3_col3\" class=\"data row3 col3\" >8</td>\n",
       "      <td id=\"T_4bc49_row3_col4\" class=\"data row3 col4\" >3</td>\n",
       "      <td id=\"T_4bc49_row3_col5\" class=\"data row3 col5\" >8.0</td>\n",
       "      <td id=\"T_4bc49_row3_col6\" class=\"data row3 col6\" >40.0</td>\n",
       "    </tr>\n",
       "    <tr>\n",
       "      <td id=\"T_4bc49_row4_col0\" class=\"data row4 col0\" >Запустить акцию, дающую скидку на товар в день рождения</td>\n",
       "      <td id=\"T_4bc49_row4_col1\" class=\"data row4 col1\" >1</td>\n",
       "      <td id=\"T_4bc49_row4_col2\" class=\"data row4 col2\" >9</td>\n",
       "      <td id=\"T_4bc49_row4_col3\" class=\"data row4 col3\" >9</td>\n",
       "      <td id=\"T_4bc49_row4_col4\" class=\"data row4 col4\" >5</td>\n",
       "      <td id=\"T_4bc49_row4_col5\" class=\"data row4 col5\" >16.2</td>\n",
       "      <td id=\"T_4bc49_row4_col6\" class=\"data row4 col6\" >16.2</td>\n",
       "    </tr>\n",
       "    <tr>\n",
       "      <td id=\"T_4bc49_row5_col0\" class=\"data row5 col0\" >Изменить структура категорий, что увеличит конверсию, т.к. пользователи быстрее найдут нужный товар</td>\n",
       "      <td id=\"T_4bc49_row5_col1\" class=\"data row5 col1\" >8</td>\n",
       "      <td id=\"T_4bc49_row5_col2\" class=\"data row5 col2\" >3</td>\n",
       "      <td id=\"T_4bc49_row5_col3\" class=\"data row5 col3\" >3</td>\n",
       "      <td id=\"T_4bc49_row5_col4\" class=\"data row5 col4\" >8</td>\n",
       "      <td id=\"T_4bc49_row5_col5\" class=\"data row5 col5\" >1.1</td>\n",
       "      <td id=\"T_4bc49_row5_col6\" class=\"data row5 col6\" >9.0</td>\n",
       "    </tr>\n",
       "    <tr>\n",
       "      <td id=\"T_4bc49_row6_col0\" class=\"data row6 col0\" >Запустить собственную службу доставки, что сократит срок доставки заказов</td>\n",
       "      <td id=\"T_4bc49_row6_col1\" class=\"data row6 col1\" >2</td>\n",
       "      <td id=\"T_4bc49_row6_col2\" class=\"data row6 col2\" >5</td>\n",
       "      <td id=\"T_4bc49_row6_col3\" class=\"data row6 col3\" >4</td>\n",
       "      <td id=\"T_4bc49_row6_col4\" class=\"data row6 col4\" >10</td>\n",
       "      <td id=\"T_4bc49_row6_col5\" class=\"data row6 col5\" >2.0</td>\n",
       "      <td id=\"T_4bc49_row6_col6\" class=\"data row6 col6\" >4.0</td>\n",
       "    </tr>\n",
       "    <tr>\n",
       "      <td id=\"T_4bc49_row7_col0\" class=\"data row7 col0\" >Добавить страницу отзывов клиентов о магазине, что позволит увеличить количество заказов</td>\n",
       "      <td id=\"T_4bc49_row7_col1\" class=\"data row7 col1\" >3</td>\n",
       "      <td id=\"T_4bc49_row7_col2\" class=\"data row7 col2\" >2</td>\n",
       "      <td id=\"T_4bc49_row7_col3\" class=\"data row7 col3\" >2</td>\n",
       "      <td id=\"T_4bc49_row7_col4\" class=\"data row7 col4\" >3</td>\n",
       "      <td id=\"T_4bc49_row7_col5\" class=\"data row7 col5\" >1.3</td>\n",
       "      <td id=\"T_4bc49_row7_col6\" class=\"data row7 col6\" >4.0</td>\n",
       "    </tr>\n",
       "    <tr>\n",
       "      <td id=\"T_4bc49_row8_col0\" class=\"data row8 col0\" >Изменить цвет фона главной страницы, чтобы увеличить вовлеченность пользователей</td>\n",
       "      <td id=\"T_4bc49_row8_col1\" class=\"data row8 col1\" >3</td>\n",
       "      <td id=\"T_4bc49_row8_col2\" class=\"data row8 col2\" >1</td>\n",
       "      <td id=\"T_4bc49_row8_col3\" class=\"data row8 col3\" >1</td>\n",
       "      <td id=\"T_4bc49_row8_col4\" class=\"data row8 col4\" >1</td>\n",
       "      <td id=\"T_4bc49_row8_col5\" class=\"data row8 col5\" >1.0</td>\n",
       "      <td id=\"T_4bc49_row8_col6\" class=\"data row8 col6\" >3.0</td>\n",
       "    </tr>\n",
       "  </tbody>\n",
       "</table>\n"
      ],
      "text/plain": [
       "<pandas.io.formats.style.Styler at 0x14d893820>"
      ]
     },
     "execution_count": 5,
     "metadata": {},
     "output_type": "execute_result"
    }
   ],
   "source": [
    "#Выведем итоговую таблицу приоритизации гипотез по RICE и ICE\n",
    "numeric_columns = ['ICE', 'RICE']\n",
    "\n",
    "(hypothesis\n",
    " .style\n",
    " .hide_index()\n",
    " .format('{:.1f}', subset=numeric_columns)\n",
    " .highlight_max(color='yellowgreen', subset=numeric_columns)\n",
    " .background_gradient(subset=numeric_columns, cmap='BuGn')\n",
    " .set_properties(**{'text-align': 'left'})\n",
    " .set_caption('Приоритизации гипотез с помощью ICE и RICE')\n",
    " .set_table_styles([dict(selector='th', props=[('text-align', 'left')])])\n",
    ")"
   ]
  },
  {
   "cell_type": "markdown",
   "metadata": {},
   "source": [
    "__ВЫВОД:__\n",
    "\n",
    "Применение фреймворка ICE выделило наиболее приоритетными гипотезы 9, 1, 8 и 7. А фреймворк RICE показал, что наиболее приоритетны гипотезы 8, 3, 1 и 7. Разница в приоритетных гипотезах связана с отсутствием параметра Reach в ICE."
   ]
  },
  {
   "cell_type": "markdown",
   "metadata": {},
   "source": [
    "## Проведение A/B-теста"
   ]
  },
  {
   "cell_type": "markdown",
   "metadata": {},
   "source": [
    "### Изучим данные."
   ]
  },
  {
   "cell_type": "code",
   "execution_count": 6,
   "metadata": {},
   "outputs": [
    {
     "data": {
      "text/html": [
       "<div>\n",
       "<style scoped>\n",
       "    .dataframe tbody tr th:only-of-type {\n",
       "        vertical-align: middle;\n",
       "    }\n",
       "\n",
       "    .dataframe tbody tr th {\n",
       "        vertical-align: top;\n",
       "    }\n",
       "\n",
       "    .dataframe thead th {\n",
       "        text-align: right;\n",
       "    }\n",
       "</style>\n",
       "<table border=\"1\" class=\"dataframe\">\n",
       "  <thead>\n",
       "    <tr style=\"text-align: right;\">\n",
       "      <th></th>\n",
       "      <th>transactionId</th>\n",
       "      <th>visitorId</th>\n",
       "      <th>date</th>\n",
       "      <th>revenue</th>\n",
       "      <th>group</th>\n",
       "    </tr>\n",
       "  </thead>\n",
       "  <tbody>\n",
       "    <tr>\n",
       "      <th>0</th>\n",
       "      <td>3667963787</td>\n",
       "      <td>3312258926</td>\n",
       "      <td>2019-08-15</td>\n",
       "      <td>1650</td>\n",
       "      <td>B</td>\n",
       "    </tr>\n",
       "    <tr>\n",
       "      <th>1</th>\n",
       "      <td>2804400009</td>\n",
       "      <td>3642806036</td>\n",
       "      <td>2019-08-15</td>\n",
       "      <td>730</td>\n",
       "      <td>B</td>\n",
       "    </tr>\n",
       "    <tr>\n",
       "      <th>2</th>\n",
       "      <td>2961555356</td>\n",
       "      <td>4069496402</td>\n",
       "      <td>2019-08-15</td>\n",
       "      <td>400</td>\n",
       "      <td>A</td>\n",
       "    </tr>\n",
       "  </tbody>\n",
       "</table>\n",
       "</div>"
      ],
      "text/plain": [
       "   transactionId   visitorId        date  revenue group\n",
       "0     3667963787  3312258926  2019-08-15     1650     B\n",
       "1     2804400009  3642806036  2019-08-15      730     B\n",
       "2     2961555356  4069496402  2019-08-15      400     A"
      ]
     },
     "metadata": {},
     "output_type": "display_data"
    },
    {
     "data": {
      "text/html": [
       "<div>\n",
       "<style scoped>\n",
       "    .dataframe tbody tr th:only-of-type {\n",
       "        vertical-align: middle;\n",
       "    }\n",
       "\n",
       "    .dataframe tbody tr th {\n",
       "        vertical-align: top;\n",
       "    }\n",
       "\n",
       "    .dataframe thead th {\n",
       "        text-align: right;\n",
       "    }\n",
       "</style>\n",
       "<table border=\"1\" class=\"dataframe\">\n",
       "  <thead>\n",
       "    <tr style=\"text-align: right;\">\n",
       "      <th></th>\n",
       "      <th>date</th>\n",
       "      <th>group</th>\n",
       "      <th>visitors</th>\n",
       "    </tr>\n",
       "  </thead>\n",
       "  <tbody>\n",
       "    <tr>\n",
       "      <th>0</th>\n",
       "      <td>2019-08-01</td>\n",
       "      <td>A</td>\n",
       "      <td>719</td>\n",
       "    </tr>\n",
       "    <tr>\n",
       "      <th>1</th>\n",
       "      <td>2019-08-02</td>\n",
       "      <td>A</td>\n",
       "      <td>619</td>\n",
       "    </tr>\n",
       "    <tr>\n",
       "      <th>2</th>\n",
       "      <td>2019-08-03</td>\n",
       "      <td>A</td>\n",
       "      <td>507</td>\n",
       "    </tr>\n",
       "  </tbody>\n",
       "</table>\n",
       "</div>"
      ],
      "text/plain": [
       "         date group  visitors\n",
       "0  2019-08-01     A       719\n",
       "1  2019-08-02     A       619\n",
       "2  2019-08-03     A       507"
      ]
     },
     "metadata": {},
     "output_type": "display_data"
    }
   ],
   "source": [
    "#прочитаем датафреймы\n",
    "try:\n",
    "    ord, vis = (\n",
    "        pd.read_csv('/Users/angelinakotelnikova/Desktop/koTing/datasets/orders.csv', \n",
    "                    sep=','),\n",
    "        pd.read_csv('/Users/angelinakotelnikova/Desktop/koTing/datasets/visitors.csv', \n",
    "                    sep=',')\n",
    "    )\n",
    "except:\n",
    "    ord, vis = (\n",
    "        pd.read_csv('/datasets/orders.csv', sep=','),\n",
    "        pd.read_csv('/datasets/visitors.csv', sep=',')\n",
    "    )\n",
    "\n",
    "display(ord.head(3), vis.head(3))"
   ]
  },
  {
   "cell_type": "code",
   "execution_count": 7,
   "metadata": {},
   "outputs": [
    {
     "name": "stdout",
     "output_type": "stream",
     "text": [
      "<class 'pandas.core.frame.DataFrame'>\n",
      "RangeIndex: 1197 entries, 0 to 1196\n",
      "Data columns (total 5 columns):\n",
      " #   Column         Non-Null Count  Dtype \n",
      "---  ------         --------------  ----- \n",
      " 0   transactionId  1197 non-null   int64 \n",
      " 1   visitorId      1197 non-null   int64 \n",
      " 2   date           1197 non-null   object\n",
      " 3   revenue        1197 non-null   int64 \n",
      " 4   group          1197 non-null   object\n",
      "dtypes: int64(3), object(2)\n",
      "memory usage: 46.9+ KB\n"
     ]
    }
   ],
   "source": [
    "#изучим данные в таблице ord\n",
    "ord.info(5)"
   ]
  },
  {
   "cell_type": "code",
   "execution_count": 8,
   "metadata": {
    "scrolled": false
   },
   "outputs": [
    {
     "name": "stdout",
     "output_type": "stream",
     "text": [
      "<class 'pandas.core.frame.DataFrame'>\n",
      "RangeIndex: 62 entries, 0 to 61\n",
      "Data columns (total 3 columns):\n",
      " #   Column    Non-Null Count  Dtype \n",
      "---  ------    --------------  ----- \n",
      " 0   date      62 non-null     object\n",
      " 1   group     62 non-null     object\n",
      " 2   visitors  62 non-null     int64 \n",
      "dtypes: int64(1), object(2)\n",
      "memory usage: 1.6+ KB\n"
     ]
    }
   ],
   "source": [
    "#изучим данные в таблице vis\n",
    "vis.info(5)"
   ]
  },
  {
   "cell_type": "markdown",
   "metadata": {},
   "source": [
    "Пропусков в датафреймах нет, нужно в колонках заменить тип данных на соответствующий. \n",
    "\n",
    "Проверим дубликаты."
   ]
  },
  {
   "cell_type": "code",
   "execution_count": 9,
   "metadata": {},
   "outputs": [
    {
     "name": "stdout",
     "output_type": "stream",
     "text": [
      "Сумма дубликатов в талице ord: 0\n",
      "Сумма дубликатов в талице vis: 0\n",
      "Сумма неявных дубликатов в талице ord 0\n"
     ]
    }
   ],
   "source": [
    "print('Сумма дубликатов в талице ord:', ord.duplicated().sum())\n",
    "print('Сумма дубликатов в талице vis:', vis.duplicated().sum())\n",
    "print('Сумма неявных дубликатов в талице ord', ord.duplicated(subset=['visitorId', 'transactionId']).sum())"
   ]
  },
  {
   "cell_type": "markdown",
   "metadata": {},
   "source": [
    "Дубликатов нет. "
   ]
  },
  {
   "cell_type": "markdown",
   "metadata": {},
   "source": [
    "### Подготовим данные к A/B-тестированию."
   ]
  },
  {
   "cell_type": "code",
   "execution_count": 10,
   "metadata": {},
   "outputs": [],
   "source": [
    "#создадим копии датафреймов\n",
    "orders=ord.copy(deep=True)\n",
    "visitors=vis.copy(deep=True)"
   ]
  },
  {
   "cell_type": "markdown",
   "metadata": {},
   "source": [
    "Поменяем тип данных в таблицах orders и visitors. "
   ]
  },
  {
   "cell_type": "code",
   "execution_count": 11,
   "metadata": {},
   "outputs": [
    {
     "name": "stdout",
     "output_type": "stream",
     "text": [
      "Тип данных таблицы orders:\n",
      "transactionId             int64\n",
      "visitorId                 int64\n",
      "date             datetime64[ns]\n",
      "revenue                   int64\n",
      "group                    string\n",
      "dtype: object\n",
      "\n",
      "Тип данных таблицы visitors:\n",
      "date        datetime64[ns]\n",
      "group               object\n",
      "visitors             int64\n",
      "dtype: object\n"
     ]
    }
   ],
   "source": [
    "#поменяем тип данных колонок в датафреймах\n",
    "orders['date'] = orders['date'].map(lambda x: dt.datetime.strptime(x, '%Y-%m-%d'))\n",
    "orders['group']=orders['group'].astype('string')\n",
    "visitors['date'] = visitors['date'].map(lambda x: dt.datetime.strptime(x, '%Y-%m-%d'))\n",
    "\n",
    "print(\"Тип данных таблицы orders:\")\n",
    "print(orders.dtypes)\n",
    "print()\n",
    "print(\"Тип данных таблицы visitors:\")\n",
    "print(visitors.dtypes)"
   ]
  },
  {
   "cell_type": "markdown",
   "metadata": {},
   "source": [
    "Проверим наличие пользователей, которые попали в группу А и В одновременно. "
   ]
  },
  {
   "cell_type": "code",
   "execution_count": 12,
   "metadata": {},
   "outputs": [
    {
     "data": {
      "text/plain": [
       "group    58\n",
       "dtype: int64"
      ]
     },
     "execution_count": 12,
     "metadata": {},
     "output_type": "execute_result"
    }
   ],
   "source": [
    "#проверим есть ли пользователи, которые попали в группу А и В одновременно \n",
    "orders.groupby('visitorId').agg({'group' : 'nunique'}).query('group>1').count()"
   ]
  },
  {
   "cell_type": "markdown",
   "metadata": {},
   "source": [
    "58 пользователей попали в две группы. Так как в данном исследование важно, чтобы пользователи не попали одновременно в группу А и В - удалим их. "
   ]
  },
  {
   "cell_type": "code",
   "execution_count": 13,
   "metadata": {},
   "outputs": [
    {
     "data": {
      "text/plain": [
       "group    0\n",
       "dtype: int64"
      ]
     },
     "execution_count": 13,
     "metadata": {},
     "output_type": "execute_result"
    }
   ],
   "source": [
    "#Создаём список пользователей, которые попали в группу и А и В\n",
    "double_users = orders.groupby('visitorId').agg({'group' : 'nunique'})\\\n",
    ".reset_index().query('group>1')['visitorId'].unique()\n",
    "\n",
    "# убираем из таблицы с заказами пользователей, которые попали в группу и А и В\n",
    "orders = orders.query('visitorId not in @double_users')\n",
    "\n",
    "# Проверим остались ли ещё такие пользователи  \n",
    "orders.groupby('visitorId').agg({'group' : 'nunique'}).query('group>1').count()"
   ]
  },
  {
   "cell_type": "markdown",
   "metadata": {},
   "source": [
    "### Анализ графиков метрик"
   ]
  },
  {
   "cell_type": "markdown",
   "metadata": {},
   "source": [
    "Построим график кумулятивной выручки по дням по группам."
   ]
  },
  {
   "cell_type": "code",
   "execution_count": 14,
   "metadata": {
    "scrolled": false
   },
   "outputs": [
    {
     "data": {
      "image/png": "[encoded data removed]",
      "text/plain": [
       "<Figure size 1200x700 with 1 Axes>"
      ]
     },
     "metadata": {},
     "output_type": "display_data"
    }
   ],
   "source": [
    "#создаем массив уникальных пар значений дат и групп теста\n",
    "datesGroups = orders[['date', 'group']].drop_duplicates()\n",
    "\n",
    "#cоберём агрегированные кумулятивные по дням данные о заказах в несколько действий. \n",
    "ordersAggregated = datesGroups.apply(\n",
    "    lambda x: orders[\n",
    "        np.logical_and(\n",
    "            orders['date'] <= x['date'], orders['group'] == x['group']\n",
    "        )\n",
    "    ].agg(\n",
    "        {\n",
    "            'date': 'max',\n",
    "            'group': 'max',\n",
    "            'transactionId': 'nunique',\n",
    "            'visitorId': 'nunique',\n",
    "            'revenue': 'sum',\n",
    "        }\n",
    "    ),\n",
    "    axis=1,\n",
    ").sort_values(by=['date', 'group'])\n",
    "\n",
    "#cоберём агрегированные кумулятивные по дням данные о посетителях сайта в несколько действий.\n",
    "visitorsAggregated = datesGroups.apply(\n",
    "    lambda x: visitors[\n",
    "        np.logical_and(\n",
    "            visitors['date'] <= x['date'], visitors['group'] == x['group']\n",
    "        )\n",
    "    ].agg({'date': 'max', 'group': 'max', 'visitors': 'sum'}),\n",
    "    axis=1,\n",
    ").sort_values(by=['date', 'group'])\n",
    "\n",
    "# объединяем кумулятивные данные в одной таблице и присваиваем ее столбцам понятные названия.\n",
    "cumulativeData = ordersAggregated.merge(\n",
    "    visitorsAggregated, left_on=['date', 'group'], right_on=['date', 'group']\n",
    ")\n",
    "cumulativeData.columns = [\n",
    "    'date',\n",
    "    'group',\n",
    "    'orders',\n",
    "    'buyers',\n",
    "    'revenue',\n",
    "    'visitors',\n",
    "]\n",
    "\n",
    "# датафрейм с кумулятивным количеством заказов и кумулятивной выручкой по дням в группе А\n",
    "cumulativeRevenueA = cumulativeData[cumulativeData['group']=='A'][['date','revenue', 'orders']]\n",
    "\n",
    "# датафрейм с кумулятивным количеством заказов и кумулятивной выручкой по дням в группе B\n",
    "cumulativeRevenueB = cumulativeData[cumulativeData['group']=='B'][['date','revenue', 'orders']]\n",
    "\n",
    "#график: размер и название\n",
    "plt.figure(figsize=(12,7))\n",
    "plt.title('График кумулятивной выручки по дням по группам')\n",
    "plt.grid(True)\n",
    "\n",
    "# Строим график выручки группы А\n",
    "plt.plot(cumulativeRevenueA['date'], cumulativeRevenueA['revenue'], label='A')\n",
    "\n",
    "# Строим график выручки группы B\n",
    "plt.plot(cumulativeRevenueB['date'], cumulativeRevenueB['revenue'], label='B')\n",
    "\n",
    "plt.legend(); "
   ]
  },
  {
   "cell_type": "markdown",
   "metadata": {},
   "source": [
    "__ВЫВОД:__\n",
    "\n",
    "В начале теста сегмент А и В шли практически наравне, затем В вырвался вперед и больше не уступал лидерство. У сегмента В видно резкий рост в середине теста. Это может сигнализировать о всплесках числа заказов, либо о появлении очень дорогих заказов в выборке.  \n",
    "\n",
    "Построим график кумулятивного среднего чека по группам."
   ]
  },
  {
   "cell_type": "code",
   "execution_count": 15,
   "metadata": {},
   "outputs": [
    {
     "data": {
      "image/png": "[encoded data removed]",
      "text/plain": [
       "<Figure size 1200x700 with 1 Axes>"
      ]
     },
     "metadata": {},
     "output_type": "display_data"
    }
   ],
   "source": [
    "#график: размер и название\n",
    "plt.figure(figsize=(12,7))\n",
    "plt.title('График кумулятивного среднего чека по группам')\n",
    "plt.grid(True)\n",
    "# Строим график среднего чека группы А\n",
    "plt.plot(cumulativeRevenueA['date'], cumulativeRevenueA['revenue']/cumulativeRevenueA['orders'], label='A')\n",
    "# Строим график среднего чека группы В\n",
    "plt.plot(cumulativeRevenueB['date'], cumulativeRevenueB['revenue']/cumulativeRevenueB['orders'], label='B')\n",
    "plt.legend(); "
   ]
  },
  {
   "cell_type": "markdown",
   "metadata": {},
   "source": [
    "__ВЫВОД:__\n",
    "\n",
    "Кумулятивное значение среднего чека по сегментам колеблется. На это могут повлиять выбросы. \n",
    "\n",
    "Построим график относительного изменения кумулятивного среднего чека группы B к группе A."
   ]
  },
  {
   "cell_type": "code",
   "execution_count": 16,
   "metadata": {},
   "outputs": [
    {
     "data": {
      "image/png": "[encoded data removed]",
      "text/plain": [
       "<Figure size 1200x700 with 1 Axes>"
      ]
     },
     "metadata": {},
     "output_type": "display_data"
    }
   ],
   "source": [
    "# собираем данные в одном датафрейме\n",
    "mergedCumulativeRevenue = cumulativeRevenueA.merge(cumulativeRevenueB, left_on='date', \n",
    "                                                   right_on='date', how='left', suffixes=['A', 'B'])\n",
    "\n",
    "#график: размер и название\n",
    "plt.figure(figsize=(12,7))\n",
    "plt.title('График относительного изменения кумулятивного среднего чека группы B к группе A')\n",
    "plt.grid(True)\n",
    "# cтроим отношение средних чеков\n",
    "plt.plot(mergedCumulativeRevenue['date'], (mergedCumulativeRevenue['revenueB']/mergedCumulativeRevenue['ordersB'])\n",
    "         /(mergedCumulativeRevenue['revenueA']/mergedCumulativeRevenue['ordersA'])-1)\n",
    "\n",
    "# добавляем ось X\n",
    "plt.axhline(y=0, color='black', linestyle='--'); "
   ]
  },
  {
   "cell_type": "markdown",
   "metadata": {},
   "source": [
    "__ВЫВОД:__\n",
    "\n",
    "На графике видно, что результаты теста значительно резко менялись в несколько дат. Скорее всего это из-за совершенных аномальных заказов. \n",
    "\n",
    "Построим график кумулятивного среднего количества заказов на посетителя по группам. "
   ]
  },
  {
   "cell_type": "code",
   "execution_count": 17,
   "metadata": {},
   "outputs": [
    {
     "data": {
      "image/png": "[encoded data removed]",
      "text/plain": [
       "<Figure size 1500x500 with 1 Axes>"
      ]
     },
     "metadata": {},
     "output_type": "display_data"
    }
   ],
   "source": [
    "# считаем кумулятивную конверсию\n",
    "cumulativeData['conversion'] = cumulativeData['orders']/cumulativeData['visitors']\n",
    "\n",
    "# отделяем данные по группе A\n",
    "cumulativeDataA = cumulativeData[cumulativeData['group']=='A']\n",
    "\n",
    "# отделяем данные по группе B\n",
    "cumulativeDataB = cumulativeData[cumulativeData['group']=='B']\n",
    "\n",
    "# строим графики\n",
    "plt.figure(figsize=(15,5))\n",
    "plt.title('График кумулятивного среднего количества заказов на посетителя по группам')\n",
    "plt.grid(True)\n",
    "\n",
    "plt.plot(cumulativeDataA['date'], cumulativeDataA['conversion'], label='A')\n",
    "plt.plot(cumulativeDataB['date'], cumulativeDataB['conversion'], label='B')\n",
    "plt.legend()\n",
    "\n",
    "# задаем масштаб осей\n",
    "plt.axis([dt.datetime(2019, 8, 1), dt.datetime(2019, 9, 1), 0, 0.05]);"
   ]
  },
  {
   "cell_type": "markdown",
   "metadata": {},
   "source": [
    "__ВЫВОД:__\n",
    "\n",
    "В начале теста у сегмента А конверсия была больше сегмента В. Затем сегмент В выровнялся и конверсия стала ненамного больше, чем у сегмента А. \n",
    "\n",
    "Построим график относительного изменения кумулятивного среднего количества заказов на посетителя группы B к группе A."
   ]
  },
  {
   "cell_type": "code",
   "execution_count": 18,
   "metadata": {},
   "outputs": [
    {
     "data": {
      "image/png": "[encoded data removed]",
      "text/plain": [
       "<Figure size 1500x700 with 1 Axes>"
      ]
     },
     "metadata": {},
     "output_type": "display_data"
    }
   ],
   "source": [
    "mergedCumulativeConversions = cumulativeDataA[['date','conversion']]\\\n",
    "    .merge(cumulativeDataB[['date','conversion']], left_on='date', right_on='date', how='left', suffixes=['A', 'B'])\n",
    "\n",
    "plt.figure(figsize=(15,7))\n",
    "plt.title('График относительного изменения кумулятивного среднего количества заказов на посетителя группы B к группе A')\n",
    "plt.grid(True)\n",
    "\n",
    "plt.plot(mergedCumulativeConversions['date'], \n",
    "         mergedCumulativeConversions['conversionB']/mergedCumulativeConversions['conversionA']-1, \n",
    "         label=\"Относительный прирост конверсии группы B относительно группы A\")\n",
    "plt.legend()\n",
    "\n",
    "plt.axhline(y=0, color='black', linestyle='--')\n",
    "plt.axhline(y=0.2, color='grey', linestyle='--')\n",
    "plt.axis([\"2019-08-01\", '2019-09-01', -0.5, 0.5]);"
   ]
  },
  {
   "cell_type": "markdown",
   "metadata": {},
   "source": [
    "__ВЫВОД:__\n",
    "\n",
    "В начале теста группа B немного проигрывала группе A, затем вырвалась вперёд. На данный момент группа В выигрывает группу А, примерно на 18%."
   ]
  },
  {
   "cell_type": "markdown",
   "metadata": {},
   "source": [
    "### Анализ выбросов и всплесков: крайние значения данных"
   ]
  },
  {
   "cell_type": "markdown",
   "metadata": {},
   "source": [
    " В этом разделе изучим данные на аномалии. \n",
    " \n",
    " Построим точечный график количества заказов по пользователям."
   ]
  },
  {
   "cell_type": "code",
   "execution_count": 19,
   "metadata": {},
   "outputs": [
    {
     "data": {
      "image/png": "[encoded data removed]",
      "text/plain": [
       "<Figure size 1500x700 with 1 Axes>"
      ]
     },
     "metadata": {},
     "output_type": "display_data"
    }
   ],
   "source": [
    "ordersByUsers = (\n",
    "    orders.groupby('visitorId', as_index=False)\n",
    "    .agg({'transactionId': 'nunique'})\n",
    ")\n",
    "ordersByUsers.columns = ['userId', 'orders']\n",
    "\n",
    "# серия из чисел от 0 до количества наблюдений в ordersByUsers\n",
    "plt.figure(figsize=(15,7))\n",
    "plt.grid(True)\n",
    "plt.title('Точечный график количества заказов по пользователям')\n",
    "x_values = pd.Series(range(0, len(ordersByUsers)))\n",
    "plt.scatter(x_values, ordersByUsers['orders']); "
   ]
  },
  {
   "cell_type": "markdown",
   "metadata": {},
   "source": [
    "__ВЫВОД:__\n",
    "\n",
    "На графике видно, то пользователей сделавших заказ более двух раз мало. Возможно от 3х заказов и выше могут быть аномальными данными. \n",
    "\n",
    "Посчитаем 95-й и 99-й перцентили количества заказов на пользователя. Выберем границу для определения аномальных пользователей."
   ]
  },
  {
   "cell_type": "code",
   "execution_count": 20,
   "metadata": {},
   "outputs": [
    {
     "data": {
      "text/plain": [
       "array([1., 1., 2.])"
      ]
     },
     "execution_count": 20,
     "metadata": {},
     "output_type": "execute_result"
    }
   ],
   "source": [
    "#находит перцентили\n",
    "np.percentile(ordersByUsers['orders'], [90, 95, 99])"
   ]
  },
  {
   "cell_type": "markdown",
   "metadata": {},
   "source": [
    "__ВЫВОД:__\n",
    "\n",
    "Не более 5% пользователей сделали более 2х заказов и не более 1% пользователей сделали более 4х заказов. Разумно выбрать 2 заказа на одного пользователя за верхнюю границу числа заказов и отсеять аномальных пользователей по ней. \n",
    "\n",
    "Построим точечный график стоимостей заказов. "
   ]
  },
  {
   "cell_type": "code",
   "execution_count": 21,
   "metadata": {},
   "outputs": [
    {
     "data": {
      "image/png": "[encoded data removed]",
      "text/plain": [
       "<Figure size 1500x700 with 1 Axes>"
      ]
     },
     "metadata": {},
     "output_type": "display_data"
    }
   ],
   "source": [
    "plt.figure(figsize=(15,7))\n",
    "plt.grid(True)\n",
    "plt.title('Точечный график стоимостей заказов')\n",
    "x_values = pd.Series(range(0, len(orders['revenue'])))\n",
    "plt.scatter(x_values, orders['revenue'])\n",
    "plt.axis([0, 1200, 0, 200000]); "
   ]
  },
  {
   "cell_type": "markdown",
   "metadata": {},
   "source": [
    "__ВЫВОД:__\n",
    "\n",
    "Заказов стоимостью более 25 000 рублей немного. \n",
    "\n",
    "Посчитаем 95-й и 99-й перцентили стоимости заказов. Выберем границу для определения аномальных заказов."
   ]
  },
  {
   "cell_type": "code",
   "execution_count": 22,
   "metadata": {},
   "outputs": [
    {
     "data": {
      "text/plain": [
       "array([17990., 26785., 53904.])"
      ]
     },
     "execution_count": 22,
     "metadata": {},
     "output_type": "execute_result"
    }
   ],
   "source": [
    "np.percentile(orders['revenue'], [90, 95, 99])"
   ]
  },
  {
   "cell_type": "markdown",
   "metadata": {},
   "source": [
    "__ВЫВОД:__\n",
    "\n",
    "Не более 5% заказов дороже 28 000 рублей и не более 1% дороже 58 233.2 рублей. В качестве верхней границы для определения аномальной стоимости заказов выберем 28 000 рублей."
   ]
  },
  {
   "cell_type": "markdown",
   "metadata": {},
   "source": [
    "### Анализ A/B-теста"
   ]
  },
  {
   "cell_type": "markdown",
   "metadata": {},
   "source": [
    "Посчитаем статистическую значимость различий в среднем числе заказов на пользователя между группами по «сырым» данным — без удаления аномальных пользователей.\n",
    "\n",
    "__Сформулируем гипотезы:__\n",
    "- __Нулевая:__ различий в среднем количестве заказов между группами нет. \n",
    "- __Альтернативная:__ различия в среднем количестве заказов между группами есть."
   ]
  },
  {
   "cell_type": "code",
   "execution_count": 23,
   "metadata": {},
   "outputs": [
    {
     "name": "stdout",
     "output_type": "stream",
     "text": [
      "P-value: 0.01102\n",
      "Относительный прирост среднего группы В к конверсии группы А: 0.160\n"
     ]
    }
   ],
   "source": [
    "#подготовим данные\n",
    "visitorsADaily = visitors[visitors['group'] == 'A'][['date', 'visitors']]\n",
    "visitorsADaily.columns = ['date', 'visitorsPerDateA']\n",
    "\n",
    "visitorsACummulative = visitorsADaily.apply(\n",
    "    lambda x: visitorsADaily[visitorsADaily['date'] <= x['date']].agg(\n",
    "        {'date': 'max', 'visitorsPerDateA': 'sum'}\n",
    "    ),\n",
    "    axis=1,\n",
    ")\n",
    "visitorsACummulative.columns = ['date', 'visitorsCummulativeA']\n",
    "\n",
    "visitorsBDaily = visitors[visitors['group'] == 'B'][['date', 'visitors']]\n",
    "visitorsBDaily.columns = ['date', 'visitorsPerDateB']\n",
    "\n",
    "visitorsBCummulative = visitorsBDaily.apply(\n",
    "    lambda x: visitorsBDaily[visitorsBDaily['date'] <= x['date']].agg(\n",
    "        {'date': 'max', 'visitorsPerDateB': 'sum'}\n",
    "    ),\n",
    "    axis=1,\n",
    ")\n",
    "visitorsBCummulative.columns = ['date', 'visitorsCummulativeB']\n",
    "\n",
    "ordersADaily = (\n",
    "    orders[orders['group'] == 'A'][['date', 'transactionId', 'visitorId', 'revenue']]\n",
    "    .groupby('date', as_index=False)\n",
    "    .agg({'transactionId': pd.Series.nunique, 'revenue': 'sum'})\n",
    ")\n",
    "ordersADaily.columns = ['date', 'ordersPerDateA', 'revenuePerDateA']\n",
    "\n",
    "ordersACummulative = ordersADaily.apply(\n",
    "    lambda x: ordersADaily[ordersADaily['date'] <= x['date']].agg(\n",
    "        {'date': 'max', 'ordersPerDateA': 'sum', 'revenuePerDateA': 'sum'}\n",
    "    ),\n",
    "    axis=1,\n",
    ").sort_values(by=['date'])\n",
    "ordersACummulative.columns = [\n",
    "    'date',\n",
    "    'ordersCummulativeA',\n",
    "    'revenueCummulativeA',\n",
    "]\n",
    "\n",
    "ordersBDaily = (\n",
    "    orders[orders['group'] == 'B'][['date', 'transactionId', 'visitorId', 'revenue']] \n",
    "    .groupby('date', as_index=False)\n",
    "    .agg({'transactionId': pd.Series.nunique, 'revenue': 'sum'})\n",
    ")\n",
    "ordersBDaily.columns = ['date', 'ordersPerDateB', 'revenuePerDateB']\n",
    "\n",
    "ordersBCummulative = ordersBDaily.apply(\n",
    "    lambda x: ordersBDaily[ordersBDaily['date'] <= x['date']].agg(\n",
    "        {'date': 'max', 'ordersPerDateB': 'sum', 'revenuePerDateB': 'sum'}\n",
    "    ),\n",
    "    axis=1,\n",
    ").sort_values(by=['date'])\n",
    "ordersBCummulative.columns = [\n",
    "    'date',\n",
    "    'ordersCummulativeB',\n",
    "    'revenueCummulativeB',\n",
    "]\n",
    "\n",
    "data = (\n",
    "    ordersADaily.merge(\n",
    "        ordersBDaily, left_on='date', right_on='date', how='left'\n",
    "    )\n",
    "    .merge(ordersACummulative, left_on='date', right_on='date', how='left')\n",
    "    .merge(ordersBCummulative, left_on='date', right_on='date', how='left')\n",
    "    .merge(visitorsADaily, left_on='date', right_on='date', how='left')\n",
    "    .merge(visitorsBDaily, left_on='date', right_on='date', how='left')\n",
    "    .merge(visitorsACummulative, left_on='date', right_on='date', how='left')\n",
    "    .merge(visitorsBCummulative, left_on='date', right_on='date', how='left')\n",
    ")\n",
    "\n",
    "#для пользователей, совершивших хотя бы 1 заказ, будет указано число заказов. \n",
    "ordersByUsersA= (\n",
    "    orders[orders['group'] == 'A'] \n",
    "    .groupby('visitorId', as_index=False)\n",
    "    .agg({'transactionId': pd.Series.nunique})\n",
    ")\n",
    "ordersByUsersA.columns = ['userId', 'orders']\n",
    "\n",
    "ordersByUsersB = (\n",
    "    orders[orders['group'] == 'B']\n",
    "    .groupby('visitorId', as_index=False)\n",
    "    .agg({'transactionId': pd.Series.nunique})\n",
    ")\n",
    "ordersByUsersB.columns = ['userId', 'orders'] \n",
    "\n",
    "#пользователям с заказами будет соответствовать число заказов пользователя. А пользователям без заказов — нули. \n",
    "sampleA = pd.concat([ordersByUsersA['orders'],\n",
    "                     pd.Series(0, index=np.arange(data['visitorsPerDateA'].sum() - len(ordersByUsersA['orders'])), \n",
    "                               name='orders')],axis=0)\n",
    "\n",
    "sampleB = pd.concat([ordersByUsersB['orders'],\n",
    "                     pd.Series(0, index=np.arange(data['visitorsPerDateB'].sum() - len(ordersByUsersB['orders'])), \n",
    "                               name='orders')],axis=0) \n",
    "\n",
    "print('P-value:', \"{0:.5f}\".format(stats.mannwhitneyu(sampleA, sampleB)[1]))\n",
    "print('Относительный прирост среднего группы В к конверсии группы А:', \n",
    "      \"{0:.3f}\".format((data['ordersPerDateB'].sum()/data['visitorsPerDateB']\\\n",
    "                        .sum())/(data['ordersPerDateA'].sum()/data['visitorsPerDateA'].sum())-1))"
   ]
  },
  {
   "cell_type": "markdown",
   "metadata": {},
   "source": [
    "__ВЫВОД:__\n",
    "\n",
    "По «сырым» данным P-value меньше 0.05, поэтому нулевую гипотезу отвергаем. Значит, в среднем количестве заказов между группами есть статистически значимые различия. Относительный прирост среднего группы В к конверсии группы А равно 16% "
   ]
  },
  {
   "cell_type": "markdown",
   "metadata": {},
   "source": [
    "Посчитаем статистическую значимость различий в среднем чеке между группами по «сырым» данным — без удаления аномальных пользователей.\n",
    "\n",
    "__Сформулируем гипотезы:__\n",
    "- __Нулевая:__ различий в среднем чеке между группами между группами нет. \n",
    "- __Альтернативная:__ различия в в среднем чеке между группами между группами есть."
   ]
  },
  {
   "cell_type": "code",
   "execution_count": 24,
   "metadata": {},
   "outputs": [
    {
     "name": "stdout",
     "output_type": "stream",
     "text": [
      "P-value: 0.829\n",
      "Относительный прирост среднего чека группы B: 0.287\n"
     ]
    }
   ],
   "source": [
    "print('P-value:','{0:.3f}'.format(stats.mannwhitneyu(orders[orders['group']=='A']['revenue'], \n",
    "                                          orders[orders['group']=='B']['revenue'])[1]))\n",
    "print('Относительный прирост среднего чека группы B:','{0:.3f}'.format(orders[orders['group']=='B']['revenue']\\\n",
    "    .mean()/orders[orders['group']=='A']['revenue'].mean()-1)) "
   ]
  },
  {
   "cell_type": "markdown",
   "metadata": {},
   "source": [
    "__ВЫВОД:__\n",
    "\n",
    "По «сырым» данным P-value больше 0.05, поэтому нулевую гипотезу не отвергаем. Значит, статистически значимых различий в среднем чеке заказов между группами нет. Однако, относительное различие среднего чека между сегментами 28,7%.\n"
   ]
  },
  {
   "cell_type": "markdown",
   "metadata": {},
   "source": [
    "Посчитаем статистическую значимость различий в среднем числе заказов на пользователя между группами уже по «очищенным» данным — с удалением аномальных пользователей.\n",
    "\n",
    "__Сформулируем гипотезы:__\n",
    "- __Нулевая:__ различий в среднем количестве заказов между группами нет. \n",
    "- __Альтернативная:__ различия в среднем количестве заказов между группами есть."
   ]
  },
  {
   "cell_type": "code",
   "execution_count": 25,
   "metadata": {},
   "outputs": [
    {
     "name": "stdout",
     "output_type": "stream",
     "text": [
      "P-value: 0.01299\n",
      "Относительный прирост среднего группы В к конверсии группы А: 0.162\n"
     ]
    }
   ],
   "source": [
    "#очистим данные от аномалий\n",
    "#уберем пользователей совершавший более 2х заказов\n",
    "usersWithManyOrders = pd.concat(\n",
    "    [\n",
    "        ordersByUsersA[ordersByUsersA['orders'] > 3]['userId'],\n",
    "        ordersByUsersB[ordersByUsersB['orders'] > 3]['userId'],\n",
    "    ],\n",
    "    axis=0,\n",
    ")\n",
    "\n",
    "#уберем пользователей совершавший заказы на сумму более 28 000 рублей\n",
    "usersWithExpensiveOrders = orders[orders['revenue'] >= 28000]['visitorId']\n",
    "\n",
    "#очищенные данные объединим в таблице abnormalUsers\n",
    "abnormalUsers = (\n",
    "     pd.concat([usersWithManyOrders, usersWithExpensiveOrders], axis=0)\n",
    "     .drop_duplicates()\n",
    "     .sort_values()\n",
    ")\n",
    "\n",
    "#print(abnormalUsers.head(5))\n",
    "\n",
    "#подготовим выборки количества заказов по пользователям по группам теста A и В\n",
    "sampleAFiltered = pd.concat(\n",
    "    [\n",
    "        ordersByUsersA[\n",
    "            np.logical_not(ordersByUsersA['userId'].isin(abnormalUsers))\n",
    "        ]['orders'],\n",
    "        pd.Series(\n",
    "            0,\n",
    "            index=np.arange(\n",
    "                data['visitorsPerDateA'].sum() - len(ordersByUsersA['orders'])\n",
    "            ),\n",
    "            name='orders',\n",
    "        ),\n",
    "    ],\n",
    "    axis=0,\n",
    ")\n",
    "\n",
    "sampleBFiltered = pd.concat(\n",
    "    [\n",
    "        ordersByUsersB[\n",
    "            np.logical_not(ordersByUsersB['userId'].isin(abnormalUsers))\n",
    "        ]['orders'],\n",
    "        pd.Series(\n",
    "            0,\n",
    "            index=np.arange(\n",
    "                data['visitorsPerDateB'].sum() - len(ordersByUsersB['orders'])\n",
    "            ),\n",
    "            name='orders',\n",
    "        ),\n",
    "    ],\n",
    "    axis=0,\n",
    ")\n",
    "\n",
    "print('P-value:','{0:.5f}'.format(stats.mannwhitneyu(sampleAFiltered, sampleBFiltered)[1]))\n",
    "print('Относительный прирост среднего группы В к конверсии группы А:','{0:.3f}'\\\n",
    "      .format(sampleBFiltered.mean()/sampleAFiltered.mean()-1))"
   ]
  },
  {
   "cell_type": "markdown",
   "metadata": {},
   "source": [
    "__ВЫВОД:__\n",
    "\n",
    "По «очищенным» данным среднего количества заказов практически не отличается от «сырых» данных. P-value меньше 0.05, поэтому нулевую гипотезу отвергаем. Значит, в среднем количестве заказов между группами есть статистически значимые различия. Относительный прирост среднего группы В к конверсии группы А равно 16.2%"
   ]
  },
  {
   "cell_type": "markdown",
   "metadata": {},
   "source": [
    "Посчитаем статистическую значимость различий в среднем чеке заказа между группами между группами уже по «очищенным» данным — с удалением аномальных пользователей.\n",
    "\n",
    "__Сформулируем гипотезы:__\n",
    "- __Нулевая:__ различий в среднем чеке заказа между группами нет. \n",
    "- __Альтернативная:__ различия в среднем чеке заказа между группами есть."
   ]
  },
  {
   "cell_type": "code",
   "execution_count": 26,
   "metadata": {},
   "outputs": [
    {
     "name": "stdout",
     "output_type": "stream",
     "text": [
      "P-value: 0.862\n",
      "Относительный прирост среднего чека группы B: -0.028\n"
     ]
    }
   ],
   "source": [
    "print( 'P-value:',\n",
    "    '{0:.3f}'.format(\n",
    "        stats.mannwhitneyu(\n",
    "            orders[\n",
    "                np.logical_and(\n",
    "                    orders['group'] == 'A',\n",
    "                    np.logical_not(orders['visitorId'].isin(abnormalUsers)),\n",
    "                )\n",
    "            ]['revenue'],\n",
    "            orders[\n",
    "                np.logical_and(\n",
    "                    orders['group'] == 'B',\n",
    "                    np.logical_not(orders['visitorId'].isin(abnormalUsers)),\n",
    "                )\n",
    "            ]['revenue'],\n",
    "        )[1]\n",
    "    )\n",
    ")\n",
    "\n",
    "print('Относительный прирост среднего чека группы B:',\n",
    "    \"{0:.3f}\".format(\n",
    "        orders[\n",
    "            np.logical_and(\n",
    "                orders['group'] == 'B',\n",
    "                np.logical_not(orders['visitorId'].isin(abnormalUsers)),\n",
    "            )\n",
    "        ]['revenue'].mean()\n",
    "        / orders[\n",
    "            np.logical_and(\n",
    "                orders['group'] == 'A',\n",
    "                np.logical_not(orders['visitorId'].isin(abnormalUsers)),\n",
    "            )\n",
    "        ]['revenue'].mean()\n",
    "        - 1\n",
    "    )\n",
    ")"
   ]
  },
  {
   "cell_type": "markdown",
   "metadata": {},
   "source": [
    "__ВЫВОД:__\n",
    "\n",
    "P-value посчитанный по  «очищенным» данным увеличился по сравнению с посчитанным по \"сырым\" данным, но и разница между сегментами значительно сократилась. Хотя общие выводы по результатам теста не изменились. \n",
    "\n",
    "P-value больше 0.05, поэтому нулевую гипотезу не отвергаем. Значит, статистически значимых различий в среднем чеке заказов между группами нет. Однако, относительное различие среднего чека между сегментами 0,3%."
   ]
  },
  {
   "cell_type": "markdown",
   "metadata": {},
   "source": [
    "## Общий вывод.\n",
    "\n",
    "В проекте была проделана следующая работа: \n",
    "- приоритизация выставленных гипотез по увеличению выручки по методу ICE и RICE; \n",
    "- проведение A/B-теста: обработка данных, анализ графиков метрик, анализ выбросов и их удаление, анализ A/B-теста.\n",
    "\n",
    "\n",
    "Приоритизация гипотез вывела следующих лидеров:  \n",
    "1. Добавить два новых канала привлечения трафика, что позволит привлекать на 30% больше пользователей;\t\n",
    "2. Запустить собственную службу доставки, что сократит срок доставки заказов;\t\n",
    "3. Добавить блоки рекомендаций товаров на сайт интернет магазина, чтобы повысить конверсию и средний чек заказа;\t\n",
    "4. Изменить структура категорий, что увеличит конверсию, т.к. пользователи быстрее найдут нужный товар.\n",
    "\n",
    "Анализ A/B-теста показал, что: \n",
    "- Есть статистически значимое различие по среднему количеству заказов между группами по «сырым» и по данным после фильтрации аномалий;\n",
    "- Нет статистически значимого различия по среднему чеку между группами ни по «сырым», ни по данным после фильтрации аномалий;\n",
    "- График кумулятивной выручки по дням по группам показал, что в начале теста сегмент А и В шли практически наравне, затем В вырвался примерно на 9% вперёд и больше не уступал лидерство. \n",
    "- График кумулятивного среднего чека заказов на посетителя по группам показал, что в начале теста сегмент А имел большую конверсию, затем сегмент В выровнялся и его конверсия стала, больше конверсии сегмента А примерно на 20%.\n",
    "- График относительного изменения кумулятивного среднего количества заказов на посетителя группы B к группе A показал, что в начале теста группа B немного проигрывала группе A, затем вырвалась вперёд. На данный момент группа В выигрывает группу А, примерно на 10%.\n",
    "\n",
    "Исходя из обнаруженных фактов, тест следует остановить и признать его успешным. Успешнее оказалась группа В. "
   ]
  }
 ],
 "metadata": {
  "ExecuteTimeLog": [
   {
    "duration": 803,
    "start_time": "2023-01-14T13:28:31.723Z"
   },
   {
    "duration": 68,
    "start_time": "2023-01-14T13:37:40.834Z"
   },
   {
    "duration": 18,
    "start_time": "2023-01-14T13:37:55.059Z"
   },
   {
    "duration": 8,
    "start_time": "2023-01-14T14:16:32.879Z"
   },
   {
    "duration": 12,
    "start_time": "2023-01-14T14:16:47.865Z"
   },
   {
    "duration": 12,
    "start_time": "2023-01-14T14:16:52.498Z"
   },
   {
    "duration": 3,
    "start_time": "2023-01-14T14:18:52.239Z"
   },
   {
    "duration": 10,
    "start_time": "2023-01-14T14:21:19.065Z"
   },
   {
    "duration": 16,
    "start_time": "2023-01-14T14:24:00.970Z"
   },
   {
    "duration": 15,
    "start_time": "2023-01-14T14:25:37.767Z"
   },
   {
    "duration": 49,
    "start_time": "2023-01-16T08:32:12.564Z"
   },
   {
    "duration": 864,
    "start_time": "2023-01-16T08:32:26.734Z"
   },
   {
    "duration": 68,
    "start_time": "2023-01-16T08:32:27.601Z"
   },
   {
    "duration": 12,
    "start_time": "2023-01-16T08:32:27.671Z"
   },
   {
    "duration": 38,
    "start_time": "2023-01-16T08:32:27.685Z"
   },
   {
    "duration": 13,
    "start_time": "2023-01-16T08:35:06.414Z"
   },
   {
    "duration": 636,
    "start_time": "2023-01-16T10:18:03.059Z"
   },
   {
    "duration": 40,
    "start_time": "2023-01-16T10:18:03.697Z"
   },
   {
    "duration": 14,
    "start_time": "2023-01-16T10:18:03.739Z"
   },
   {
    "duration": 17,
    "start_time": "2023-01-16T10:18:03.755Z"
   },
   {
    "duration": 14,
    "start_time": "2023-01-16T10:18:03.774Z"
   },
   {
    "duration": 9,
    "start_time": "2023-01-16T10:18:56.595Z"
   },
   {
    "duration": 702,
    "start_time": "2023-01-16T10:19:05.225Z"
   },
   {
    "duration": 28,
    "start_time": "2023-01-16T10:19:05.930Z"
   },
   {
    "duration": 21,
    "start_time": "2023-01-16T10:19:05.961Z"
   },
   {
    "duration": 35,
    "start_time": "2023-01-16T10:19:05.984Z"
   },
   {
    "duration": 42,
    "start_time": "2023-01-16T10:19:06.023Z"
   },
   {
    "duration": 145,
    "start_time": "2023-01-16T10:21:29.192Z"
   },
   {
    "duration": 12,
    "start_time": "2023-01-16T10:22:05.523Z"
   },
   {
    "duration": 8,
    "start_time": "2023-01-16T10:22:18.025Z"
   },
   {
    "duration": 3,
    "start_time": "2023-01-16T10:22:25.748Z"
   },
   {
    "duration": 10,
    "start_time": "2023-01-16T10:23:04.605Z"
   },
   {
    "duration": 9,
    "start_time": "2023-01-16T10:23:07.459Z"
   },
   {
    "duration": 13,
    "start_time": "2023-01-16T12:07:55.280Z"
   },
   {
    "duration": 12,
    "start_time": "2023-01-16T12:08:05.550Z"
   },
   {
    "duration": 430,
    "start_time": "2023-01-16T12:10:55.101Z"
   },
   {
    "duration": 23,
    "start_time": "2023-01-16T12:11:40.075Z"
   },
   {
    "duration": 5,
    "start_time": "2023-01-16T12:15:52.174Z"
   },
   {
    "duration": 12,
    "start_time": "2023-01-16T12:16:05.521Z"
   },
   {
    "duration": 9,
    "start_time": "2023-01-16T12:33:19.725Z"
   },
   {
    "duration": 16,
    "start_time": "2023-01-16T12:33:41.740Z"
   },
   {
    "duration": 4,
    "start_time": "2023-01-16T13:24:47.796Z"
   },
   {
    "duration": 35,
    "start_time": "2023-01-16T13:36:31.267Z"
   },
   {
    "duration": 36,
    "start_time": "2023-01-16T13:41:48.999Z"
   },
   {
    "duration": 26,
    "start_time": "2023-01-16T13:42:18.892Z"
   },
   {
    "duration": 674,
    "start_time": "2023-01-16T13:51:08.668Z"
   },
   {
    "duration": 24,
    "start_time": "2023-01-16T13:51:09.345Z"
   },
   {
    "duration": 13,
    "start_time": "2023-01-16T13:51:09.371Z"
   },
   {
    "duration": 24,
    "start_time": "2023-01-16T13:51:09.386Z"
   },
   {
    "duration": 12,
    "start_time": "2023-01-16T13:51:09.413Z"
   },
   {
    "duration": 52,
    "start_time": "2023-01-16T13:51:09.427Z"
   },
   {
    "duration": 17,
    "start_time": "2023-01-16T13:51:09.481Z"
   },
   {
    "duration": 20,
    "start_time": "2023-01-16T13:51:09.500Z"
   },
   {
    "duration": 25,
    "start_time": "2023-01-16T13:51:09.522Z"
   },
   {
    "duration": 8,
    "start_time": "2023-01-16T13:51:09.550Z"
   },
   {
    "duration": 19,
    "start_time": "2023-01-16T13:51:09.560Z"
   },
   {
    "duration": 17,
    "start_time": "2023-01-16T13:51:09.581Z"
   },
   {
    "duration": 120,
    "start_time": "2023-01-16T13:51:09.604Z"
   },
   {
    "duration": 1463,
    "start_time": "2023-01-16T13:55:22.430Z"
   },
   {
    "duration": 1111,
    "start_time": "2023-01-16T13:55:37.175Z"
   },
   {
    "duration": 1040,
    "start_time": "2023-01-16T13:56:43.322Z"
   },
   {
    "duration": 1140,
    "start_time": "2023-01-16T13:56:56.681Z"
   },
   {
    "duration": 978,
    "start_time": "2023-01-16T13:57:19.104Z"
   },
   {
    "duration": 27,
    "start_time": "2023-01-16T13:57:20.085Z"
   },
   {
    "duration": 19,
    "start_time": "2023-01-16T13:57:20.114Z"
   },
   {
    "duration": 30,
    "start_time": "2023-01-16T13:57:20.135Z"
   },
   {
    "duration": 19,
    "start_time": "2023-01-16T13:57:20.173Z"
   },
   {
    "duration": 50,
    "start_time": "2023-01-16T13:57:20.204Z"
   },
   {
    "duration": 19,
    "start_time": "2023-01-16T13:57:20.257Z"
   },
   {
    "duration": 20,
    "start_time": "2023-01-16T13:57:20.279Z"
   },
   {
    "duration": 23,
    "start_time": "2023-01-16T13:57:20.302Z"
   },
   {
    "duration": 8,
    "start_time": "2023-01-16T13:57:20.328Z"
   },
   {
    "duration": 20,
    "start_time": "2023-01-16T13:57:20.340Z"
   },
   {
    "duration": 17,
    "start_time": "2023-01-16T13:57:20.362Z"
   },
   {
    "duration": 160,
    "start_time": "2023-01-16T13:57:20.381Z"
   },
   {
    "duration": 731,
    "start_time": "2023-01-16T14:01:02.981Z"
   },
   {
    "duration": 879,
    "start_time": "2023-01-16T14:04:03.150Z"
   },
   {
    "duration": 751,
    "start_time": "2023-01-16T14:04:26.815Z"
   },
   {
    "duration": 970,
    "start_time": "2023-01-16T14:05:42.083Z"
   },
   {
    "duration": 847,
    "start_time": "2023-01-16T14:06:08.633Z"
   },
   {
    "duration": 1073,
    "start_time": "2023-01-16T14:10:54.611Z"
   },
   {
    "duration": 813,
    "start_time": "2023-01-16T14:17:08.502Z"
   },
   {
    "duration": 706,
    "start_time": "2023-01-16T14:31:21.244Z"
   },
   {
    "duration": 702,
    "start_time": "2023-01-16T14:32:06.571Z"
   },
   {
    "duration": 207,
    "start_time": "2023-01-16T14:36:03.601Z"
   },
   {
    "duration": 208,
    "start_time": "2023-01-16T14:36:26.385Z"
   },
   {
    "duration": 224,
    "start_time": "2023-01-16T14:36:45.956Z"
   },
   {
    "duration": 10,
    "start_time": "2023-01-16T14:59:20.862Z"
   },
   {
    "duration": 991,
    "start_time": "2023-01-16T14:59:33.254Z"
   },
   {
    "duration": 815,
    "start_time": "2023-01-16T14:59:49.980Z"
   },
   {
    "duration": 780,
    "start_time": "2023-01-16T15:00:00.330Z"
   },
   {
    "duration": 618,
    "start_time": "2023-01-16T15:01:03.429Z"
   },
   {
    "duration": 356,
    "start_time": "2023-01-16T15:01:15.328Z"
   },
   {
    "duration": 367,
    "start_time": "2023-01-16T15:01:43.945Z"
   },
   {
    "duration": 327,
    "start_time": "2023-01-16T15:03:01.892Z"
   },
   {
    "duration": 304,
    "start_time": "2023-01-16T15:04:03.325Z"
   },
   {
    "duration": 429,
    "start_time": "2023-01-16T15:04:40.166Z"
   },
   {
    "duration": 226,
    "start_time": "2023-01-16T15:12:48.256Z"
   },
   {
    "duration": 208,
    "start_time": "2023-01-16T15:12:54.550Z"
   },
   {
    "duration": 295,
    "start_time": "2023-01-16T15:13:34.489Z"
   },
   {
    "duration": 675,
    "start_time": "2023-01-16T18:33:04.104Z"
   },
   {
    "duration": 580,
    "start_time": "2023-01-16T18:33:19.985Z"
   },
   {
    "duration": 650,
    "start_time": "2023-01-16T18:33:34.303Z"
   },
   {
    "duration": 23,
    "start_time": "2023-01-16T18:33:34.955Z"
   },
   {
    "duration": 11,
    "start_time": "2023-01-16T18:33:34.980Z"
   },
   {
    "duration": 31,
    "start_time": "2023-01-16T18:33:34.992Z"
   },
   {
    "duration": 12,
    "start_time": "2023-01-16T18:33:35.025Z"
   },
   {
    "duration": 82,
    "start_time": "2023-01-16T18:33:35.038Z"
   },
   {
    "duration": 12,
    "start_time": "2023-01-16T18:33:35.122Z"
   },
   {
    "duration": 40,
    "start_time": "2023-01-16T18:33:35.136Z"
   },
   {
    "duration": 24,
    "start_time": "2023-01-16T18:33:35.177Z"
   },
   {
    "duration": 26,
    "start_time": "2023-01-16T18:33:35.202Z"
   },
   {
    "duration": 45,
    "start_time": "2023-01-16T18:33:35.230Z"
   },
   {
    "duration": 27,
    "start_time": "2023-01-16T18:33:35.276Z"
   },
   {
    "duration": 131,
    "start_time": "2023-01-16T18:33:35.304Z"
   },
   {
    "duration": 0,
    "start_time": "2023-01-16T18:33:35.437Z"
   },
   {
    "duration": 0,
    "start_time": "2023-01-16T18:33:35.438Z"
   },
   {
    "duration": 0,
    "start_time": "2023-01-16T18:33:35.439Z"
   },
   {
    "duration": 770,
    "start_time": "2023-01-16T20:40:29.964Z"
   },
   {
    "duration": 664,
    "start_time": "2023-01-16T20:40:48.748Z"
   },
   {
    "duration": 302,
    "start_time": "2023-01-17T08:41:42.783Z"
   },
   {
    "duration": 315,
    "start_time": "2023-01-17T08:42:17.582Z"
   },
   {
    "duration": 190,
    "start_time": "2023-01-17T08:43:30.329Z"
   },
   {
    "duration": 244,
    "start_time": "2023-01-17T08:43:35.551Z"
   },
   {
    "duration": 190,
    "start_time": "2023-01-17T08:43:42.518Z"
   },
   {
    "duration": 299,
    "start_time": "2023-01-17T08:44:17.234Z"
   },
   {
    "duration": 79,
    "start_time": "2023-01-17T08:44:34.219Z"
   },
   {
    "duration": 320,
    "start_time": "2023-01-17T08:44:51.601Z"
   },
   {
    "duration": 283,
    "start_time": "2023-01-17T08:44:57.736Z"
   },
   {
    "duration": 130,
    "start_time": "2023-01-17T09:47:55.711Z"
   },
   {
    "duration": 131,
    "start_time": "2023-01-17T09:48:27.467Z"
   },
   {
    "duration": 205,
    "start_time": "2023-01-17T09:49:17.305Z"
   },
   {
    "duration": 5,
    "start_time": "2023-01-17T10:09:20.844Z"
   },
   {
    "duration": 10,
    "start_time": "2023-01-17T10:22:32.861Z"
   },
   {
    "duration": 142,
    "start_time": "2023-01-17T10:23:05.533Z"
   },
   {
    "duration": 207,
    "start_time": "2023-01-17T10:23:19.876Z"
   },
   {
    "duration": 167,
    "start_time": "2023-01-17T10:23:53.375Z"
   },
   {
    "duration": 179,
    "start_time": "2023-01-17T11:05:25.652Z"
   },
   {
    "duration": 165,
    "start_time": "2023-01-17T11:05:39.283Z"
   },
   {
    "duration": 4,
    "start_time": "2023-01-17T11:08:05.431Z"
   },
   {
    "duration": 6,
    "start_time": "2023-01-17T11:10:02.975Z"
   },
   {
    "duration": 11,
    "start_time": "2023-01-17T11:10:24.177Z"
   },
   {
    "duration": 9,
    "start_time": "2023-01-17T11:10:47.004Z"
   },
   {
    "duration": 9,
    "start_time": "2023-01-17T11:11:07.609Z"
   },
   {
    "duration": 6,
    "start_time": "2023-01-17T11:11:44.384Z"
   },
   {
    "duration": 170,
    "start_time": "2023-01-17T11:14:08.293Z"
   },
   {
    "duration": 163,
    "start_time": "2023-01-17T11:15:17.327Z"
   },
   {
    "duration": 163,
    "start_time": "2023-01-17T11:15:29.641Z"
   },
   {
    "duration": 163,
    "start_time": "2023-01-17T11:15:34.977Z"
   },
   {
    "duration": 169,
    "start_time": "2023-01-17T11:15:46.812Z"
   },
   {
    "duration": 486,
    "start_time": "2023-01-17T11:53:35.651Z"
   },
   {
    "duration": 664,
    "start_time": "2023-01-17T11:54:18.435Z"
   },
   {
    "duration": 712,
    "start_time": "2023-01-17T11:54:27.020Z"
   },
   {
    "duration": 23,
    "start_time": "2023-01-17T11:54:27.735Z"
   },
   {
    "duration": 12,
    "start_time": "2023-01-17T11:54:27.760Z"
   },
   {
    "duration": 13,
    "start_time": "2023-01-17T11:54:27.774Z"
   },
   {
    "duration": 22,
    "start_time": "2023-01-17T11:54:27.790Z"
   },
   {
    "duration": 47,
    "start_time": "2023-01-17T11:54:27.814Z"
   },
   {
    "duration": 16,
    "start_time": "2023-01-17T11:54:27.863Z"
   },
   {
    "duration": 21,
    "start_time": "2023-01-17T11:54:27.881Z"
   },
   {
    "duration": 19,
    "start_time": "2023-01-17T11:54:27.904Z"
   },
   {
    "duration": 10,
    "start_time": "2023-01-17T11:54:27.925Z"
   },
   {
    "duration": 15,
    "start_time": "2023-01-17T11:54:27.937Z"
   },
   {
    "duration": 22,
    "start_time": "2023-01-17T11:54:27.954Z"
   },
   {
    "duration": 804,
    "start_time": "2023-01-17T11:54:27.977Z"
   },
   {
    "duration": 210,
    "start_time": "2023-01-17T11:54:28.785Z"
   },
   {
    "duration": 349,
    "start_time": "2023-01-17T11:54:28.997Z"
   },
   {
    "duration": 295,
    "start_time": "2023-01-17T11:54:29.349Z"
   },
   {
    "duration": 304,
    "start_time": "2023-01-17T11:54:29.646Z"
   },
   {
    "duration": 195,
    "start_time": "2023-01-17T11:54:29.952Z"
   },
   {
    "duration": 5,
    "start_time": "2023-01-17T11:54:30.148Z"
   },
   {
    "duration": 196,
    "start_time": "2023-01-17T11:54:30.155Z"
   },
   {
    "duration": 5,
    "start_time": "2023-01-17T11:54:30.353Z"
   },
   {
    "duration": 1121,
    "start_time": "2023-01-17T11:54:30.360Z"
   },
   {
    "duration": 622,
    "start_time": "2023-01-17T11:55:44.151Z"
   },
   {
    "duration": 24,
    "start_time": "2023-01-17T11:55:44.775Z"
   },
   {
    "duration": 11,
    "start_time": "2023-01-17T11:55:44.801Z"
   },
   {
    "duration": 14,
    "start_time": "2023-01-17T11:55:44.813Z"
   },
   {
    "duration": 9,
    "start_time": "2023-01-17T11:55:44.829Z"
   },
   {
    "duration": 50,
    "start_time": "2023-01-17T11:55:44.839Z"
   },
   {
    "duration": 11,
    "start_time": "2023-01-17T11:55:44.891Z"
   },
   {
    "duration": 11,
    "start_time": "2023-01-17T11:55:44.903Z"
   },
   {
    "duration": 19,
    "start_time": "2023-01-17T11:55:44.916Z"
   },
   {
    "duration": 23,
    "start_time": "2023-01-17T11:55:44.938Z"
   },
   {
    "duration": 12,
    "start_time": "2023-01-17T11:55:44.962Z"
   },
   {
    "duration": 12,
    "start_time": "2023-01-17T11:55:44.976Z"
   },
   {
    "duration": 95,
    "start_time": "2023-01-17T11:55:44.989Z"
   },
   {
    "duration": 0,
    "start_time": "2023-01-17T11:55:45.086Z"
   },
   {
    "duration": 0,
    "start_time": "2023-01-17T11:55:45.088Z"
   },
   {
    "duration": 0,
    "start_time": "2023-01-17T11:55:45.090Z"
   },
   {
    "duration": 0,
    "start_time": "2023-01-17T11:55:45.091Z"
   },
   {
    "duration": 0,
    "start_time": "2023-01-17T11:55:45.093Z"
   },
   {
    "duration": 0,
    "start_time": "2023-01-17T11:55:45.105Z"
   },
   {
    "duration": 0,
    "start_time": "2023-01-17T11:55:45.107Z"
   },
   {
    "duration": 0,
    "start_time": "2023-01-17T11:55:45.108Z"
   },
   {
    "duration": 0,
    "start_time": "2023-01-17T11:55:45.110Z"
   },
   {
    "duration": 3,
    "start_time": "2023-01-17T11:56:28.569Z"
   },
   {
    "duration": 53,
    "start_time": "2023-01-17T11:56:39.615Z"
   },
   {
    "duration": 12,
    "start_time": "2023-01-17T11:56:42.906Z"
   },
   {
    "duration": 27,
    "start_time": "2023-01-17T11:56:45.734Z"
   },
   {
    "duration": 761,
    "start_time": "2023-01-17T11:57:04.308Z"
   },
   {
    "duration": 652,
    "start_time": "2023-01-17T11:57:13.406Z"
   },
   {
    "duration": 25,
    "start_time": "2023-01-17T11:57:14.059Z"
   },
   {
    "duration": 11,
    "start_time": "2023-01-17T11:57:14.086Z"
   },
   {
    "duration": 14,
    "start_time": "2023-01-17T11:57:14.099Z"
   },
   {
    "duration": 11,
    "start_time": "2023-01-17T11:57:14.115Z"
   },
   {
    "duration": 58,
    "start_time": "2023-01-17T11:57:14.127Z"
   },
   {
    "duration": 12,
    "start_time": "2023-01-17T11:57:14.187Z"
   },
   {
    "duration": 16,
    "start_time": "2023-01-17T11:57:14.201Z"
   },
   {
    "duration": 17,
    "start_time": "2023-01-17T11:57:14.219Z"
   },
   {
    "duration": 4,
    "start_time": "2023-01-17T11:57:14.239Z"
   },
   {
    "duration": 17,
    "start_time": "2023-01-17T11:57:14.244Z"
   },
   {
    "duration": 23,
    "start_time": "2023-01-17T11:57:14.262Z"
   },
   {
    "duration": 787,
    "start_time": "2023-01-17T11:57:14.287Z"
   },
   {
    "duration": 220,
    "start_time": "2023-01-17T11:57:15.076Z"
   },
   {
    "duration": 312,
    "start_time": "2023-01-17T11:57:15.298Z"
   },
   {
    "duration": 258,
    "start_time": "2023-01-17T11:57:15.612Z"
   },
   {
    "duration": 361,
    "start_time": "2023-01-17T11:57:15.872Z"
   },
   {
    "duration": 194,
    "start_time": "2023-01-17T11:57:16.235Z"
   },
   {
    "duration": 4,
    "start_time": "2023-01-17T11:57:16.431Z"
   },
   {
    "duration": 244,
    "start_time": "2023-01-17T11:57:16.436Z"
   },
   {
    "duration": 5,
    "start_time": "2023-01-17T11:57:16.682Z"
   },
   {
    "duration": 1126,
    "start_time": "2023-01-17T11:57:16.689Z"
   },
   {
    "duration": 609,
    "start_time": "2023-01-17T12:07:52.320Z"
   },
   {
    "duration": 665,
    "start_time": "2023-01-17T12:16:17.886Z"
   },
   {
    "duration": 560,
    "start_time": "2023-01-17T12:16:38.868Z"
   },
   {
    "duration": 671,
    "start_time": "2023-01-17T12:16:46.087Z"
   },
   {
    "duration": 611,
    "start_time": "2023-01-17T12:16:58.474Z"
   },
   {
    "duration": 302,
    "start_time": "2023-01-17T12:17:15.891Z"
   },
   {
    "duration": 672,
    "start_time": "2023-01-17T12:17:24.789Z"
   },
   {
    "duration": 24,
    "start_time": "2023-01-17T12:17:25.463Z"
   },
   {
    "duration": 38,
    "start_time": "2023-01-17T12:17:25.489Z"
   },
   {
    "duration": 53,
    "start_time": "2023-01-17T12:17:25.529Z"
   },
   {
    "duration": 102,
    "start_time": "2023-01-17T12:17:25.584Z"
   },
   {
    "duration": 91,
    "start_time": "2023-01-17T12:17:25.688Z"
   },
   {
    "duration": 11,
    "start_time": "2023-01-17T12:17:25.781Z"
   },
   {
    "duration": 26,
    "start_time": "2023-01-17T12:17:25.794Z"
   },
   {
    "duration": 33,
    "start_time": "2023-01-17T12:17:25.822Z"
   },
   {
    "duration": 29,
    "start_time": "2023-01-17T12:17:25.857Z"
   },
   {
    "duration": 21,
    "start_time": "2023-01-17T12:17:25.887Z"
   },
   {
    "duration": 42,
    "start_time": "2023-01-17T12:17:25.909Z"
   },
   {
    "duration": 820,
    "start_time": "2023-01-17T12:17:25.953Z"
   },
   {
    "duration": 221,
    "start_time": "2023-01-17T12:17:26.776Z"
   },
   {
    "duration": 338,
    "start_time": "2023-01-17T12:17:26.998Z"
   },
   {
    "duration": 308,
    "start_time": "2023-01-17T12:17:27.338Z"
   },
   {
    "duration": 299,
    "start_time": "2023-01-17T12:17:27.648Z"
   },
   {
    "duration": 174,
    "start_time": "2023-01-17T12:17:27.948Z"
   },
   {
    "duration": 6,
    "start_time": "2023-01-17T12:17:28.124Z"
   },
   {
    "duration": 232,
    "start_time": "2023-01-17T12:17:28.132Z"
   },
   {
    "duration": 5,
    "start_time": "2023-01-17T12:17:28.366Z"
   },
   {
    "duration": 380,
    "start_time": "2023-01-17T12:17:28.372Z"
   },
   {
    "duration": 570,
    "start_time": "2023-01-17T12:20:01.154Z"
   },
   {
    "duration": 1153,
    "start_time": "2023-01-17T12:20:20.486Z"
   },
   {
    "duration": 667,
    "start_time": "2023-01-17T12:20:27.886Z"
   },
   {
    "duration": 777,
    "start_time": "2023-01-17T12:21:46.837Z"
   },
   {
    "duration": 702,
    "start_time": "2023-01-17T12:23:05.088Z"
   },
   {
    "duration": 25,
    "start_time": "2023-01-17T12:23:05.792Z"
   },
   {
    "duration": 12,
    "start_time": "2023-01-17T12:23:05.819Z"
   },
   {
    "duration": 35,
    "start_time": "2023-01-17T12:23:05.833Z"
   },
   {
    "duration": 14,
    "start_time": "2023-01-17T12:23:05.869Z"
   },
   {
    "duration": 57,
    "start_time": "2023-01-17T12:23:05.885Z"
   },
   {
    "duration": 12,
    "start_time": "2023-01-17T12:23:05.943Z"
   },
   {
    "duration": 23,
    "start_time": "2023-01-17T12:23:05.957Z"
   },
   {
    "duration": 44,
    "start_time": "2023-01-17T12:23:05.982Z"
   },
   {
    "duration": 33,
    "start_time": "2023-01-17T12:23:06.029Z"
   },
   {
    "duration": 130,
    "start_time": "2023-01-17T12:23:06.064Z"
   },
   {
    "duration": 754,
    "start_time": "2023-01-17T12:23:06.196Z"
   },
   {
    "duration": 228,
    "start_time": "2023-01-17T12:23:06.952Z"
   },
   {
    "duration": 368,
    "start_time": "2023-01-17T12:23:07.182Z"
   },
   {
    "duration": 293,
    "start_time": "2023-01-17T12:23:07.552Z"
   },
   {
    "duration": 294,
    "start_time": "2023-01-17T12:23:07.847Z"
   },
   {
    "duration": 192,
    "start_time": "2023-01-17T12:23:08.143Z"
   },
   {
    "duration": 4,
    "start_time": "2023-01-17T12:23:08.337Z"
   },
   {
    "duration": 194,
    "start_time": "2023-01-17T12:23:08.343Z"
   },
   {
    "duration": 5,
    "start_time": "2023-01-17T12:23:08.538Z"
   },
   {
    "duration": 1030,
    "start_time": "2023-01-17T12:23:08.545Z"
   },
   {
    "duration": 11,
    "start_time": "2023-01-17T12:29:11.735Z"
   },
   {
    "duration": 54,
    "start_time": "2023-01-17T12:29:36.914Z"
   },
   {
    "duration": 12,
    "start_time": "2023-01-17T12:29:39.966Z"
   },
   {
    "duration": 11,
    "start_time": "2023-01-17T12:29:44.586Z"
   },
   {
    "duration": 13,
    "start_time": "2023-01-17T12:29:47.077Z"
   },
   {
    "duration": 8,
    "start_time": "2023-01-17T12:29:48.885Z"
   },
   {
    "duration": 564,
    "start_time": "2023-01-17T12:33:01.719Z"
   },
   {
    "duration": 207,
    "start_time": "2023-01-17T17:53:41.001Z"
   },
   {
    "duration": 198,
    "start_time": "2023-01-17T18:14:12.739Z"
   },
   {
    "duration": 310,
    "start_time": "2023-01-17T18:17:59.173Z"
   },
   {
    "duration": 192,
    "start_time": "2023-01-17T18:18:46.041Z"
   },
   {
    "duration": 193,
    "start_time": "2023-01-17T18:18:51.531Z"
   },
   {
    "duration": 645,
    "start_time": "2023-01-17T18:19:54.253Z"
   },
   {
    "duration": 24,
    "start_time": "2023-01-17T18:19:54.900Z"
   },
   {
    "duration": 14,
    "start_time": "2023-01-17T18:19:54.925Z"
   },
   {
    "duration": 33,
    "start_time": "2023-01-17T18:19:54.942Z"
   },
   {
    "duration": 10,
    "start_time": "2023-01-17T18:19:54.977Z"
   },
   {
    "duration": 49,
    "start_time": "2023-01-17T18:19:54.989Z"
   },
   {
    "duration": 11,
    "start_time": "2023-01-17T18:19:55.040Z"
   },
   {
    "duration": 15,
    "start_time": "2023-01-17T18:19:55.053Z"
   },
   {
    "duration": 33,
    "start_time": "2023-01-17T18:19:55.070Z"
   },
   {
    "duration": 71,
    "start_time": "2023-01-17T18:19:55.105Z"
   },
   {
    "duration": 0,
    "start_time": "2023-01-17T18:19:55.177Z"
   },
   {
    "duration": 0,
    "start_time": "2023-01-17T18:19:55.178Z"
   },
   {
    "duration": 0,
    "start_time": "2023-01-17T18:19:55.180Z"
   },
   {
    "duration": 0,
    "start_time": "2023-01-17T18:19:55.181Z"
   },
   {
    "duration": 0,
    "start_time": "2023-01-17T18:19:55.182Z"
   },
   {
    "duration": 0,
    "start_time": "2023-01-17T18:19:55.183Z"
   },
   {
    "duration": 0,
    "start_time": "2023-01-17T18:19:55.184Z"
   },
   {
    "duration": 0,
    "start_time": "2023-01-17T18:19:55.185Z"
   },
   {
    "duration": 0,
    "start_time": "2023-01-17T18:19:55.186Z"
   },
   {
    "duration": 0,
    "start_time": "2023-01-17T18:19:55.187Z"
   },
   {
    "duration": 67,
    "start_time": "2023-01-17T18:20:10.590Z"
   },
   {
    "duration": 553,
    "start_time": "2023-01-17T18:20:47.707Z"
   },
   {
    "duration": 225,
    "start_time": "2023-01-17T18:21:08.075Z"
   },
   {
    "duration": 334,
    "start_time": "2023-01-17T18:21:14.301Z"
   },
   {
    "duration": 498,
    "start_time": "2023-01-17T18:22:11.248Z"
   },
   {
    "duration": 213,
    "start_time": "2023-01-17T18:22:14.109Z"
   },
   {
    "duration": 307,
    "start_time": "2023-01-17T18:22:17.450Z"
   },
   {
    "duration": 181,
    "start_time": "2023-01-17T18:22:20.808Z"
   },
   {
    "duration": 455,
    "start_time": "2023-01-17T18:32:09.240Z"
   },
   {
    "duration": 171,
    "start_time": "2023-01-17T18:32:15.442Z"
   },
   {
    "duration": 165,
    "start_time": "2023-01-17T18:33:06.528Z"
   },
   {
    "duration": 644,
    "start_time": "2023-01-17T18:33:25.501Z"
   },
   {
    "duration": 548,
    "start_time": "2023-01-17T18:33:36.742Z"
   },
   {
    "duration": 691,
    "start_time": "2023-01-17T18:34:07.045Z"
   },
   {
    "duration": 24,
    "start_time": "2023-01-17T18:34:07.738Z"
   },
   {
    "duration": 15,
    "start_time": "2023-01-17T18:34:07.764Z"
   },
   {
    "duration": 15,
    "start_time": "2023-01-17T18:34:07.781Z"
   },
   {
    "duration": 16,
    "start_time": "2023-01-17T18:34:07.798Z"
   },
   {
    "duration": 48,
    "start_time": "2023-01-17T18:34:07.816Z"
   },
   {
    "duration": 12,
    "start_time": "2023-01-17T18:34:07.865Z"
   },
   {
    "duration": 19,
    "start_time": "2023-01-17T18:34:07.878Z"
   },
   {
    "duration": 18,
    "start_time": "2023-01-17T18:34:07.898Z"
   },
   {
    "duration": 601,
    "start_time": "2023-01-17T18:34:07.918Z"
   },
   {
    "duration": 212,
    "start_time": "2023-01-17T18:34:08.521Z"
   },
   {
    "duration": 314,
    "start_time": "2023-01-17T18:34:08.735Z"
   },
   {
    "duration": 347,
    "start_time": "2023-01-17T18:34:09.050Z"
   },
   {
    "duration": 0,
    "start_time": "2023-01-17T18:34:09.399Z"
   },
   {
    "duration": 0,
    "start_time": "2023-01-17T18:34:09.400Z"
   },
   {
    "duration": 0,
    "start_time": "2023-01-17T18:34:09.404Z"
   },
   {
    "duration": 0,
    "start_time": "2023-01-17T18:34:09.406Z"
   },
   {
    "duration": 0,
    "start_time": "2023-01-17T18:34:09.407Z"
   },
   {
    "duration": 0,
    "start_time": "2023-01-17T18:34:09.408Z"
   },
   {
    "duration": 0,
    "start_time": "2023-01-17T18:34:09.409Z"
   },
   {
    "duration": 153,
    "start_time": "2023-01-17T18:34:38.842Z"
   },
   {
    "duration": 456,
    "start_time": "2023-01-17T18:35:33.651Z"
   },
   {
    "duration": 184,
    "start_time": "2023-01-17T18:35:39.915Z"
   },
   {
    "duration": 10,
    "start_time": "2023-01-17T18:36:47.176Z"
   },
   {
    "duration": 9,
    "start_time": "2023-01-17T18:42:03.406Z"
   },
   {
    "duration": 10,
    "start_time": "2023-01-17T18:43:41.578Z"
   },
   {
    "duration": 164,
    "start_time": "2023-01-17T18:52:43.112Z"
   },
   {
    "duration": 658,
    "start_time": "2023-01-17T18:52:51.341Z"
   },
   {
    "duration": 23,
    "start_time": "2023-01-17T18:52:52.004Z"
   },
   {
    "duration": 11,
    "start_time": "2023-01-17T18:52:52.029Z"
   },
   {
    "duration": 16,
    "start_time": "2023-01-17T18:52:52.041Z"
   },
   {
    "duration": 11,
    "start_time": "2023-01-17T18:52:52.058Z"
   },
   {
    "duration": 55,
    "start_time": "2023-01-17T18:52:52.071Z"
   },
   {
    "duration": 16,
    "start_time": "2023-01-17T18:52:52.128Z"
   },
   {
    "duration": 24,
    "start_time": "2023-01-17T18:52:52.145Z"
   },
   {
    "duration": 29,
    "start_time": "2023-01-17T18:52:52.170Z"
   },
   {
    "duration": 633,
    "start_time": "2023-01-17T18:52:52.202Z"
   },
   {
    "duration": 100,
    "start_time": "2023-01-17T18:52:52.837Z"
   },
   {
    "duration": 0,
    "start_time": "2023-01-17T18:52:52.939Z"
   },
   {
    "duration": 0,
    "start_time": "2023-01-17T18:52:52.941Z"
   },
   {
    "duration": 0,
    "start_time": "2023-01-17T18:52:52.943Z"
   },
   {
    "duration": 0,
    "start_time": "2023-01-17T18:52:52.944Z"
   },
   {
    "duration": 0,
    "start_time": "2023-01-17T18:52:52.945Z"
   },
   {
    "duration": 0,
    "start_time": "2023-01-17T18:52:52.946Z"
   },
   {
    "duration": 0,
    "start_time": "2023-01-17T18:52:52.948Z"
   },
   {
    "duration": 0,
    "start_time": "2023-01-17T18:52:52.949Z"
   },
   {
    "duration": 0,
    "start_time": "2023-01-17T18:52:52.950Z"
   },
   {
    "duration": 0,
    "start_time": "2023-01-17T18:52:52.951Z"
   },
   {
    "duration": 0,
    "start_time": "2023-01-17T18:52:52.952Z"
   },
   {
    "duration": 0,
    "start_time": "2023-01-17T18:52:52.953Z"
   },
   {
    "duration": 447,
    "start_time": "2023-01-17T18:53:31.612Z"
   },
   {
    "duration": 443,
    "start_time": "2023-01-17T18:53:40.968Z"
   },
   {
    "duration": 192,
    "start_time": "2023-01-17T18:54:03.644Z"
   },
   {
    "duration": 175,
    "start_time": "2023-01-17T18:54:06.629Z"
   },
   {
    "duration": 160,
    "start_time": "2023-01-17T18:59:54.846Z"
   },
   {
    "duration": 646,
    "start_time": "2023-01-17T19:00:14.184Z"
   },
   {
    "duration": 24,
    "start_time": "2023-01-17T19:00:14.832Z"
   },
   {
    "duration": 12,
    "start_time": "2023-01-17T19:00:14.858Z"
   },
   {
    "duration": 12,
    "start_time": "2023-01-17T19:00:14.872Z"
   },
   {
    "duration": 16,
    "start_time": "2023-01-17T19:00:14.886Z"
   },
   {
    "duration": 50,
    "start_time": "2023-01-17T19:00:14.905Z"
   },
   {
    "duration": 12,
    "start_time": "2023-01-17T19:00:14.957Z"
   },
   {
    "duration": 16,
    "start_time": "2023-01-17T19:00:14.971Z"
   },
   {
    "duration": 16,
    "start_time": "2023-01-17T19:00:14.989Z"
   },
   {
    "duration": 616,
    "start_time": "2023-01-17T19:00:15.007Z"
   },
   {
    "duration": 180,
    "start_time": "2023-01-17T19:00:15.624Z"
   },
   {
    "duration": 200,
    "start_time": "2023-01-17T19:00:15.806Z"
   },
   {
    "duration": 286,
    "start_time": "2023-01-17T19:00:16.008Z"
   },
   {
    "duration": 326,
    "start_time": "2023-01-17T19:00:16.304Z"
   },
   {
    "duration": 185,
    "start_time": "2023-01-17T19:00:16.632Z"
   },
   {
    "duration": 169,
    "start_time": "2023-01-17T19:00:16.818Z"
   },
   {
    "duration": 323,
    "start_time": "2023-01-17T19:00:16.988Z"
   },
   {
    "duration": 75,
    "start_time": "2023-01-17T19:00:17.312Z"
   },
   {
    "duration": 0,
    "start_time": "2023-01-17T19:00:17.389Z"
   },
   {
    "duration": 0,
    "start_time": "2023-01-17T19:00:17.390Z"
   },
   {
    "duration": 0,
    "start_time": "2023-01-17T19:00:17.404Z"
   },
   {
    "duration": 0,
    "start_time": "2023-01-17T19:00:17.405Z"
   },
   {
    "duration": 29,
    "start_time": "2023-01-17T19:01:50.020Z"
   },
   {
    "duration": 22,
    "start_time": "2023-01-17T19:02:06.980Z"
   },
   {
    "duration": 29,
    "start_time": "2023-01-17T19:02:45.082Z"
   },
   {
    "duration": 446,
    "start_time": "2023-01-17T19:03:38.422Z"
   },
   {
    "duration": 153,
    "start_time": "2023-01-17T19:03:43.266Z"
   },
   {
    "duration": 631,
    "start_time": "2023-01-17T19:04:08.713Z"
   },
   {
    "duration": 10,
    "start_time": "2023-01-17T19:04:46.182Z"
   },
   {
    "duration": 586,
    "start_time": "2023-01-17T19:05:11.359Z"
   },
   {
    "duration": 24,
    "start_time": "2023-01-17T19:05:11.947Z"
   },
   {
    "duration": 11,
    "start_time": "2023-01-17T19:05:11.972Z"
   },
   {
    "duration": 11,
    "start_time": "2023-01-17T19:05:11.985Z"
   },
   {
    "duration": 11,
    "start_time": "2023-01-17T19:05:11.997Z"
   },
   {
    "duration": 49,
    "start_time": "2023-01-17T19:05:12.009Z"
   },
   {
    "duration": 10,
    "start_time": "2023-01-17T19:05:12.060Z"
   },
   {
    "duration": 12,
    "start_time": "2023-01-17T19:05:12.071Z"
   },
   {
    "duration": 15,
    "start_time": "2023-01-17T19:05:12.085Z"
   },
   {
    "duration": 543,
    "start_time": "2023-01-17T19:05:12.102Z"
   },
   {
    "duration": 200,
    "start_time": "2023-01-17T19:05:12.647Z"
   },
   {
    "duration": 303,
    "start_time": "2023-01-17T19:05:12.849Z"
   },
   {
    "duration": 612,
    "start_time": "2023-01-17T19:05:13.154Z"
   },
   {
    "duration": 1,
    "start_time": "2023-01-17T19:05:13.767Z"
   },
   {
    "duration": 0,
    "start_time": "2023-01-17T19:05:13.769Z"
   },
   {
    "duration": 0,
    "start_time": "2023-01-17T19:05:13.770Z"
   },
   {
    "duration": 0,
    "start_time": "2023-01-17T19:05:13.771Z"
   },
   {
    "duration": 0,
    "start_time": "2023-01-17T19:05:13.773Z"
   },
   {
    "duration": 0,
    "start_time": "2023-01-17T19:05:13.773Z"
   },
   {
    "duration": 0,
    "start_time": "2023-01-17T19:05:13.774Z"
   },
   {
    "duration": 0,
    "start_time": "2023-01-17T19:05:13.776Z"
   },
   {
    "duration": 11,
    "start_time": "2023-01-17T19:05:20.913Z"
   },
   {
    "duration": 670,
    "start_time": "2023-01-17T19:05:47.213Z"
   },
   {
    "duration": 23,
    "start_time": "2023-01-17T19:05:47.884Z"
   },
   {
    "duration": 10,
    "start_time": "2023-01-17T19:05:47.909Z"
   },
   {
    "duration": 14,
    "start_time": "2023-01-17T19:05:47.921Z"
   },
   {
    "duration": 11,
    "start_time": "2023-01-17T19:05:47.936Z"
   },
   {
    "duration": 49,
    "start_time": "2023-01-17T19:05:47.949Z"
   },
   {
    "duration": 12,
    "start_time": "2023-01-17T19:05:48.000Z"
   },
   {
    "duration": 12,
    "start_time": "2023-01-17T19:05:48.013Z"
   },
   {
    "duration": 20,
    "start_time": "2023-01-17T19:05:48.027Z"
   },
   {
    "duration": 599,
    "start_time": "2023-01-17T19:05:48.050Z"
   },
   {
    "duration": 208,
    "start_time": "2023-01-17T19:05:48.651Z"
   },
   {
    "duration": 310,
    "start_time": "2023-01-17T19:05:48.860Z"
   },
   {
    "duration": 571,
    "start_time": "2023-01-17T19:05:49.172Z"
   },
   {
    "duration": 0,
    "start_time": "2023-01-17T19:05:49.745Z"
   },
   {
    "duration": 0,
    "start_time": "2023-01-17T19:05:49.746Z"
   },
   {
    "duration": 0,
    "start_time": "2023-01-17T19:05:49.747Z"
   },
   {
    "duration": 0,
    "start_time": "2023-01-17T19:05:49.749Z"
   },
   {
    "duration": 0,
    "start_time": "2023-01-17T19:05:49.750Z"
   },
   {
    "duration": 0,
    "start_time": "2023-01-17T19:05:49.752Z"
   },
   {
    "duration": 0,
    "start_time": "2023-01-17T19:05:49.753Z"
   },
   {
    "duration": 0,
    "start_time": "2023-01-17T19:05:49.755Z"
   },
   {
    "duration": 9,
    "start_time": "2023-01-17T19:05:56.714Z"
   },
   {
    "duration": 58,
    "start_time": "2023-01-17T19:06:28.290Z"
   },
   {
    "duration": 651,
    "start_time": "2023-01-17T19:07:13.581Z"
   },
   {
    "duration": 23,
    "start_time": "2023-01-17T19:07:14.234Z"
   },
   {
    "duration": 11,
    "start_time": "2023-01-17T19:07:14.259Z"
   },
   {
    "duration": 12,
    "start_time": "2023-01-17T19:07:14.272Z"
   },
   {
    "duration": 18,
    "start_time": "2023-01-17T19:07:14.287Z"
   },
   {
    "duration": 43,
    "start_time": "2023-01-17T19:07:14.307Z"
   },
   {
    "duration": 10,
    "start_time": "2023-01-17T19:07:14.351Z"
   },
   {
    "duration": 78,
    "start_time": "2023-01-17T19:07:14.362Z"
   },
   {
    "duration": 14,
    "start_time": "2023-01-17T19:07:14.442Z"
   },
   {
    "duration": 595,
    "start_time": "2023-01-17T19:07:14.457Z"
   },
   {
    "duration": 208,
    "start_time": "2023-01-17T19:07:15.054Z"
   },
   {
    "duration": 306,
    "start_time": "2023-01-17T19:07:15.263Z"
   },
   {
    "duration": 618,
    "start_time": "2023-01-17T19:07:15.570Z"
   },
   {
    "duration": 0,
    "start_time": "2023-01-17T19:07:16.190Z"
   },
   {
    "duration": 0,
    "start_time": "2023-01-17T19:07:16.191Z"
   },
   {
    "duration": 0,
    "start_time": "2023-01-17T19:07:16.193Z"
   },
   {
    "duration": 0,
    "start_time": "2023-01-17T19:07:16.194Z"
   },
   {
    "duration": 0,
    "start_time": "2023-01-17T19:07:16.195Z"
   },
   {
    "duration": 0,
    "start_time": "2023-01-17T19:07:16.204Z"
   },
   {
    "duration": 0,
    "start_time": "2023-01-17T19:07:16.205Z"
   },
   {
    "duration": 0,
    "start_time": "2023-01-17T19:07:16.206Z"
   },
   {
    "duration": 25,
    "start_time": "2023-01-17T19:07:23.199Z"
   },
   {
    "duration": 8,
    "start_time": "2023-01-17T19:07:46.082Z"
   },
   {
    "duration": 431,
    "start_time": "2023-01-17T19:07:59.897Z"
   },
   {
    "duration": 635,
    "start_time": "2023-01-17T19:11:45.632Z"
   },
   {
    "duration": 23,
    "start_time": "2023-01-17T19:11:46.269Z"
   },
   {
    "duration": 13,
    "start_time": "2023-01-17T19:11:46.294Z"
   },
   {
    "duration": 21,
    "start_time": "2023-01-17T19:11:46.309Z"
   },
   {
    "duration": 31,
    "start_time": "2023-01-17T19:11:46.333Z"
   },
   {
    "duration": 70,
    "start_time": "2023-01-17T19:11:46.366Z"
   },
   {
    "duration": 23,
    "start_time": "2023-01-17T19:11:46.438Z"
   },
   {
    "duration": 20,
    "start_time": "2023-01-17T19:11:46.463Z"
   },
   {
    "duration": 36,
    "start_time": "2023-01-17T19:11:46.485Z"
   },
   {
    "duration": 626,
    "start_time": "2023-01-17T19:11:46.523Z"
   },
   {
    "duration": 233,
    "start_time": "2023-01-17T19:11:47.151Z"
   },
   {
    "duration": 330,
    "start_time": "2023-01-17T19:11:47.386Z"
   },
   {
    "duration": 707,
    "start_time": "2023-01-17T19:11:47.718Z"
   },
   {
    "duration": 0,
    "start_time": "2023-01-17T19:11:48.428Z"
   },
   {
    "duration": 0,
    "start_time": "2023-01-17T19:11:48.429Z"
   },
   {
    "duration": 0,
    "start_time": "2023-01-17T19:11:48.430Z"
   },
   {
    "duration": 0,
    "start_time": "2023-01-17T19:11:48.431Z"
   },
   {
    "duration": 0,
    "start_time": "2023-01-17T19:11:48.432Z"
   },
   {
    "duration": 0,
    "start_time": "2023-01-17T19:11:48.434Z"
   },
   {
    "duration": 0,
    "start_time": "2023-01-17T19:11:48.435Z"
   },
   {
    "duration": 0,
    "start_time": "2023-01-17T19:11:48.436Z"
   },
   {
    "duration": 468,
    "start_time": "2023-01-17T19:13:30.066Z"
   },
   {
    "duration": 187,
    "start_time": "2023-01-17T19:13:43.315Z"
   },
   {
    "duration": 283,
    "start_time": "2023-01-17T19:13:50.134Z"
   },
   {
    "duration": 212,
    "start_time": "2023-01-17T19:15:56.230Z"
   },
   {
    "duration": 483,
    "start_time": "2023-01-17T19:17:27.615Z"
   },
   {
    "duration": 167,
    "start_time": "2023-01-17T19:19:31.192Z"
   },
   {
    "duration": 644,
    "start_time": "2023-01-17T19:19:46.570Z"
   },
   {
    "duration": 25,
    "start_time": "2023-01-17T19:19:47.217Z"
   },
   {
    "duration": 15,
    "start_time": "2023-01-17T19:19:47.243Z"
   },
   {
    "duration": 16,
    "start_time": "2023-01-17T19:19:47.260Z"
   },
   {
    "duration": 14,
    "start_time": "2023-01-17T19:19:47.279Z"
   },
   {
    "duration": 43,
    "start_time": "2023-01-17T19:19:47.304Z"
   },
   {
    "duration": 12,
    "start_time": "2023-01-17T19:19:47.349Z"
   },
   {
    "duration": 13,
    "start_time": "2023-01-17T19:19:47.363Z"
   },
   {
    "duration": 18,
    "start_time": "2023-01-17T19:19:47.378Z"
   },
   {
    "duration": 648,
    "start_time": "2023-01-17T19:19:47.397Z"
   },
   {
    "duration": 231,
    "start_time": "2023-01-17T19:19:48.047Z"
   },
   {
    "duration": 352,
    "start_time": "2023-01-17T19:19:48.279Z"
   },
   {
    "duration": 311,
    "start_time": "2023-01-17T19:19:48.633Z"
   },
   {
    "duration": 0,
    "start_time": "2023-01-17T19:19:48.945Z"
   },
   {
    "duration": 0,
    "start_time": "2023-01-17T19:19:48.947Z"
   },
   {
    "duration": 0,
    "start_time": "2023-01-17T19:19:48.947Z"
   },
   {
    "duration": 0,
    "start_time": "2023-01-17T19:19:48.948Z"
   },
   {
    "duration": 0,
    "start_time": "2023-01-17T19:19:48.950Z"
   },
   {
    "duration": 0,
    "start_time": "2023-01-17T19:19:48.951Z"
   },
   {
    "duration": 0,
    "start_time": "2023-01-17T19:19:48.952Z"
   },
   {
    "duration": 13,
    "start_time": "2023-01-17T19:28:49.715Z"
   },
   {
    "duration": 13,
    "start_time": "2023-01-17T19:29:01.717Z"
   },
   {
    "duration": 657,
    "start_time": "2023-01-17T19:29:20.110Z"
   },
   {
    "duration": 24,
    "start_time": "2023-01-17T19:29:20.768Z"
   },
   {
    "duration": 10,
    "start_time": "2023-01-17T19:29:20.794Z"
   },
   {
    "duration": 11,
    "start_time": "2023-01-17T19:29:20.806Z"
   },
   {
    "duration": 10,
    "start_time": "2023-01-17T19:29:20.819Z"
   },
   {
    "duration": 55,
    "start_time": "2023-01-17T19:29:20.831Z"
   },
   {
    "duration": 11,
    "start_time": "2023-01-17T19:29:20.887Z"
   },
   {
    "duration": 17,
    "start_time": "2023-01-17T19:29:20.899Z"
   },
   {
    "duration": 17,
    "start_time": "2023-01-17T19:29:20.918Z"
   },
   {
    "duration": 567,
    "start_time": "2023-01-17T19:29:20.937Z"
   },
   {
    "duration": 200,
    "start_time": "2023-01-17T19:29:21.506Z"
   },
   {
    "duration": 327,
    "start_time": "2023-01-17T19:29:21.708Z"
   },
   {
    "duration": 350,
    "start_time": "2023-01-17T19:29:22.037Z"
   },
   {
    "duration": 0,
    "start_time": "2023-01-17T19:29:22.388Z"
   },
   {
    "duration": 0,
    "start_time": "2023-01-17T19:29:22.390Z"
   },
   {
    "duration": 0,
    "start_time": "2023-01-17T19:29:22.390Z"
   },
   {
    "duration": 0,
    "start_time": "2023-01-17T19:29:22.391Z"
   },
   {
    "duration": 0,
    "start_time": "2023-01-17T19:29:22.393Z"
   },
   {
    "duration": 0,
    "start_time": "2023-01-17T19:29:22.404Z"
   },
   {
    "duration": 168,
    "start_time": "2023-01-17T19:30:26.676Z"
   },
   {
    "duration": 656,
    "start_time": "2023-01-17T19:30:39.605Z"
   },
   {
    "duration": 24,
    "start_time": "2023-01-17T19:30:40.262Z"
   },
   {
    "duration": 12,
    "start_time": "2023-01-17T19:30:40.287Z"
   },
   {
    "duration": 19,
    "start_time": "2023-01-17T19:30:40.301Z"
   },
   {
    "duration": 11,
    "start_time": "2023-01-17T19:30:40.321Z"
   },
   {
    "duration": 56,
    "start_time": "2023-01-17T19:30:40.334Z"
   },
   {
    "duration": 12,
    "start_time": "2023-01-17T19:30:40.391Z"
   },
   {
    "duration": 16,
    "start_time": "2023-01-17T19:30:40.404Z"
   },
   {
    "duration": 17,
    "start_time": "2023-01-17T19:30:40.422Z"
   },
   {
    "duration": 533,
    "start_time": "2023-01-17T19:30:40.441Z"
   },
   {
    "duration": 209,
    "start_time": "2023-01-17T19:30:40.976Z"
   },
   {
    "duration": 329,
    "start_time": "2023-01-17T19:30:41.187Z"
   },
   {
    "duration": 236,
    "start_time": "2023-01-17T19:30:41.518Z"
   },
   {
    "duration": 310,
    "start_time": "2023-01-17T19:30:41.756Z"
   },
   {
    "duration": 89,
    "start_time": "2023-01-17T19:30:42.068Z"
   },
   {
    "duration": 0,
    "start_time": "2023-01-17T19:30:42.158Z"
   },
   {
    "duration": 0,
    "start_time": "2023-01-17T19:30:42.159Z"
   },
   {
    "duration": 0,
    "start_time": "2023-01-17T19:30:42.161Z"
   },
   {
    "duration": 0,
    "start_time": "2023-01-17T19:30:42.162Z"
   },
   {
    "duration": 205,
    "start_time": "2023-01-17T19:30:48.173Z"
   },
   {
    "duration": 286,
    "start_time": "2023-01-17T19:30:51.244Z"
   },
   {
    "duration": 173,
    "start_time": "2023-01-17T19:32:02.377Z"
   },
   {
    "duration": 190,
    "start_time": "2023-01-17T19:32:21.715Z"
   },
   {
    "duration": 193,
    "start_time": "2023-01-17T19:32:32.816Z"
   },
   {
    "duration": 136,
    "start_time": "2023-01-17T19:32:54.651Z"
   },
   {
    "duration": 176,
    "start_time": "2023-01-17T19:33:00.798Z"
   },
   {
    "duration": 302,
    "start_time": "2023-01-17T19:33:18.565Z"
   },
   {
    "duration": 11,
    "start_time": "2023-01-17T19:33:23.774Z"
   },
   {
    "duration": 175,
    "start_time": "2023-01-17T19:35:49.250Z"
   },
   {
    "duration": 294,
    "start_time": "2023-01-17T19:35:58.051Z"
   },
   {
    "duration": 305,
    "start_time": "2023-01-17T19:37:07.781Z"
   },
   {
    "duration": 8,
    "start_time": "2023-01-17T19:39:30.009Z"
   },
   {
    "duration": 8,
    "start_time": "2023-01-17T19:39:42.097Z"
   },
   {
    "duration": 142,
    "start_time": "2023-01-17T19:40:19.503Z"
   },
   {
    "duration": 5,
    "start_time": "2023-01-17T19:45:03.634Z"
   },
   {
    "duration": 195,
    "start_time": "2023-01-17T19:46:40.467Z"
   },
   {
    "duration": 5,
    "start_time": "2023-01-17T19:47:46.601Z"
   },
   {
    "duration": 115,
    "start_time": "2023-01-17T20:11:46.069Z"
   },
   {
    "duration": 9,
    "start_time": "2023-01-17T20:13:58.636Z"
   },
   {
    "duration": 155,
    "start_time": "2023-01-17T20:34:00.506Z"
   },
   {
    "duration": 344,
    "start_time": "2023-01-17T20:35:26.006Z"
   },
   {
    "duration": 453,
    "start_time": "2023-01-17T20:36:18.269Z"
   },
   {
    "duration": 399,
    "start_time": "2023-01-17T20:36:24.282Z"
   },
   {
    "duration": 358,
    "start_time": "2023-01-17T20:40:35.830Z"
   },
   {
    "duration": 335,
    "start_time": "2023-01-17T20:44:34.903Z"
   },
   {
    "duration": 313,
    "start_time": "2023-01-17T20:45:29.662Z"
   },
   {
    "duration": 356,
    "start_time": "2023-01-17T20:51:21.930Z"
   },
   {
    "duration": 10,
    "start_time": "2023-01-17T21:08:36.904Z"
   },
   {
    "duration": 11,
    "start_time": "2023-01-17T21:09:47.718Z"
   },
   {
    "duration": 10,
    "start_time": "2023-01-17T21:10:29.116Z"
   },
   {
    "duration": 12,
    "start_time": "2023-01-17T21:10:54.134Z"
   },
   {
    "duration": 1186,
    "start_time": "2023-01-17T21:25:50.722Z"
   },
   {
    "duration": 1196,
    "start_time": "2023-01-17T21:26:05.584Z"
   },
   {
    "duration": 1156,
    "start_time": "2023-01-17T21:29:11.788Z"
   },
   {
    "duration": 6,
    "start_time": "2023-01-17T21:30:05.432Z"
   },
   {
    "duration": 1243,
    "start_time": "2023-01-17T21:30:38.987Z"
   },
   {
    "duration": 1212,
    "start_time": "2023-01-17T21:38:58.602Z"
   },
   {
    "duration": 1432,
    "start_time": "2023-01-17T21:39:46.102Z"
   },
   {
    "duration": 9,
    "start_time": "2023-01-17T21:40:22.002Z"
   },
   {
    "duration": 1310,
    "start_time": "2023-01-17T21:40:42.972Z"
   },
   {
    "duration": 1331,
    "start_time": "2023-01-17T21:41:40.317Z"
   },
   {
    "duration": 1144,
    "start_time": "2023-01-17T21:41:46.443Z"
   },
   {
    "duration": 29,
    "start_time": "2023-01-17T21:41:47.590Z"
   },
   {
    "duration": 11,
    "start_time": "2023-01-17T21:41:47.621Z"
   },
   {
    "duration": 11,
    "start_time": "2023-01-17T21:41:47.634Z"
   },
   {
    "duration": 11,
    "start_time": "2023-01-17T21:41:47.647Z"
   },
   {
    "duration": 57,
    "start_time": "2023-01-17T21:41:47.660Z"
   },
   {
    "duration": 10,
    "start_time": "2023-01-17T21:41:47.719Z"
   },
   {
    "duration": 11,
    "start_time": "2023-01-17T21:41:47.730Z"
   },
   {
    "duration": 14,
    "start_time": "2023-01-17T21:41:47.743Z"
   },
   {
    "duration": 606,
    "start_time": "2023-01-17T21:41:47.760Z"
   },
   {
    "duration": 223,
    "start_time": "2023-01-17T21:41:48.368Z"
   },
   {
    "duration": 330,
    "start_time": "2023-01-17T21:41:48.593Z"
   },
   {
    "duration": 215,
    "start_time": "2023-01-17T21:41:48.925Z"
   },
   {
    "duration": 294,
    "start_time": "2023-01-17T21:41:49.141Z"
   },
   {
    "duration": 156,
    "start_time": "2023-01-17T21:41:49.436Z"
   },
   {
    "duration": 21,
    "start_time": "2023-01-17T21:41:49.593Z"
   },
   {
    "duration": 161,
    "start_time": "2023-01-17T21:41:49.617Z"
   },
   {
    "duration": 4,
    "start_time": "2023-01-17T21:41:49.780Z"
   },
   {
    "duration": 384,
    "start_time": "2023-01-17T21:41:49.786Z"
   },
   {
    "duration": 10,
    "start_time": "2023-01-17T21:41:50.171Z"
   },
   {
    "duration": 19,
    "start_time": "2023-01-17T21:41:50.182Z"
   },
   {
    "duration": 1324,
    "start_time": "2023-01-17T21:41:50.204Z"
   },
   {
    "duration": 328,
    "start_time": "2023-01-17T21:46:52.669Z"
   },
   {
    "duration": 144,
    "start_time": "2023-01-17T21:49:03.151Z"
   },
   {
    "duration": 10,
    "start_time": "2023-01-17T21:49:53.284Z"
   },
   {
    "duration": 1087,
    "start_time": "2023-01-17T21:49:59.278Z"
   },
   {
    "duration": 23,
    "start_time": "2023-01-17T21:50:00.367Z"
   },
   {
    "duration": 18,
    "start_time": "2023-01-17T21:50:00.392Z"
   },
   {
    "duration": 48,
    "start_time": "2023-01-17T21:50:00.411Z"
   },
   {
    "duration": 23,
    "start_time": "2023-01-17T21:50:00.461Z"
   },
   {
    "duration": 93,
    "start_time": "2023-01-17T21:50:00.486Z"
   },
   {
    "duration": 11,
    "start_time": "2023-01-17T21:50:00.580Z"
   },
   {
    "duration": 26,
    "start_time": "2023-01-17T21:50:00.593Z"
   },
   {
    "duration": 35,
    "start_time": "2023-01-17T21:50:00.621Z"
   },
   {
    "duration": 538,
    "start_time": "2023-01-17T21:50:00.658Z"
   },
   {
    "duration": 191,
    "start_time": "2023-01-17T21:50:01.197Z"
   },
   {
    "duration": 305,
    "start_time": "2023-01-17T21:50:01.389Z"
   },
   {
    "duration": 173,
    "start_time": "2023-01-17T21:50:01.696Z"
   },
   {
    "duration": 332,
    "start_time": "2023-01-17T21:50:01.872Z"
   },
   {
    "duration": 144,
    "start_time": "2023-01-17T21:50:02.206Z"
   },
   {
    "duration": 5,
    "start_time": "2023-01-17T21:50:02.351Z"
   },
   {
    "duration": 167,
    "start_time": "2023-01-17T21:50:02.357Z"
   },
   {
    "duration": 5,
    "start_time": "2023-01-17T21:50:02.525Z"
   },
   {
    "duration": 254,
    "start_time": "2023-01-17T21:50:02.531Z"
   },
   {
    "duration": 0,
    "start_time": "2023-01-17T21:50:02.786Z"
   },
   {
    "duration": 0,
    "start_time": "2023-01-17T21:50:02.787Z"
   },
   {
    "duration": 0,
    "start_time": "2023-01-17T21:50:02.788Z"
   },
   {
    "duration": 142,
    "start_time": "2023-01-17T21:50:49.219Z"
   },
   {
    "duration": 342,
    "start_time": "2023-01-17T21:51:54.704Z"
   },
   {
    "duration": 11,
    "start_time": "2023-01-17T21:51:59.315Z"
   },
   {
    "duration": 1196,
    "start_time": "2023-01-17T21:52:05.001Z"
   },
   {
    "duration": 16,
    "start_time": "2023-01-17T22:00:33.639Z"
   },
   {
    "duration": 1149,
    "start_time": "2023-01-17T22:01:26.002Z"
   },
   {
    "duration": 1184,
    "start_time": "2023-01-17T22:02:13.586Z"
   },
   {
    "duration": 1166,
    "start_time": "2023-01-18T08:03:38.101Z"
   },
   {
    "duration": 24,
    "start_time": "2023-01-18T08:03:39.269Z"
   },
   {
    "duration": 13,
    "start_time": "2023-01-18T08:03:39.295Z"
   },
   {
    "duration": 22,
    "start_time": "2023-01-18T08:03:39.310Z"
   },
   {
    "duration": 26,
    "start_time": "2023-01-18T08:03:39.333Z"
   },
   {
    "duration": 48,
    "start_time": "2023-01-18T08:03:39.361Z"
   },
   {
    "duration": 12,
    "start_time": "2023-01-18T08:03:39.411Z"
   },
   {
    "duration": 18,
    "start_time": "2023-01-18T08:03:39.425Z"
   },
   {
    "duration": 15,
    "start_time": "2023-01-18T08:03:39.445Z"
   },
   {
    "duration": 562,
    "start_time": "2023-01-18T08:03:39.463Z"
   },
   {
    "duration": 213,
    "start_time": "2023-01-18T08:03:40.027Z"
   },
   {
    "duration": 299,
    "start_time": "2023-01-18T08:03:40.242Z"
   },
   {
    "duration": 194,
    "start_time": "2023-01-18T08:03:40.543Z"
   },
   {
    "duration": 297,
    "start_time": "2023-01-18T08:03:40.739Z"
   },
   {
    "duration": 171,
    "start_time": "2023-01-18T08:03:41.038Z"
   },
   {
    "duration": 6,
    "start_time": "2023-01-18T08:03:41.211Z"
   },
   {
    "duration": 193,
    "start_time": "2023-01-18T08:03:41.219Z"
   },
   {
    "duration": 6,
    "start_time": "2023-01-18T08:03:41.415Z"
   },
   {
    "duration": 370,
    "start_time": "2023-01-18T08:03:41.422Z"
   },
   {
    "duration": 20,
    "start_time": "2023-01-18T08:03:41.793Z"
   },
   {
    "duration": 8,
    "start_time": "2023-01-18T08:03:41.814Z"
   },
   {
    "duration": 1276,
    "start_time": "2023-01-18T08:03:41.823Z"
   },
   {
    "duration": 0,
    "start_time": "2023-01-18T08:03:43.101Z"
   },
   {
    "duration": 0,
    "start_time": "2023-01-18T08:03:43.102Z"
   },
   {
    "duration": 0,
    "start_time": "2023-01-18T08:03:43.103Z"
   },
   {
    "duration": 6,
    "start_time": "2023-01-18T08:03:50.738Z"
   },
   {
    "duration": 1271,
    "start_time": "2023-01-18T08:04:01.930Z"
   },
   {
    "duration": 1152,
    "start_time": "2023-01-18T08:04:28.512Z"
   },
   {
    "duration": 9,
    "start_time": "2023-01-18T08:04:55.936Z"
   },
   {
    "duration": 5,
    "start_time": "2023-01-18T08:05:18.156Z"
   },
   {
    "duration": 4,
    "start_time": "2023-01-18T08:05:59.256Z"
   },
   {
    "duration": 4,
    "start_time": "2023-01-18T08:06:21.294Z"
   },
   {
    "duration": 12,
    "start_time": "2023-01-18T08:06:31.412Z"
   },
   {
    "duration": 14,
    "start_time": "2023-01-18T08:06:38.794Z"
   },
   {
    "duration": 5,
    "start_time": "2023-01-18T08:06:50.995Z"
   },
   {
    "duration": 7,
    "start_time": "2023-01-18T08:06:55.697Z"
   },
   {
    "duration": 5,
    "start_time": "2023-01-18T08:07:03.558Z"
   },
   {
    "duration": 1228,
    "start_time": "2023-01-18T08:07:09.107Z"
   },
   {
    "duration": 9,
    "start_time": "2023-01-18T08:07:32.770Z"
   },
   {
    "duration": 1158,
    "start_time": "2023-01-18T08:07:40.248Z"
   },
   {
    "duration": 1135,
    "start_time": "2023-01-18T08:07:58.030Z"
   },
   {
    "duration": 24,
    "start_time": "2023-01-18T08:07:59.167Z"
   },
   {
    "duration": 12,
    "start_time": "2023-01-18T08:07:59.192Z"
   },
   {
    "duration": 11,
    "start_time": "2023-01-18T08:07:59.205Z"
   },
   {
    "duration": 10,
    "start_time": "2023-01-18T08:07:59.218Z"
   },
   {
    "duration": 50,
    "start_time": "2023-01-18T08:07:59.229Z"
   },
   {
    "duration": 10,
    "start_time": "2023-01-18T08:07:59.281Z"
   },
   {
    "duration": 13,
    "start_time": "2023-01-18T08:07:59.293Z"
   },
   {
    "duration": 19,
    "start_time": "2023-01-18T08:07:59.308Z"
   },
   {
    "duration": 560,
    "start_time": "2023-01-18T08:07:59.329Z"
   },
   {
    "duration": 210,
    "start_time": "2023-01-18T08:07:59.890Z"
   },
   {
    "duration": 321,
    "start_time": "2023-01-18T08:08:00.104Z"
   },
   {
    "duration": 189,
    "start_time": "2023-01-18T08:08:00.427Z"
   },
   {
    "duration": 311,
    "start_time": "2023-01-18T08:08:00.619Z"
   },
   {
    "duration": 156,
    "start_time": "2023-01-18T08:08:00.931Z"
   },
   {
    "duration": 5,
    "start_time": "2023-01-18T08:08:01.088Z"
   },
   {
    "duration": 181,
    "start_time": "2023-01-18T08:08:01.104Z"
   },
   {
    "duration": 6,
    "start_time": "2023-01-18T08:08:01.287Z"
   },
   {
    "duration": 379,
    "start_time": "2023-01-18T08:08:01.304Z"
   },
   {
    "duration": 12,
    "start_time": "2023-01-18T08:08:01.684Z"
   },
   {
    "duration": 11,
    "start_time": "2023-01-18T08:08:01.706Z"
   },
   {
    "duration": 24,
    "start_time": "2023-01-18T08:08:01.720Z"
   },
   {
    "duration": 17,
    "start_time": "2023-01-18T08:08:01.746Z"
   },
   {
    "duration": 1313,
    "start_time": "2023-01-18T08:08:01.765Z"
   },
   {
    "duration": 0,
    "start_time": "2023-01-18T08:08:03.079Z"
   },
   {
    "duration": 0,
    "start_time": "2023-01-18T08:08:03.080Z"
   },
   {
    "duration": 0,
    "start_time": "2023-01-18T08:08:03.081Z"
   },
   {
    "duration": 0,
    "start_time": "2023-01-18T08:08:03.082Z"
   },
   {
    "duration": 5,
    "start_time": "2023-01-18T08:08:16.276Z"
   },
   {
    "duration": 6,
    "start_time": "2023-01-18T08:08:33.709Z"
   },
   {
    "duration": 5,
    "start_time": "2023-01-18T08:08:54.244Z"
   },
   {
    "duration": 7,
    "start_time": "2023-01-18T08:09:11.460Z"
   },
   {
    "duration": 326,
    "start_time": "2023-01-18T08:11:59.961Z"
   },
   {
    "duration": 173,
    "start_time": "2023-01-18T08:12:12.152Z"
   },
   {
    "duration": 154,
    "start_time": "2023-01-18T08:12:18.278Z"
   },
   {
    "duration": 186,
    "start_time": "2023-01-18T08:12:22.376Z"
   },
   {
    "duration": 235,
    "start_time": "2023-01-18T08:12:27.881Z"
   },
   {
    "duration": 331,
    "start_time": "2023-01-18T08:12:34.278Z"
   },
   {
    "duration": 397,
    "start_time": "2023-01-18T08:12:40.894Z"
   },
   {
    "duration": 1227,
    "start_time": "2023-01-18T08:13:00.806Z"
   },
   {
    "duration": 25,
    "start_time": "2023-01-18T08:13:02.035Z"
   },
   {
    "duration": 16,
    "start_time": "2023-01-18T08:13:02.062Z"
   },
   {
    "duration": 18,
    "start_time": "2023-01-18T08:13:02.081Z"
   },
   {
    "duration": 12,
    "start_time": "2023-01-18T08:13:02.105Z"
   },
   {
    "duration": 54,
    "start_time": "2023-01-18T08:13:02.119Z"
   },
   {
    "duration": 19,
    "start_time": "2023-01-18T08:13:02.175Z"
   },
   {
    "duration": 18,
    "start_time": "2023-01-18T08:13:02.196Z"
   },
   {
    "duration": 23,
    "start_time": "2023-01-18T08:13:02.216Z"
   },
   {
    "duration": 677,
    "start_time": "2023-01-18T08:13:02.241Z"
   },
   {
    "duration": 266,
    "start_time": "2023-01-18T08:13:02.921Z"
   },
   {
    "duration": 348,
    "start_time": "2023-01-18T08:13:03.189Z"
   },
   {
    "duration": 288,
    "start_time": "2023-01-18T08:13:03.540Z"
   },
   {
    "duration": 387,
    "start_time": "2023-01-18T08:13:03.832Z"
   },
   {
    "duration": 187,
    "start_time": "2023-01-18T08:13:04.223Z"
   },
   {
    "duration": 7,
    "start_time": "2023-01-18T08:13:04.412Z"
   },
   {
    "duration": 244,
    "start_time": "2023-01-18T08:13:04.421Z"
   },
   {
    "duration": 6,
    "start_time": "2023-01-18T08:13:04.667Z"
   },
   {
    "duration": 450,
    "start_time": "2023-01-18T08:13:04.675Z"
   },
   {
    "duration": 14,
    "start_time": "2023-01-18T08:13:05.131Z"
   },
   {
    "duration": 15,
    "start_time": "2023-01-18T08:13:05.148Z"
   },
   {
    "duration": 10,
    "start_time": "2023-01-18T08:13:05.164Z"
   },
   {
    "duration": 13,
    "start_time": "2023-01-18T08:13:05.175Z"
   },
   {
    "duration": 16,
    "start_time": "2023-01-18T08:13:05.190Z"
   },
   {
    "duration": 1315,
    "start_time": "2023-01-18T08:13:05.208Z"
   },
   {
    "duration": 0,
    "start_time": "2023-01-18T08:13:06.525Z"
   },
   {
    "duration": 0,
    "start_time": "2023-01-18T08:13:06.527Z"
   },
   {
    "duration": 0,
    "start_time": "2023-01-18T08:13:06.529Z"
   },
   {
    "duration": 0,
    "start_time": "2023-01-18T08:13:06.530Z"
   },
   {
    "duration": 372,
    "start_time": "2023-01-18T08:14:43.195Z"
   },
   {
    "duration": 265,
    "start_time": "2023-01-18T08:18:04.478Z"
   },
   {
    "duration": 273,
    "start_time": "2023-01-18T08:18:30.038Z"
   },
   {
    "duration": 209,
    "start_time": "2023-01-18T08:19:09.316Z"
   },
   {
    "duration": 209,
    "start_time": "2023-01-18T08:20:04.831Z"
   },
   {
    "duration": 184,
    "start_time": "2023-01-18T08:20:12.805Z"
   },
   {
    "duration": 207,
    "start_time": "2023-01-18T08:20:19.144Z"
   },
   {
    "duration": 205,
    "start_time": "2023-01-18T08:20:23.145Z"
   },
   {
    "duration": 279,
    "start_time": "2023-01-18T08:20:29.184Z"
   },
   {
    "duration": 208,
    "start_time": "2023-01-18T08:20:53.880Z"
   },
   {
    "duration": 379,
    "start_time": "2023-01-18T08:23:24.096Z"
   },
   {
    "duration": 332,
    "start_time": "2023-01-18T08:23:46.729Z"
   },
   {
    "duration": 418,
    "start_time": "2023-01-18T08:23:55.774Z"
   },
   {
    "duration": 200,
    "start_time": "2023-01-18T08:24:33.197Z"
   },
   {
    "duration": 1188,
    "start_time": "2023-01-18T09:07:53.202Z"
   },
   {
    "duration": 24,
    "start_time": "2023-01-18T09:07:54.392Z"
   },
   {
    "duration": 12,
    "start_time": "2023-01-18T09:07:54.417Z"
   },
   {
    "duration": 13,
    "start_time": "2023-01-18T09:07:54.431Z"
   },
   {
    "duration": 11,
    "start_time": "2023-01-18T09:07:54.445Z"
   },
   {
    "duration": 50,
    "start_time": "2023-01-18T09:07:54.457Z"
   },
   {
    "duration": 11,
    "start_time": "2023-01-18T09:07:54.508Z"
   },
   {
    "duration": 20,
    "start_time": "2023-01-18T09:07:54.521Z"
   },
   {
    "duration": 29,
    "start_time": "2023-01-18T09:07:54.542Z"
   },
   {
    "duration": 605,
    "start_time": "2023-01-18T09:07:54.576Z"
   },
   {
    "duration": 218,
    "start_time": "2023-01-18T09:07:55.182Z"
   },
   {
    "duration": 344,
    "start_time": "2023-01-18T09:07:55.405Z"
   },
   {
    "duration": 222,
    "start_time": "2023-01-18T09:07:55.750Z"
   },
   {
    "duration": 376,
    "start_time": "2023-01-18T09:07:55.973Z"
   },
   {
    "duration": 167,
    "start_time": "2023-01-18T09:07:56.350Z"
   },
   {
    "duration": 5,
    "start_time": "2023-01-18T09:07:56.519Z"
   },
   {
    "duration": 197,
    "start_time": "2023-01-18T09:07:56.526Z"
   },
   {
    "duration": 5,
    "start_time": "2023-01-18T09:07:56.724Z"
   },
   {
    "duration": 401,
    "start_time": "2023-01-18T09:07:56.731Z"
   },
   {
    "duration": 13,
    "start_time": "2023-01-18T09:07:57.133Z"
   },
   {
    "duration": 16,
    "start_time": "2023-01-18T09:07:57.148Z"
   },
   {
    "duration": 12,
    "start_time": "2023-01-18T09:07:57.166Z"
   },
   {
    "duration": 5,
    "start_time": "2023-01-18T09:07:57.179Z"
   },
   {
    "duration": 20,
    "start_time": "2023-01-18T09:07:57.186Z"
   },
   {
    "duration": 7,
    "start_time": "2023-01-18T09:07:57.207Z"
   },
   {
    "duration": 5,
    "start_time": "2023-01-18T09:07:57.216Z"
   },
   {
    "duration": 12,
    "start_time": "2023-01-18T09:07:57.222Z"
   },
   {
    "duration": 1245,
    "start_time": "2023-01-18T09:07:57.237Z"
   },
   {
    "duration": 0,
    "start_time": "2023-01-18T09:07:58.484Z"
   },
   {
    "duration": 7,
    "start_time": "2023-01-18T09:08:21.537Z"
   },
   {
    "duration": 6,
    "start_time": "2023-01-18T09:08:39.370Z"
   },
   {
    "duration": 7,
    "start_time": "2023-01-18T09:08:52.572Z"
   },
   {
    "duration": 7,
    "start_time": "2023-01-18T09:08:56.362Z"
   },
   {
    "duration": 1263,
    "start_time": "2023-01-18T09:09:40.206Z"
   },
   {
    "duration": 8,
    "start_time": "2023-01-18T09:10:37.263Z"
   },
   {
    "duration": 20,
    "start_time": "2023-01-18T09:10:40.405Z"
   },
   {
    "duration": 1179,
    "start_time": "2023-01-18T11:09:08.271Z"
   },
   {
    "duration": 24,
    "start_time": "2023-01-18T11:09:09.452Z"
   },
   {
    "duration": 13,
    "start_time": "2023-01-18T11:09:09.477Z"
   },
   {
    "duration": 28,
    "start_time": "2023-01-18T11:09:09.492Z"
   },
   {
    "duration": 18,
    "start_time": "2023-01-18T11:09:09.532Z"
   },
   {
    "duration": 44,
    "start_time": "2023-01-18T11:09:09.551Z"
   },
   {
    "duration": 23,
    "start_time": "2023-01-18T11:09:09.597Z"
   },
   {
    "duration": 36,
    "start_time": "2023-01-18T11:09:09.631Z"
   },
   {
    "duration": 21,
    "start_time": "2023-01-18T11:09:09.668Z"
   },
   {
    "duration": 702,
    "start_time": "2023-01-18T11:09:09.691Z"
   },
   {
    "duration": 238,
    "start_time": "2023-01-18T11:09:10.395Z"
   },
   {
    "duration": 329,
    "start_time": "2023-01-18T11:09:10.635Z"
   },
   {
    "duration": 243,
    "start_time": "2023-01-18T11:09:10.966Z"
   },
   {
    "duration": 378,
    "start_time": "2023-01-18T11:09:11.210Z"
   },
   {
    "duration": 232,
    "start_time": "2023-01-18T11:09:11.590Z"
   },
   {
    "duration": 8,
    "start_time": "2023-01-18T11:09:11.828Z"
   },
   {
    "duration": 202,
    "start_time": "2023-01-18T11:09:11.837Z"
   },
   {
    "duration": 5,
    "start_time": "2023-01-18T11:09:12.041Z"
   },
   {
    "duration": 422,
    "start_time": "2023-01-18T11:09:12.047Z"
   },
   {
    "duration": 12,
    "start_time": "2023-01-18T11:09:12.471Z"
   },
   {
    "duration": 29,
    "start_time": "2023-01-18T11:09:12.484Z"
   },
   {
    "duration": 45,
    "start_time": "2023-01-18T11:09:12.515Z"
   },
   {
    "duration": 39,
    "start_time": "2023-01-18T11:09:12.562Z"
   },
   {
    "duration": 1791,
    "start_time": "2023-01-18T11:09:12.603Z"
   },
   {
    "duration": 0,
    "start_time": "2023-01-18T11:09:14.395Z"
   },
   {
    "duration": 0,
    "start_time": "2023-01-18T11:09:14.397Z"
   },
   {
    "duration": 0,
    "start_time": "2023-01-18T11:09:14.398Z"
   },
   {
    "duration": 0,
    "start_time": "2023-01-18T11:09:14.399Z"
   },
   {
    "duration": 0,
    "start_time": "2023-01-18T11:09:14.400Z"
   },
   {
    "duration": 5,
    "start_time": "2023-01-18T11:09:58.967Z"
   },
   {
    "duration": 13,
    "start_time": "2023-01-18T11:10:46.038Z"
   },
   {
    "duration": 54,
    "start_time": "2023-01-18T14:19:24.346Z"
   },
   {
    "duration": 1324,
    "start_time": "2023-01-18T14:19:51.430Z"
   },
   {
    "duration": 86,
    "start_time": "2023-01-18T14:19:52.756Z"
   },
   {
    "duration": 11,
    "start_time": "2023-01-18T14:19:52.844Z"
   },
   {
    "duration": 17,
    "start_time": "2023-01-18T14:19:52.857Z"
   },
   {
    "duration": 11,
    "start_time": "2023-01-18T14:19:52.876Z"
   },
   {
    "duration": 168,
    "start_time": "2023-01-18T14:19:52.889Z"
   },
   {
    "duration": 11,
    "start_time": "2023-01-18T14:19:53.059Z"
   },
   {
    "duration": 13,
    "start_time": "2023-01-18T14:19:53.072Z"
   },
   {
    "duration": 31,
    "start_time": "2023-01-18T14:19:53.086Z"
   },
   {
    "duration": 594,
    "start_time": "2023-01-18T14:19:53.120Z"
   },
   {
    "duration": 203,
    "start_time": "2023-01-18T14:19:53.715Z"
   },
   {
    "duration": 327,
    "start_time": "2023-01-18T14:19:53.919Z"
   },
   {
    "duration": 217,
    "start_time": "2023-01-18T14:19:54.248Z"
   },
   {
    "duration": 363,
    "start_time": "2023-01-18T14:19:54.467Z"
   },
   {
    "duration": 169,
    "start_time": "2023-01-18T14:19:54.831Z"
   },
   {
    "duration": 5,
    "start_time": "2023-01-18T14:19:55.002Z"
   },
   {
    "duration": 197,
    "start_time": "2023-01-18T14:19:55.009Z"
   },
   {
    "duration": 6,
    "start_time": "2023-01-18T14:19:55.208Z"
   },
   {
    "duration": 486,
    "start_time": "2023-01-18T14:19:55.215Z"
   },
   {
    "duration": 10,
    "start_time": "2023-01-18T14:19:55.703Z"
   },
   {
    "duration": 33,
    "start_time": "2023-01-18T14:19:55.715Z"
   },
   {
    "duration": 940,
    "start_time": "2023-01-18T14:19:55.750Z"
   },
   {
    "duration": 1,
    "start_time": "2023-01-18T14:19:56.692Z"
   },
   {
    "duration": 32,
    "start_time": "2023-01-18T14:21:33.331Z"
   },
   {
    "duration": 22,
    "start_time": "2023-01-18T14:24:57.188Z"
   },
   {
    "duration": 892,
    "start_time": "2023-01-18T14:26:01.783Z"
   },
   {
    "duration": 9,
    "start_time": "2023-01-18T14:26:38.720Z"
   },
   {
    "duration": 16,
    "start_time": "2023-01-18T14:27:41.141Z"
   },
   {
    "duration": 14,
    "start_time": "2023-01-18T14:27:51.204Z"
   },
   {
    "duration": 33,
    "start_time": "2023-01-18T14:28:31.721Z"
   },
   {
    "duration": 14,
    "start_time": "2023-01-18T14:28:43.910Z"
   },
   {
    "duration": 15,
    "start_time": "2023-01-18T14:29:00.920Z"
   },
   {
    "duration": 13,
    "start_time": "2023-01-18T16:34:44.312Z"
   },
   {
    "duration": 14,
    "start_time": "2023-01-18T16:35:50.123Z"
   },
   {
    "duration": 519,
    "start_time": "2023-01-18T16:42:06.420Z"
   },
   {
    "duration": 190,
    "start_time": "2023-01-18T16:42:13.714Z"
   },
   {
    "duration": 324,
    "start_time": "2023-01-18T16:42:21.070Z"
   },
   {
    "duration": 1069,
    "start_time": "2023-01-19T05:57:53.557Z"
   },
   {
    "duration": 28,
    "start_time": "2023-01-19T05:57:54.628Z"
   },
   {
    "duration": 16,
    "start_time": "2023-01-19T05:57:54.658Z"
   },
   {
    "duration": 12,
    "start_time": "2023-01-19T05:57:54.675Z"
   },
   {
    "duration": 55,
    "start_time": "2023-01-19T05:57:54.689Z"
   },
   {
    "duration": 11,
    "start_time": "2023-01-19T05:57:54.745Z"
   },
   {
    "duration": 11,
    "start_time": "2023-01-19T05:57:54.757Z"
   },
   {
    "duration": 14,
    "start_time": "2023-01-19T05:57:54.770Z"
   },
   {
    "duration": 599,
    "start_time": "2023-01-19T05:57:54.786Z"
   },
   {
    "duration": 208,
    "start_time": "2023-01-19T05:57:55.387Z"
   },
   {
    "duration": 339,
    "start_time": "2023-01-19T05:57:55.597Z"
   },
   {
    "duration": 271,
    "start_time": "2023-01-19T05:57:55.938Z"
   },
   {
    "duration": 334,
    "start_time": "2023-01-19T05:57:56.211Z"
   },
   {
    "duration": 158,
    "start_time": "2023-01-19T05:57:56.549Z"
   },
   {
    "duration": 7,
    "start_time": "2023-01-19T05:57:56.709Z"
   },
   {
    "duration": 182,
    "start_time": "2023-01-19T05:57:56.718Z"
   },
   {
    "duration": 5,
    "start_time": "2023-01-19T05:57:56.901Z"
   },
   {
    "duration": 378,
    "start_time": "2023-01-19T05:57:56.908Z"
   },
   {
    "duration": 11,
    "start_time": "2023-01-19T05:57:57.288Z"
   },
   {
    "duration": 31,
    "start_time": "2023-01-19T05:57:57.300Z"
   },
   {
    "duration": 15,
    "start_time": "2023-01-19T05:57:57.332Z"
   },
   {
    "duration": 1325,
    "start_time": "2023-01-19T15:59:42.992Z"
   },
   {
    "duration": 3,
    "start_time": "2023-01-19T15:59:44.319Z"
   },
   {
    "duration": 72,
    "start_time": "2023-01-19T15:59:44.323Z"
   },
   {
    "duration": 0,
    "start_time": "2023-01-19T15:59:44.397Z"
   },
   {
    "duration": 0,
    "start_time": "2023-01-19T15:59:44.398Z"
   },
   {
    "duration": 0,
    "start_time": "2023-01-19T15:59:44.399Z"
   },
   {
    "duration": 0,
    "start_time": "2023-01-19T15:59:44.401Z"
   },
   {
    "duration": 0,
    "start_time": "2023-01-19T15:59:44.402Z"
   },
   {
    "duration": 0,
    "start_time": "2023-01-19T15:59:44.403Z"
   },
   {
    "duration": 0,
    "start_time": "2023-01-19T15:59:44.405Z"
   },
   {
    "duration": 0,
    "start_time": "2023-01-19T15:59:44.407Z"
   },
   {
    "duration": 0,
    "start_time": "2023-01-19T15:59:44.409Z"
   },
   {
    "duration": 0,
    "start_time": "2023-01-19T15:59:44.410Z"
   },
   {
    "duration": 0,
    "start_time": "2023-01-19T15:59:44.412Z"
   },
   {
    "duration": 0,
    "start_time": "2023-01-19T15:59:44.413Z"
   },
   {
    "duration": 0,
    "start_time": "2023-01-19T15:59:44.414Z"
   },
   {
    "duration": 0,
    "start_time": "2023-01-19T15:59:44.416Z"
   },
   {
    "duration": 0,
    "start_time": "2023-01-19T15:59:44.418Z"
   },
   {
    "duration": 0,
    "start_time": "2023-01-19T15:59:44.419Z"
   },
   {
    "duration": 0,
    "start_time": "2023-01-19T15:59:44.421Z"
   },
   {
    "duration": 0,
    "start_time": "2023-01-19T15:59:44.423Z"
   },
   {
    "duration": 0,
    "start_time": "2023-01-19T15:59:44.424Z"
   },
   {
    "duration": 74,
    "start_time": "2023-01-19T16:00:28.170Z"
   },
   {
    "duration": 73,
    "start_time": "2023-01-19T16:00:44.656Z"
   },
   {
    "duration": 71,
    "start_time": "2023-01-19T16:02:27.366Z"
   },
   {
    "duration": 89,
    "start_time": "2023-01-19T16:02:37.859Z"
   },
   {
    "duration": 68,
    "start_time": "2023-01-19T16:02:40.733Z"
   },
   {
    "duration": 88,
    "start_time": "2023-01-19T16:02:48.991Z"
   },
   {
    "duration": 31,
    "start_time": "2023-01-19T16:02:55.457Z"
   },
   {
    "duration": 6,
    "start_time": "2023-01-19T16:03:06.241Z"
   },
   {
    "duration": 20,
    "start_time": "2023-01-19T16:03:14.158Z"
   },
   {
    "duration": 5,
    "start_time": "2023-01-19T16:03:15.649Z"
   },
   {
    "duration": 101,
    "start_time": "2023-01-19T16:03:22.956Z"
   },
   {
    "duration": 55,
    "start_time": "2023-01-19T20:23:58.381Z"
   },
   {
    "duration": 29,
    "start_time": "2023-01-19T20:24:15.472Z"
   },
   {
    "duration": 27,
    "start_time": "2023-01-19T20:24:23.986Z"
   },
   {
    "duration": 26,
    "start_time": "2023-01-19T20:38:59.023Z"
   },
   {
    "duration": 22,
    "start_time": "2023-01-19T20:42:30.389Z"
   },
   {
    "duration": 70,
    "start_time": "2023-01-19T20:42:48.007Z"
   },
   {
    "duration": 37,
    "start_time": "2023-01-19T20:42:58.510Z"
   },
   {
    "duration": 32,
    "start_time": "2023-01-19T20:43:12.127Z"
   },
   {
    "duration": 37,
    "start_time": "2023-01-19T20:44:18.239Z"
   },
   {
    "duration": 1163,
    "start_time": "2023-01-19T20:44:26.461Z"
   },
   {
    "duration": 2,
    "start_time": "2023-01-19T20:44:27.627Z"
   },
   {
    "duration": 38,
    "start_time": "2023-01-19T20:44:27.631Z"
   },
   {
    "duration": 14,
    "start_time": "2023-01-19T20:44:27.670Z"
   },
   {
    "duration": 13,
    "start_time": "2023-01-19T20:44:27.686Z"
   },
   {
    "duration": 130,
    "start_time": "2023-01-19T20:44:27.700Z"
   },
   {
    "duration": 13,
    "start_time": "2023-01-19T20:44:27.831Z"
   },
   {
    "duration": 15,
    "start_time": "2023-01-19T20:44:27.846Z"
   },
   {
    "duration": 18,
    "start_time": "2023-01-19T20:44:27.863Z"
   },
   {
    "duration": 662,
    "start_time": "2023-01-19T20:44:27.884Z"
   },
   {
    "duration": 236,
    "start_time": "2023-01-19T20:44:28.548Z"
   },
   {
    "duration": 376,
    "start_time": "2023-01-19T20:44:28.786Z"
   },
   {
    "duration": 234,
    "start_time": "2023-01-19T20:44:29.164Z"
   },
   {
    "duration": 382,
    "start_time": "2023-01-19T20:44:29.401Z"
   },
   {
    "duration": 163,
    "start_time": "2023-01-19T20:44:29.786Z"
   },
   {
    "duration": 5,
    "start_time": "2023-01-19T20:44:29.951Z"
   },
   {
    "duration": 198,
    "start_time": "2023-01-19T20:44:29.958Z"
   },
   {
    "duration": 5,
    "start_time": "2023-01-19T20:44:30.158Z"
   },
   {
    "duration": 401,
    "start_time": "2023-01-19T20:44:30.165Z"
   },
   {
    "duration": 10,
    "start_time": "2023-01-19T20:44:30.568Z"
   },
   {
    "duration": 38,
    "start_time": "2023-01-19T20:44:30.580Z"
   },
   {
    "duration": 30,
    "start_time": "2023-01-19T20:44:30.620Z"
   },
   {
    "duration": 0,
    "start_time": "2023-01-19T21:34:16.558Z"
   },
   {
    "duration": 150,
    "start_time": "2023-01-19T21:40:25.471Z"
   },
   {
    "duration": 4,
    "start_time": "2023-01-19T21:40:54.945Z"
   },
   {
    "duration": 640,
    "start_time": "2023-01-19T21:41:21.023Z"
   },
   {
    "duration": 768,
    "start_time": "2023-01-19T21:41:43.491Z"
   },
   {
    "duration": 1159,
    "start_time": "2023-01-19T21:42:01.228Z"
   },
   {
    "duration": 18,
    "start_time": "2023-01-19T21:42:12.879Z"
   },
   {
    "duration": 348,
    "start_time": "2023-01-19T21:42:37.927Z"
   },
   {
    "duration": 13,
    "start_time": "2023-01-19T21:44:16.744Z"
   },
   {
    "duration": 46,
    "start_time": "2023-01-19T21:46:17.882Z"
   },
   {
    "duration": 1225,
    "start_time": "2023-01-19T21:46:29.043Z"
   },
   {
    "duration": 3,
    "start_time": "2023-01-19T21:46:30.270Z"
   },
   {
    "duration": 56,
    "start_time": "2023-01-19T21:46:30.274Z"
   },
   {
    "duration": 14,
    "start_time": "2023-01-19T21:46:30.332Z"
   },
   {
    "duration": 31,
    "start_time": "2023-01-19T21:46:30.348Z"
   },
   {
    "duration": 86,
    "start_time": "2023-01-19T21:46:30.381Z"
   },
   {
    "duration": 44,
    "start_time": "2023-01-19T21:46:30.469Z"
   },
   {
    "duration": 12,
    "start_time": "2023-01-19T21:46:30.515Z"
   },
   {
    "duration": 39,
    "start_time": "2023-01-19T21:46:30.529Z"
   },
   {
    "duration": 27,
    "start_time": "2023-01-19T21:46:30.570Z"
   },
   {
    "duration": 613,
    "start_time": "2023-01-19T21:46:30.599Z"
   },
   {
    "duration": 240,
    "start_time": "2023-01-19T21:46:31.213Z"
   },
   {
    "duration": 323,
    "start_time": "2023-01-19T21:46:31.455Z"
   },
   {
    "duration": 217,
    "start_time": "2023-01-19T21:46:31.780Z"
   },
   {
    "duration": 355,
    "start_time": "2023-01-19T21:46:31.998Z"
   },
   {
    "duration": 161,
    "start_time": "2023-01-19T21:46:32.354Z"
   },
   {
    "duration": 5,
    "start_time": "2023-01-19T21:46:32.517Z"
   },
   {
    "duration": 269,
    "start_time": "2023-01-19T21:46:32.523Z"
   },
   {
    "duration": 5,
    "start_time": "2023-01-19T21:46:32.794Z"
   },
   {
    "duration": 379,
    "start_time": "2023-01-19T21:46:32.801Z"
   },
   {
    "duration": 11,
    "start_time": "2023-01-19T21:46:33.182Z"
   },
   {
    "duration": 50,
    "start_time": "2023-01-19T21:46:33.194Z"
   },
   {
    "duration": 13,
    "start_time": "2023-01-19T21:46:33.246Z"
   },
   {
    "duration": 8,
    "start_time": "2023-01-19T21:46:54.346Z"
   },
   {
    "duration": 9,
    "start_time": "2023-01-19T21:48:07.184Z"
   },
   {
    "duration": 8,
    "start_time": "2023-01-19T21:48:14.063Z"
   },
   {
    "duration": 11,
    "start_time": "2023-01-19T21:48:20.455Z"
   },
   {
    "duration": 8,
    "start_time": "2023-01-19T21:48:30.045Z"
   },
   {
    "duration": 8,
    "start_time": "2023-01-19T21:48:49.695Z"
   },
   {
    "duration": 8,
    "start_time": "2023-01-19T21:48:56.511Z"
   },
   {
    "duration": 26,
    "start_time": "2023-01-19T21:51:44.512Z"
   },
   {
    "duration": 24,
    "start_time": "2023-01-19T21:51:55.172Z"
   },
   {
    "duration": 26,
    "start_time": "2023-01-19T21:54:36.606Z"
   },
   {
    "duration": 13,
    "start_time": "2023-01-19T21:54:58.389Z"
   },
   {
    "duration": 14,
    "start_time": "2023-01-19T21:58:03.831Z"
   },
   {
    "duration": 14,
    "start_time": "2023-01-19T21:59:37.299Z"
   },
   {
    "duration": 4,
    "start_time": "2023-01-19T22:01:54.916Z"
   },
   {
    "duration": 98,
    "start_time": "2023-01-19T22:03:11.461Z"
   },
   {
    "duration": 14,
    "start_time": "2023-01-19T22:03:46.720Z"
   },
   {
    "duration": 5,
    "start_time": "2023-01-19T22:05:01.430Z"
   },
   {
    "duration": 15,
    "start_time": "2023-01-19T22:05:29.746Z"
   },
   {
    "duration": 14,
    "start_time": "2023-01-19T22:05:40.081Z"
   },
   {
    "duration": 11,
    "start_time": "2023-01-19T22:15:30.480Z"
   },
   {
    "duration": 18,
    "start_time": "2023-01-19T22:15:42.084Z"
   },
   {
    "duration": 14,
    "start_time": "2023-01-19T22:16:17.087Z"
   },
   {
    "duration": 11,
    "start_time": "2023-01-19T22:17:34.225Z"
   },
   {
    "duration": 21,
    "start_time": "2023-01-19T22:18:17.150Z"
   },
   {
    "duration": 11,
    "start_time": "2023-01-19T22:23:39.618Z"
   },
   {
    "duration": 18,
    "start_time": "2023-01-19T22:35:21.525Z"
   },
   {
    "duration": 12,
    "start_time": "2023-01-19T22:36:19.286Z"
   },
   {
    "duration": 12,
    "start_time": "2023-01-19T22:37:30.894Z"
   },
   {
    "duration": 12,
    "start_time": "2023-01-19T22:42:30.399Z"
   },
   {
    "duration": 27,
    "start_time": "2023-01-19T22:45:55.653Z"
   },
   {
    "duration": 26,
    "start_time": "2023-01-19T22:46:03.262Z"
   },
   {
    "duration": 25,
    "start_time": "2023-01-19T23:01:35.854Z"
   },
   {
    "duration": 25,
    "start_time": "2023-01-19T23:02:03.224Z"
   },
   {
    "duration": 13,
    "start_time": "2023-01-19T23:04:01.323Z"
   },
   {
    "duration": 25,
    "start_time": "2023-01-19T23:04:05.640Z"
   },
   {
    "duration": 24,
    "start_time": "2023-01-19T23:04:20.517Z"
   },
   {
    "duration": 27,
    "start_time": "2023-01-19T23:04:25.972Z"
   },
   {
    "duration": 11,
    "start_time": "2023-01-19T23:04:43.619Z"
   },
   {
    "duration": 27,
    "start_time": "2023-01-19T23:04:49.449Z"
   },
   {
    "duration": 12,
    "start_time": "2023-01-19T23:05:30.857Z"
   },
   {
    "duration": 26,
    "start_time": "2023-01-19T23:05:35.074Z"
   },
   {
    "duration": 10,
    "start_time": "2023-01-19T23:08:29.260Z"
   },
   {
    "duration": 26,
    "start_time": "2023-01-19T23:08:56.268Z"
   },
   {
    "duration": 11,
    "start_time": "2023-01-19T23:10:39.024Z"
   },
   {
    "duration": 29,
    "start_time": "2023-01-19T23:11:02.273Z"
   },
   {
    "duration": 14,
    "start_time": "2023-01-19T23:11:31.357Z"
   },
   {
    "duration": 29,
    "start_time": "2023-01-19T23:11:39.677Z"
   },
   {
    "duration": 14,
    "start_time": "2023-01-19T23:11:42.892Z"
   },
   {
    "duration": 33,
    "start_time": "2023-01-19T23:11:47.924Z"
   },
   {
    "duration": 15,
    "start_time": "2023-01-20T10:38:16.854Z"
   },
   {
    "duration": 48,
    "start_time": "2023-01-20T10:40:25.363Z"
   },
   {
    "duration": 30,
    "start_time": "2023-01-20T10:40:51.389Z"
   },
   {
    "duration": 29,
    "start_time": "2023-01-20T10:40:56.385Z"
   },
   {
    "duration": 31,
    "start_time": "2023-01-20T10:41:27.695Z"
   },
   {
    "duration": 30,
    "start_time": "2023-01-20T10:41:32.575Z"
   },
   {
    "duration": 32,
    "start_time": "2023-01-20T10:45:12.126Z"
   },
   {
    "duration": 1201,
    "start_time": "2023-01-20T10:45:26.127Z"
   },
   {
    "duration": 1157,
    "start_time": "2023-01-20T10:45:35.926Z"
   },
   {
    "duration": 1241,
    "start_time": "2023-01-20T10:45:44.117Z"
   },
   {
    "duration": 3,
    "start_time": "2023-01-20T10:45:45.360Z"
   },
   {
    "duration": 77,
    "start_time": "2023-01-20T10:45:45.364Z"
   },
   {
    "duration": 19,
    "start_time": "2023-01-20T10:45:45.444Z"
   },
   {
    "duration": 78,
    "start_time": "2023-01-20T10:45:45.465Z"
   },
   {
    "duration": 136,
    "start_time": "2023-01-20T10:45:45.545Z"
   },
   {
    "duration": 12,
    "start_time": "2023-01-20T10:45:45.683Z"
   },
   {
    "duration": 16,
    "start_time": "2023-01-20T10:45:45.697Z"
   },
   {
    "duration": 24,
    "start_time": "2023-01-20T10:45:45.714Z"
   },
   {
    "duration": 601,
    "start_time": "2023-01-20T10:45:45.741Z"
   },
   {
    "duration": 234,
    "start_time": "2023-01-20T10:45:46.344Z"
   },
   {
    "duration": 319,
    "start_time": "2023-01-20T10:45:46.580Z"
   },
   {
    "duration": 228,
    "start_time": "2023-01-20T10:45:46.901Z"
   },
   {
    "duration": 358,
    "start_time": "2023-01-20T10:45:47.131Z"
   },
   {
    "duration": 168,
    "start_time": "2023-01-20T10:45:47.491Z"
   },
   {
    "duration": 6,
    "start_time": "2023-01-20T10:45:47.660Z"
   },
   {
    "duration": 281,
    "start_time": "2023-01-20T10:45:47.667Z"
   },
   {
    "duration": 5,
    "start_time": "2023-01-20T10:45:47.950Z"
   },
   {
    "duration": 415,
    "start_time": "2023-01-20T10:45:47.957Z"
   },
   {
    "duration": 12,
    "start_time": "2023-01-20T10:45:48.373Z"
   },
   {
    "duration": 35,
    "start_time": "2023-01-20T10:45:48.386Z"
   },
   {
    "duration": 37,
    "start_time": "2023-01-20T10:45:48.423Z"
   },
   {
    "duration": 13,
    "start_time": "2023-01-20T10:46:21.143Z"
   },
   {
    "duration": 4,
    "start_time": "2023-01-20T10:46:38.294Z"
   },
   {
    "duration": 5,
    "start_time": "2023-01-20T10:47:17.741Z"
   },
   {
    "duration": 42,
    "start_time": "2023-01-20T10:47:21.542Z"
   },
   {
    "duration": 38,
    "start_time": "2023-01-20T10:48:10.747Z"
   },
   {
    "duration": 25,
    "start_time": "2023-01-20T10:55:27.615Z"
   },
   {
    "duration": 1269,
    "start_time": "2023-01-20T13:17:25.572Z"
   },
   {
    "duration": 2,
    "start_time": "2023-01-20T13:17:26.847Z"
   },
   {
    "duration": 64,
    "start_time": "2023-01-20T13:17:26.853Z"
   },
   {
    "duration": 7,
    "start_time": "2023-01-20T13:17:26.919Z"
   },
   {
    "duration": 36,
    "start_time": "2023-01-20T13:17:26.928Z"
   },
   {
    "duration": 104,
    "start_time": "2023-01-20T13:17:26.966Z"
   },
   {
    "duration": 46,
    "start_time": "2023-01-20T13:17:27.072Z"
   },
   {
    "duration": 15,
    "start_time": "2023-01-20T13:17:27.120Z"
   },
   {
    "duration": 35,
    "start_time": "2023-01-20T13:17:27.139Z"
   },
   {
    "duration": 27,
    "start_time": "2023-01-20T13:17:27.177Z"
   },
   {
    "duration": 663,
    "start_time": "2023-01-20T13:17:27.206Z"
   },
   {
    "duration": 283,
    "start_time": "2023-01-20T13:17:27.871Z"
   },
   {
    "duration": 372,
    "start_time": "2023-01-20T13:17:28.162Z"
   },
   {
    "duration": 244,
    "start_time": "2023-01-20T13:17:28.540Z"
   },
   {
    "duration": 393,
    "start_time": "2023-01-20T13:17:28.785Z"
   },
   {
    "duration": 245,
    "start_time": "2023-01-20T13:17:29.180Z"
   },
   {
    "duration": 29,
    "start_time": "2023-01-20T13:17:29.427Z"
   },
   {
    "duration": 298,
    "start_time": "2023-01-20T13:17:29.458Z"
   },
   {
    "duration": 6,
    "start_time": "2023-01-20T13:17:29.761Z"
   },
   {
    "duration": 428,
    "start_time": "2023-01-20T13:17:29.769Z"
   },
   {
    "duration": 14,
    "start_time": "2023-01-20T13:17:30.199Z"
   },
   {
    "duration": 64,
    "start_time": "2023-01-20T13:17:30.216Z"
   },
   {
    "duration": 16,
    "start_time": "2023-01-20T13:17:30.282Z"
   },
   {
    "duration": 133,
    "start_time": "2023-01-20T13:28:03.337Z"
   },
   {
    "duration": 16,
    "start_time": "2023-01-20T13:28:28.218Z"
   },
   {
    "duration": 5,
    "start_time": "2023-01-20T13:32:53.073Z"
   },
   {
    "duration": 5,
    "start_time": "2023-01-20T13:33:11.828Z"
   },
   {
    "duration": 5,
    "start_time": "2023-01-20T13:34:19.280Z"
   },
   {
    "duration": 1329,
    "start_time": "2023-01-21T19:07:32.142Z"
   },
   {
    "duration": 2,
    "start_time": "2023-01-21T19:07:33.473Z"
   },
   {
    "duration": 73,
    "start_time": "2023-01-21T19:07:33.477Z"
   },
   {
    "duration": 6,
    "start_time": "2023-01-21T19:07:33.552Z"
   },
   {
    "duration": 8,
    "start_time": "2023-01-21T19:07:33.560Z"
   },
   {
    "duration": 67,
    "start_time": "2023-01-21T19:07:33.569Z"
   },
   {
    "duration": 118,
    "start_time": "2023-01-21T19:07:33.639Z"
   },
   {
    "duration": 12,
    "start_time": "2023-01-21T19:07:33.759Z"
   },
   {
    "duration": 13,
    "start_time": "2023-01-21T19:07:33.773Z"
   },
   {
    "duration": 123,
    "start_time": "2023-01-21T19:07:33.787Z"
   },
   {
    "duration": 0,
    "start_time": "2023-01-21T19:07:33.913Z"
   },
   {
    "duration": 0,
    "start_time": "2023-01-21T19:07:33.914Z"
   },
   {
    "duration": 0,
    "start_time": "2023-01-21T19:07:33.915Z"
   },
   {
    "duration": 0,
    "start_time": "2023-01-21T19:07:33.916Z"
   },
   {
    "duration": 0,
    "start_time": "2023-01-21T19:07:33.918Z"
   },
   {
    "duration": 0,
    "start_time": "2023-01-21T19:07:33.930Z"
   },
   {
    "duration": 0,
    "start_time": "2023-01-21T19:07:33.932Z"
   },
   {
    "duration": 0,
    "start_time": "2023-01-21T19:07:33.933Z"
   },
   {
    "duration": 0,
    "start_time": "2023-01-21T19:07:33.935Z"
   },
   {
    "duration": 0,
    "start_time": "2023-01-21T19:07:33.936Z"
   },
   {
    "duration": 0,
    "start_time": "2023-01-21T19:07:33.937Z"
   },
   {
    "duration": 0,
    "start_time": "2023-01-21T19:07:33.938Z"
   },
   {
    "duration": 0,
    "start_time": "2023-01-21T19:07:33.940Z"
   },
   {
    "duration": 0,
    "start_time": "2023-01-21T19:07:33.941Z"
   },
   {
    "duration": 0,
    "start_time": "2023-01-21T19:07:33.944Z"
   },
   {
    "duration": 1187,
    "start_time": "2023-01-21T19:08:45.644Z"
   },
   {
    "duration": 2,
    "start_time": "2023-01-21T19:08:46.833Z"
   },
   {
    "duration": 40,
    "start_time": "2023-01-21T19:08:46.836Z"
   },
   {
    "duration": 6,
    "start_time": "2023-01-21T19:08:46.878Z"
   },
   {
    "duration": 13,
    "start_time": "2023-01-21T19:08:46.885Z"
   },
   {
    "duration": 84,
    "start_time": "2023-01-21T19:08:46.900Z"
   },
   {
    "duration": 44,
    "start_time": "2023-01-21T19:08:46.987Z"
   },
   {
    "duration": 24,
    "start_time": "2023-01-21T19:08:47.034Z"
   },
   {
    "duration": 102,
    "start_time": "2023-01-21T19:08:47.060Z"
   },
   {
    "duration": 96,
    "start_time": "2023-01-21T19:08:47.165Z"
   },
   {
    "duration": 0,
    "start_time": "2023-01-21T19:08:47.262Z"
   },
   {
    "duration": 0,
    "start_time": "2023-01-21T19:08:47.264Z"
   },
   {
    "duration": 0,
    "start_time": "2023-01-21T19:08:47.265Z"
   },
   {
    "duration": 0,
    "start_time": "2023-01-21T19:08:47.266Z"
   },
   {
    "duration": 0,
    "start_time": "2023-01-21T19:08:47.267Z"
   },
   {
    "duration": 0,
    "start_time": "2023-01-21T19:08:47.268Z"
   },
   {
    "duration": 0,
    "start_time": "2023-01-21T19:08:47.269Z"
   },
   {
    "duration": 0,
    "start_time": "2023-01-21T19:08:47.271Z"
   },
   {
    "duration": 0,
    "start_time": "2023-01-21T19:08:47.272Z"
   },
   {
    "duration": 0,
    "start_time": "2023-01-21T19:08:47.273Z"
   },
   {
    "duration": 0,
    "start_time": "2023-01-21T19:08:47.274Z"
   },
   {
    "duration": 0,
    "start_time": "2023-01-21T19:08:47.275Z"
   },
   {
    "duration": 0,
    "start_time": "2023-01-21T19:08:47.276Z"
   },
   {
    "duration": 0,
    "start_time": "2023-01-21T19:08:47.278Z"
   },
   {
    "duration": 0,
    "start_time": "2023-01-21T19:08:47.279Z"
   },
   {
    "duration": 1289,
    "start_time": "2023-01-21T19:10:56.202Z"
   },
   {
    "duration": 2,
    "start_time": "2023-01-21T19:10:57.493Z"
   },
   {
    "duration": 38,
    "start_time": "2023-01-21T19:10:57.497Z"
   },
   {
    "duration": 10,
    "start_time": "2023-01-21T19:10:57.538Z"
   },
   {
    "duration": 7,
    "start_time": "2023-01-21T19:10:57.551Z"
   },
   {
    "duration": 79,
    "start_time": "2023-01-21T19:10:57.559Z"
   },
   {
    "duration": 40,
    "start_time": "2023-01-21T19:10:57.640Z"
   },
   {
    "duration": 95,
    "start_time": "2023-01-21T19:10:57.681Z"
   },
   {
    "duration": 0,
    "start_time": "2023-01-21T19:10:57.778Z"
   },
   {
    "duration": 0,
    "start_time": "2023-01-21T19:10:57.779Z"
   },
   {
    "duration": 0,
    "start_time": "2023-01-21T19:10:57.780Z"
   },
   {
    "duration": 0,
    "start_time": "2023-01-21T19:10:57.781Z"
   },
   {
    "duration": 0,
    "start_time": "2023-01-21T19:10:57.782Z"
   },
   {
    "duration": 0,
    "start_time": "2023-01-21T19:10:57.783Z"
   },
   {
    "duration": 0,
    "start_time": "2023-01-21T19:10:57.784Z"
   },
   {
    "duration": 0,
    "start_time": "2023-01-21T19:10:57.785Z"
   },
   {
    "duration": 0,
    "start_time": "2023-01-21T19:10:57.786Z"
   },
   {
    "duration": 0,
    "start_time": "2023-01-21T19:10:57.787Z"
   },
   {
    "duration": 0,
    "start_time": "2023-01-21T19:10:57.788Z"
   },
   {
    "duration": 0,
    "start_time": "2023-01-21T19:10:57.789Z"
   },
   {
    "duration": 0,
    "start_time": "2023-01-21T19:10:57.790Z"
   },
   {
    "duration": 0,
    "start_time": "2023-01-21T19:10:57.791Z"
   },
   {
    "duration": 0,
    "start_time": "2023-01-21T19:10:57.792Z"
   },
   {
    "duration": 0,
    "start_time": "2023-01-21T19:10:57.793Z"
   },
   {
    "duration": 0,
    "start_time": "2023-01-21T19:10:57.794Z"
   },
   {
    "duration": 11,
    "start_time": "2023-01-21T19:11:17.203Z"
   },
   {
    "duration": 10,
    "start_time": "2023-01-21T19:11:22.203Z"
   },
   {
    "duration": 10,
    "start_time": "2023-01-21T19:22:08.720Z"
   },
   {
    "duration": 2,
    "start_time": "2023-01-21T19:22:16.771Z"
   },
   {
    "duration": 8,
    "start_time": "2023-01-21T19:22:18.375Z"
   },
   {
    "duration": 11,
    "start_time": "2023-01-21T19:26:29.224Z"
   },
   {
    "duration": 10,
    "start_time": "2023-01-21T19:27:31.356Z"
   },
   {
    "duration": 1061,
    "start_time": "2023-01-21T19:27:46.572Z"
   },
   {
    "duration": 2,
    "start_time": "2023-01-21T19:27:47.635Z"
   },
   {
    "duration": 39,
    "start_time": "2023-01-21T19:27:47.638Z"
   },
   {
    "duration": 4,
    "start_time": "2023-01-21T19:27:47.679Z"
   },
   {
    "duration": 11,
    "start_time": "2023-01-21T19:27:47.684Z"
   },
   {
    "duration": 64,
    "start_time": "2023-01-21T19:27:47.697Z"
   },
   {
    "duration": 41,
    "start_time": "2023-01-21T19:27:47.763Z"
   },
   {
    "duration": 12,
    "start_time": "2023-01-21T19:27:47.805Z"
   },
   {
    "duration": 22,
    "start_time": "2023-01-21T19:27:47.819Z"
   },
   {
    "duration": 31,
    "start_time": "2023-01-21T19:27:47.843Z"
   },
   {
    "duration": 8,
    "start_time": "2023-01-21T19:27:47.876Z"
   },
   {
    "duration": 16,
    "start_time": "2023-01-21T19:27:47.886Z"
   },
   {
    "duration": 100,
    "start_time": "2023-01-21T19:27:47.903Z"
   },
   {
    "duration": 0,
    "start_time": "2023-01-21T19:27:48.005Z"
   },
   {
    "duration": 0,
    "start_time": "2023-01-21T19:27:48.006Z"
   },
   {
    "duration": 0,
    "start_time": "2023-01-21T19:27:48.007Z"
   },
   {
    "duration": 0,
    "start_time": "2023-01-21T19:27:48.009Z"
   },
   {
    "duration": 0,
    "start_time": "2023-01-21T19:27:48.010Z"
   },
   {
    "duration": 0,
    "start_time": "2023-01-21T19:27:48.011Z"
   },
   {
    "duration": 0,
    "start_time": "2023-01-21T19:27:48.026Z"
   },
   {
    "duration": 0,
    "start_time": "2023-01-21T19:27:48.027Z"
   },
   {
    "duration": 0,
    "start_time": "2023-01-21T19:27:48.028Z"
   },
   {
    "duration": 0,
    "start_time": "2023-01-21T19:27:48.029Z"
   },
   {
    "duration": 0,
    "start_time": "2023-01-21T19:27:48.030Z"
   },
   {
    "duration": 0,
    "start_time": "2023-01-21T19:27:48.031Z"
   },
   {
    "duration": 0,
    "start_time": "2023-01-21T19:27:48.032Z"
   },
   {
    "duration": 0,
    "start_time": "2023-01-21T19:27:48.033Z"
   },
   {
    "duration": 5,
    "start_time": "2023-01-21T19:28:21.739Z"
   },
   {
    "duration": 9,
    "start_time": "2023-01-21T19:28:24.354Z"
   },
   {
    "duration": 5,
    "start_time": "2023-01-21T19:29:44.200Z"
   },
   {
    "duration": 6,
    "start_time": "2023-01-21T19:29:48.056Z"
   },
   {
    "duration": 13,
    "start_time": "2023-01-21T19:30:30.809Z"
   },
   {
    "duration": 12,
    "start_time": "2023-01-21T19:30:37.286Z"
   },
   {
    "duration": 11,
    "start_time": "2023-01-21T19:31:07.040Z"
   },
   {
    "duration": 281,
    "start_time": "2023-01-21T19:34:55.631Z"
   },
   {
    "duration": 305,
    "start_time": "2023-01-21T19:35:17.458Z"
   },
   {
    "duration": 290,
    "start_time": "2023-01-21T19:35:47.015Z"
   },
   {
    "duration": 335,
    "start_time": "2023-01-21T19:44:30.359Z"
   },
   {
    "duration": 1125,
    "start_time": "2023-01-21T19:44:38.922Z"
   },
   {
    "duration": 2,
    "start_time": "2023-01-21T19:44:40.049Z"
   },
   {
    "duration": 36,
    "start_time": "2023-01-21T19:44:40.052Z"
   },
   {
    "duration": 5,
    "start_time": "2023-01-21T19:44:40.090Z"
   },
   {
    "duration": 5,
    "start_time": "2023-01-21T19:44:40.098Z"
   },
   {
    "duration": 64,
    "start_time": "2023-01-21T19:44:40.105Z"
   },
   {
    "duration": 42,
    "start_time": "2023-01-21T19:44:40.170Z"
   },
   {
    "duration": 14,
    "start_time": "2023-01-21T19:44:40.214Z"
   },
   {
    "duration": 13,
    "start_time": "2023-01-21T19:44:40.230Z"
   },
   {
    "duration": 22,
    "start_time": "2023-01-21T19:44:40.245Z"
   },
   {
    "duration": 8,
    "start_time": "2023-01-21T19:44:40.270Z"
   },
   {
    "duration": 15,
    "start_time": "2023-01-21T19:44:40.280Z"
   },
   {
    "duration": 118,
    "start_time": "2023-01-21T19:44:40.298Z"
   },
   {
    "duration": 0,
    "start_time": "2023-01-21T19:44:40.418Z"
   },
   {
    "duration": 0,
    "start_time": "2023-01-21T19:44:40.420Z"
   },
   {
    "duration": 0,
    "start_time": "2023-01-21T19:44:40.427Z"
   },
   {
    "duration": 0,
    "start_time": "2023-01-21T19:44:40.428Z"
   },
   {
    "duration": 0,
    "start_time": "2023-01-21T19:44:40.429Z"
   },
   {
    "duration": 0,
    "start_time": "2023-01-21T19:44:40.430Z"
   },
   {
    "duration": 0,
    "start_time": "2023-01-21T19:44:40.431Z"
   },
   {
    "duration": 0,
    "start_time": "2023-01-21T19:44:40.432Z"
   },
   {
    "duration": 0,
    "start_time": "2023-01-21T19:44:40.433Z"
   },
   {
    "duration": 0,
    "start_time": "2023-01-21T19:44:40.434Z"
   },
   {
    "duration": 0,
    "start_time": "2023-01-21T19:44:40.435Z"
   },
   {
    "duration": 0,
    "start_time": "2023-01-21T19:44:40.437Z"
   },
   {
    "duration": 0,
    "start_time": "2023-01-21T19:44:40.437Z"
   },
   {
    "duration": 0,
    "start_time": "2023-01-21T19:44:40.439Z"
   },
   {
    "duration": 11,
    "start_time": "2023-01-21T19:45:40.159Z"
   },
   {
    "duration": 2,
    "start_time": "2023-01-21T19:45:45.364Z"
   },
   {
    "duration": 8,
    "start_time": "2023-01-21T19:45:48.794Z"
   },
   {
    "duration": 12,
    "start_time": "2023-01-21T19:45:52.052Z"
   },
   {
    "duration": 10,
    "start_time": "2023-01-21T19:53:58.032Z"
   },
   {
    "duration": 68,
    "start_time": "2023-01-21T20:28:43.264Z"
   },
   {
    "duration": 312,
    "start_time": "2023-01-21T20:42:24.583Z"
   },
   {
    "duration": 284,
    "start_time": "2023-01-21T20:42:36.239Z"
   },
   {
    "duration": 1109,
    "start_time": "2023-01-21T20:42:57.124Z"
   },
   {
    "duration": 4,
    "start_time": "2023-01-21T20:42:58.236Z"
   },
   {
    "duration": 32,
    "start_time": "2023-01-21T20:42:58.242Z"
   },
   {
    "duration": 5,
    "start_time": "2023-01-21T20:42:58.278Z"
   },
   {
    "duration": 9,
    "start_time": "2023-01-21T20:42:58.284Z"
   },
   {
    "duration": 64,
    "start_time": "2023-01-21T20:42:58.295Z"
   },
   {
    "duration": 41,
    "start_time": "2023-01-21T20:42:58.361Z"
   },
   {
    "duration": 11,
    "start_time": "2023-01-21T20:42:58.403Z"
   },
   {
    "duration": 12,
    "start_time": "2023-01-21T20:42:58.416Z"
   },
   {
    "duration": 13,
    "start_time": "2023-01-21T20:42:58.431Z"
   },
   {
    "duration": 13,
    "start_time": "2023-01-21T20:42:58.446Z"
   },
   {
    "duration": 5,
    "start_time": "2023-01-21T20:42:58.460Z"
   },
   {
    "duration": 11,
    "start_time": "2023-01-21T20:42:58.467Z"
   },
   {
    "duration": 108,
    "start_time": "2023-01-21T20:42:58.479Z"
   },
   {
    "duration": 0,
    "start_time": "2023-01-21T20:42:58.589Z"
   },
   {
    "duration": 0,
    "start_time": "2023-01-21T20:42:58.590Z"
   },
   {
    "duration": 0,
    "start_time": "2023-01-21T20:42:58.591Z"
   },
   {
    "duration": 0,
    "start_time": "2023-01-21T20:42:58.593Z"
   },
   {
    "duration": 0,
    "start_time": "2023-01-21T20:42:58.593Z"
   },
   {
    "duration": 0,
    "start_time": "2023-01-21T20:42:58.595Z"
   },
   {
    "duration": 0,
    "start_time": "2023-01-21T20:42:58.596Z"
   },
   {
    "duration": 0,
    "start_time": "2023-01-21T20:42:58.597Z"
   },
   {
    "duration": 0,
    "start_time": "2023-01-21T20:42:58.597Z"
   },
   {
    "duration": 0,
    "start_time": "2023-01-21T20:42:58.598Z"
   },
   {
    "duration": 0,
    "start_time": "2023-01-21T20:42:58.599Z"
   },
   {
    "duration": 0,
    "start_time": "2023-01-21T20:42:58.601Z"
   },
   {
    "duration": 0,
    "start_time": "2023-01-21T20:42:58.602Z"
   },
   {
    "duration": 0,
    "start_time": "2023-01-21T20:42:58.603Z"
   },
   {
    "duration": 0,
    "start_time": "2023-01-21T20:42:58.628Z"
   },
   {
    "duration": 0,
    "start_time": "2023-01-21T20:42:58.629Z"
   },
   {
    "duration": 5,
    "start_time": "2023-01-21T20:44:08.220Z"
   },
   {
    "duration": 304,
    "start_time": "2023-01-21T20:45:43.351Z"
   },
   {
    "duration": 282,
    "start_time": "2023-01-21T20:45:59.334Z"
   },
   {
    "duration": 1220,
    "start_time": "2023-01-21T20:46:39.810Z"
   },
   {
    "duration": 2,
    "start_time": "2023-01-21T20:46:41.032Z"
   },
   {
    "duration": 36,
    "start_time": "2023-01-21T20:46:41.036Z"
   },
   {
    "duration": 5,
    "start_time": "2023-01-21T20:46:41.074Z"
   },
   {
    "duration": 6,
    "start_time": "2023-01-21T20:46:41.081Z"
   },
   {
    "duration": 69,
    "start_time": "2023-01-21T20:46:41.089Z"
   },
   {
    "duration": 41,
    "start_time": "2023-01-21T20:46:41.160Z"
   },
   {
    "duration": 11,
    "start_time": "2023-01-21T20:46:41.203Z"
   },
   {
    "duration": 13,
    "start_time": "2023-01-21T20:46:41.216Z"
   },
   {
    "duration": 5,
    "start_time": "2023-01-21T20:46:41.232Z"
   },
   {
    "duration": 16,
    "start_time": "2023-01-21T20:46:41.239Z"
   },
   {
    "duration": 7,
    "start_time": "2023-01-21T20:46:41.256Z"
   },
   {
    "duration": 15,
    "start_time": "2023-01-21T20:46:41.264Z"
   },
   {
    "duration": 5,
    "start_time": "2023-01-21T20:46:41.281Z"
   },
   {
    "duration": 11,
    "start_time": "2023-01-21T20:46:41.287Z"
   },
   {
    "duration": 110,
    "start_time": "2023-01-21T20:46:41.300Z"
   },
   {
    "duration": 0,
    "start_time": "2023-01-21T20:46:41.412Z"
   },
   {
    "duration": 0,
    "start_time": "2023-01-21T20:46:41.413Z"
   },
   {
    "duration": 0,
    "start_time": "2023-01-21T20:46:41.414Z"
   },
   {
    "duration": 0,
    "start_time": "2023-01-21T20:46:41.428Z"
   },
   {
    "duration": 0,
    "start_time": "2023-01-21T20:46:41.429Z"
   },
   {
    "duration": 0,
    "start_time": "2023-01-21T20:46:41.430Z"
   },
   {
    "duration": 0,
    "start_time": "2023-01-21T20:46:41.431Z"
   },
   {
    "duration": 0,
    "start_time": "2023-01-21T20:46:41.432Z"
   },
   {
    "duration": 0,
    "start_time": "2023-01-21T20:46:41.434Z"
   },
   {
    "duration": 0,
    "start_time": "2023-01-21T20:46:41.435Z"
   },
   {
    "duration": 0,
    "start_time": "2023-01-21T20:46:41.435Z"
   },
   {
    "duration": 0,
    "start_time": "2023-01-21T20:46:41.437Z"
   },
   {
    "duration": 0,
    "start_time": "2023-01-21T20:46:41.438Z"
   },
   {
    "duration": 0,
    "start_time": "2023-01-21T20:46:41.438Z"
   },
   {
    "duration": 0,
    "start_time": "2023-01-21T20:46:41.440Z"
   },
   {
    "duration": 0,
    "start_time": "2023-01-21T20:46:41.440Z"
   },
   {
    "duration": 1115,
    "start_time": "2023-01-21T20:47:33.400Z"
   },
   {
    "duration": 5,
    "start_time": "2023-01-21T20:47:48.383Z"
   },
   {
    "duration": 6,
    "start_time": "2023-01-21T21:02:48.634Z"
   },
   {
    "duration": 12,
    "start_time": "2023-01-21T21:03:00.334Z"
   },
   {
    "duration": 1143,
    "start_time": "2023-01-21T21:03:07.900Z"
   },
   {
    "duration": 2,
    "start_time": "2023-01-21T21:03:09.045Z"
   },
   {
    "duration": 34,
    "start_time": "2023-01-21T21:03:09.048Z"
   },
   {
    "duration": 5,
    "start_time": "2023-01-21T21:03:09.084Z"
   },
   {
    "duration": 6,
    "start_time": "2023-01-21T21:03:09.091Z"
   },
   {
    "duration": 62,
    "start_time": "2023-01-21T21:03:09.099Z"
   },
   {
    "duration": 40,
    "start_time": "2023-01-21T21:03:09.163Z"
   },
   {
    "duration": 13,
    "start_time": "2023-01-21T21:03:09.205Z"
   },
   {
    "duration": 10,
    "start_time": "2023-01-21T21:03:09.219Z"
   },
   {
    "duration": 5,
    "start_time": "2023-01-21T21:03:09.232Z"
   },
   {
    "duration": 18,
    "start_time": "2023-01-21T21:03:09.239Z"
   },
   {
    "duration": 6,
    "start_time": "2023-01-21T21:03:09.259Z"
   },
   {
    "duration": 11,
    "start_time": "2023-01-21T21:03:09.267Z"
   },
   {
    "duration": 5,
    "start_time": "2023-01-21T21:03:09.280Z"
   },
   {
    "duration": 12,
    "start_time": "2023-01-21T21:03:09.286Z"
   },
   {
    "duration": 34,
    "start_time": "2023-01-21T21:03:09.299Z"
   },
   {
    "duration": 102,
    "start_time": "2023-01-21T21:03:09.334Z"
   },
   {
    "duration": 0,
    "start_time": "2023-01-21T21:03:09.438Z"
   },
   {
    "duration": 0,
    "start_time": "2023-01-21T21:03:09.439Z"
   },
   {
    "duration": 0,
    "start_time": "2023-01-21T21:03:09.440Z"
   },
   {
    "duration": 0,
    "start_time": "2023-01-21T21:03:09.441Z"
   },
   {
    "duration": 0,
    "start_time": "2023-01-21T21:03:09.442Z"
   },
   {
    "duration": 0,
    "start_time": "2023-01-21T21:03:09.443Z"
   },
   {
    "duration": 0,
    "start_time": "2023-01-21T21:03:09.444Z"
   },
   {
    "duration": 0,
    "start_time": "2023-01-21T21:03:09.445Z"
   },
   {
    "duration": 0,
    "start_time": "2023-01-21T21:03:09.446Z"
   },
   {
    "duration": 0,
    "start_time": "2023-01-21T21:03:09.447Z"
   },
   {
    "duration": 0,
    "start_time": "2023-01-21T21:03:09.448Z"
   },
   {
    "duration": 0,
    "start_time": "2023-01-21T21:03:09.449Z"
   },
   {
    "duration": 0,
    "start_time": "2023-01-21T21:03:09.450Z"
   },
   {
    "duration": 0,
    "start_time": "2023-01-21T21:03:09.451Z"
   },
   {
    "duration": 0,
    "start_time": "2023-01-21T21:03:09.451Z"
   },
   {
    "duration": 0,
    "start_time": "2023-01-21T21:03:09.452Z"
   },
   {
    "duration": 10,
    "start_time": "2023-01-21T21:04:24.022Z"
   },
   {
    "duration": 9,
    "start_time": "2023-01-21T21:04:33.501Z"
   },
   {
    "duration": 90,
    "start_time": "2023-01-21T21:05:18.547Z"
   },
   {
    "duration": 96,
    "start_time": "2023-01-21T21:05:31.367Z"
   },
   {
    "duration": 21,
    "start_time": "2023-01-21T21:05:38.751Z"
   },
   {
    "duration": 6,
    "start_time": "2023-01-21T22:07:05.963Z"
   },
   {
    "duration": 6,
    "start_time": "2023-01-21T22:08:52.440Z"
   },
   {
    "duration": 11,
    "start_time": "2023-01-21T22:09:05.928Z"
   },
   {
    "duration": 51,
    "start_time": "2023-01-22T12:26:20.228Z"
   },
   {
    "duration": 2,
    "start_time": "2023-01-22T12:26:32.324Z"
   },
   {
    "duration": 1257,
    "start_time": "2023-01-22T12:26:54.242Z"
   },
   {
    "duration": 2,
    "start_time": "2023-01-22T12:26:55.501Z"
   },
   {
    "duration": 92,
    "start_time": "2023-01-22T12:26:55.505Z"
   },
   {
    "duration": 5,
    "start_time": "2023-01-22T12:26:55.599Z"
   },
   {
    "duration": 5,
    "start_time": "2023-01-22T12:26:55.606Z"
   },
   {
    "duration": 60,
    "start_time": "2023-01-22T12:26:55.613Z"
   },
   {
    "duration": 197,
    "start_time": "2023-01-22T12:26:55.693Z"
   },
   {
    "duration": 12,
    "start_time": "2023-01-22T12:26:55.892Z"
   },
   {
    "duration": 12,
    "start_time": "2023-01-22T12:26:55.906Z"
   },
   {
    "duration": 8,
    "start_time": "2023-01-22T12:26:55.920Z"
   },
   {
    "duration": 15,
    "start_time": "2023-01-22T12:26:55.930Z"
   },
   {
    "duration": 7,
    "start_time": "2023-01-22T12:26:55.947Z"
   },
   {
    "duration": 14,
    "start_time": "2023-01-22T12:26:55.956Z"
   },
   {
    "duration": 4,
    "start_time": "2023-01-22T12:26:55.995Z"
   },
   {
    "duration": 14,
    "start_time": "2023-01-22T12:26:56.001Z"
   },
   {
    "duration": 137,
    "start_time": "2023-01-22T12:26:56.017Z"
   },
   {
    "duration": 0,
    "start_time": "2023-01-22T12:26:56.156Z"
   },
   {
    "duration": 0,
    "start_time": "2023-01-22T12:26:56.158Z"
   },
   {
    "duration": 0,
    "start_time": "2023-01-22T12:26:56.160Z"
   },
   {
    "duration": 0,
    "start_time": "2023-01-22T12:26:56.161Z"
   },
   {
    "duration": 0,
    "start_time": "2023-01-22T12:26:56.163Z"
   },
   {
    "duration": 0,
    "start_time": "2023-01-22T12:26:56.165Z"
   },
   {
    "duration": 0,
    "start_time": "2023-01-22T12:26:56.166Z"
   },
   {
    "duration": 0,
    "start_time": "2023-01-22T12:26:56.168Z"
   },
   {
    "duration": 0,
    "start_time": "2023-01-22T12:26:56.192Z"
   },
   {
    "duration": 0,
    "start_time": "2023-01-22T12:26:56.194Z"
   },
   {
    "duration": 0,
    "start_time": "2023-01-22T12:26:56.196Z"
   },
   {
    "duration": 0,
    "start_time": "2023-01-22T12:26:56.198Z"
   },
   {
    "duration": 0,
    "start_time": "2023-01-22T12:26:56.200Z"
   },
   {
    "duration": 0,
    "start_time": "2023-01-22T12:26:56.202Z"
   },
   {
    "duration": 0,
    "start_time": "2023-01-22T12:26:56.203Z"
   },
   {
    "duration": 0,
    "start_time": "2023-01-22T12:26:56.205Z"
   },
   {
    "duration": 0,
    "start_time": "2023-01-22T12:26:56.206Z"
   },
   {
    "duration": 14,
    "start_time": "2023-01-22T12:27:28.386Z"
   },
   {
    "duration": 11,
    "start_time": "2023-01-22T12:29:29.624Z"
   },
   {
    "duration": 14,
    "start_time": "2023-01-22T12:30:05.677Z"
   },
   {
    "duration": 15,
    "start_time": "2023-01-22T12:38:05.371Z"
   },
   {
    "duration": 10,
    "start_time": "2023-01-22T12:43:21.109Z"
   },
   {
    "duration": 14,
    "start_time": "2023-01-22T12:43:44.626Z"
   },
   {
    "duration": 1226,
    "start_time": "2023-01-22T12:44:06.175Z"
   },
   {
    "duration": 2,
    "start_time": "2023-01-22T12:44:07.403Z"
   },
   {
    "duration": 52,
    "start_time": "2023-01-22T12:44:07.407Z"
   },
   {
    "duration": 5,
    "start_time": "2023-01-22T12:44:07.461Z"
   },
   {
    "duration": 11,
    "start_time": "2023-01-22T12:44:07.468Z"
   },
   {
    "duration": 82,
    "start_time": "2023-01-22T12:44:07.480Z"
   },
   {
    "duration": 48,
    "start_time": "2023-01-22T12:44:07.563Z"
   },
   {
    "duration": 12,
    "start_time": "2023-01-22T12:44:07.613Z"
   },
   {
    "duration": 18,
    "start_time": "2023-01-22T12:44:07.627Z"
   },
   {
    "duration": 13,
    "start_time": "2023-01-22T12:44:07.647Z"
   },
   {
    "duration": 16,
    "start_time": "2023-01-22T12:44:07.661Z"
   },
   {
    "duration": 19,
    "start_time": "2023-01-22T12:44:07.678Z"
   },
   {
    "duration": 13,
    "start_time": "2023-01-22T12:44:07.699Z"
   },
   {
    "duration": 16,
    "start_time": "2023-01-22T12:44:07.715Z"
   },
   {
    "duration": 46,
    "start_time": "2023-01-22T12:44:07.733Z"
   },
   {
    "duration": 42,
    "start_time": "2023-01-22T12:44:07.780Z"
   },
   {
    "duration": 7,
    "start_time": "2023-01-22T12:44:07.823Z"
   },
   {
    "duration": 27,
    "start_time": "2023-01-22T12:44:07.831Z"
   },
   {
    "duration": 41,
    "start_time": "2023-01-22T12:44:07.859Z"
   },
   {
    "duration": 14,
    "start_time": "2023-01-22T12:44:07.902Z"
   },
   {
    "duration": 122,
    "start_time": "2023-01-22T12:44:07.917Z"
   },
   {
    "duration": 0,
    "start_time": "2023-01-22T12:44:08.041Z"
   },
   {
    "duration": 0,
    "start_time": "2023-01-22T12:44:08.043Z"
   },
   {
    "duration": 0,
    "start_time": "2023-01-22T12:44:08.044Z"
   },
   {
    "duration": 0,
    "start_time": "2023-01-22T12:44:08.045Z"
   },
   {
    "duration": 0,
    "start_time": "2023-01-22T12:44:08.047Z"
   },
   {
    "duration": 0,
    "start_time": "2023-01-22T12:44:08.049Z"
   },
   {
    "duration": 0,
    "start_time": "2023-01-22T12:44:08.050Z"
   },
   {
    "duration": 0,
    "start_time": "2023-01-22T12:44:08.051Z"
   },
   {
    "duration": 0,
    "start_time": "2023-01-22T12:44:08.052Z"
   },
   {
    "duration": 0,
    "start_time": "2023-01-22T12:44:08.054Z"
   },
   {
    "duration": 0,
    "start_time": "2023-01-22T12:44:08.055Z"
   },
   {
    "duration": 0,
    "start_time": "2023-01-22T12:44:08.056Z"
   },
   {
    "duration": 15,
    "start_time": "2023-01-22T12:45:01.178Z"
   },
   {
    "duration": 4,
    "start_time": "2023-01-22T12:45:06.418Z"
   },
   {
    "duration": 9,
    "start_time": "2023-01-22T12:45:08.590Z"
   },
   {
    "duration": 13,
    "start_time": "2023-01-22T12:45:11.670Z"
   },
   {
    "duration": 4,
    "start_time": "2023-01-22T12:46:38.218Z"
   },
   {
    "duration": 11,
    "start_time": "2023-01-22T12:46:39.841Z"
   },
   {
    "duration": 17,
    "start_time": "2023-01-22T12:46:42.032Z"
   },
   {
    "duration": 9,
    "start_time": "2023-01-22T13:12:10.220Z"
   },
   {
    "duration": 3,
    "start_time": "2023-01-22T13:12:15.688Z"
   },
   {
    "duration": 9,
    "start_time": "2023-01-22T13:12:17.833Z"
   },
   {
    "duration": 46,
    "start_time": "2023-01-22T13:13:47.664Z"
   },
   {
    "duration": 11,
    "start_time": "2023-01-22T13:13:54.612Z"
   },
   {
    "duration": 19,
    "start_time": "2023-01-22T13:14:19.818Z"
   },
   {
    "duration": 3,
    "start_time": "2023-01-22T13:14:38.147Z"
   },
   {
    "duration": 9,
    "start_time": "2023-01-22T13:14:40.003Z"
   },
   {
    "duration": 10,
    "start_time": "2023-01-22T13:14:43.154Z"
   },
   {
    "duration": 16,
    "start_time": "2023-01-22T13:14:46.962Z"
   },
   {
    "duration": 2,
    "start_time": "2023-01-22T13:23:44.044Z"
   },
   {
    "duration": 13,
    "start_time": "2023-01-22T13:24:27.694Z"
   },
   {
    "duration": 3,
    "start_time": "2023-01-22T13:24:31.847Z"
   },
   {
    "duration": 11,
    "start_time": "2023-01-22T13:24:33.502Z"
   },
   {
    "duration": 3,
    "start_time": "2023-01-22T13:28:33.628Z"
   },
   {
    "duration": 10,
    "start_time": "2023-01-22T13:28:35.261Z"
   },
   {
    "duration": 17,
    "start_time": "2023-01-22T13:28:36.809Z"
   },
   {
    "duration": 1139,
    "start_time": "2023-01-22T13:28:43.096Z"
   },
   {
    "duration": 2,
    "start_time": "2023-01-22T13:28:44.238Z"
   },
   {
    "duration": 37,
    "start_time": "2023-01-22T13:28:44.242Z"
   },
   {
    "duration": 6,
    "start_time": "2023-01-22T13:28:44.282Z"
   },
   {
    "duration": 11,
    "start_time": "2023-01-22T13:28:44.290Z"
   },
   {
    "duration": 67,
    "start_time": "2023-01-22T13:28:44.303Z"
   },
   {
    "duration": 50,
    "start_time": "2023-01-22T13:28:44.371Z"
   },
   {
    "duration": 12,
    "start_time": "2023-01-22T13:28:44.422Z"
   },
   {
    "duration": 14,
    "start_time": "2023-01-22T13:28:44.436Z"
   },
   {
    "duration": 13,
    "start_time": "2023-01-22T13:28:44.452Z"
   },
   {
    "duration": 21,
    "start_time": "2023-01-22T13:28:44.467Z"
   },
   {
    "duration": 4,
    "start_time": "2023-01-22T13:28:44.490Z"
   },
   {
    "duration": 6,
    "start_time": "2023-01-22T13:28:44.496Z"
   },
   {
    "duration": 13,
    "start_time": "2023-01-22T13:28:44.505Z"
   },
   {
    "duration": 17,
    "start_time": "2023-01-22T13:28:44.520Z"
   },
   {
    "duration": 604,
    "start_time": "2023-01-22T13:28:44.540Z"
   },
   {
    "duration": 235,
    "start_time": "2023-01-22T13:28:45.146Z"
   },
   {
    "duration": 357,
    "start_time": "2023-01-22T13:28:45.382Z"
   },
   {
    "duration": 213,
    "start_time": "2023-01-22T13:28:45.741Z"
   },
   {
    "duration": 447,
    "start_time": "2023-01-22T13:28:45.956Z"
   },
   {
    "duration": 190,
    "start_time": "2023-01-22T13:28:46.405Z"
   },
   {
    "duration": 4,
    "start_time": "2023-01-22T13:28:46.597Z"
   },
   {
    "duration": 247,
    "start_time": "2023-01-22T13:28:46.603Z"
   },
   {
    "duration": 6,
    "start_time": "2023-01-22T13:28:46.852Z"
   },
   {
    "duration": 406,
    "start_time": "2023-01-22T13:28:46.860Z"
   },
   {
    "duration": 12,
    "start_time": "2023-01-22T13:28:47.268Z"
   },
   {
    "duration": 35,
    "start_time": "2023-01-22T13:28:47.293Z"
   },
   {
    "duration": 15,
    "start_time": "2023-01-22T13:28:47.330Z"
   },
   {
    "duration": 12764,
    "start_time": "2023-01-22T14:02:33.914Z"
   },
   {
    "duration": 2,
    "start_time": "2023-01-22T14:02:46.680Z"
   },
   {
    "duration": 36,
    "start_time": "2023-01-22T14:02:46.683Z"
   },
   {
    "duration": 5,
    "start_time": "2023-01-22T14:02:46.721Z"
   },
   {
    "duration": 15,
    "start_time": "2023-01-22T14:02:46.727Z"
   },
   {
    "duration": 63,
    "start_time": "2023-01-22T14:02:46.744Z"
   },
   {
    "duration": 50,
    "start_time": "2023-01-22T14:02:46.808Z"
   },
   {
    "duration": 10,
    "start_time": "2023-01-22T14:02:46.860Z"
   },
   {
    "duration": 10,
    "start_time": "2023-01-22T14:02:46.872Z"
   },
   {
    "duration": 3,
    "start_time": "2023-01-22T14:02:46.885Z"
   },
   {
    "duration": 17,
    "start_time": "2023-01-22T14:02:46.890Z"
   },
   {
    "duration": 5,
    "start_time": "2023-01-22T14:02:46.909Z"
   },
   {
    "duration": 5,
    "start_time": "2023-01-22T14:02:46.916Z"
   },
   {
    "duration": 15,
    "start_time": "2023-01-22T14:02:46.922Z"
   },
   {
    "duration": 17,
    "start_time": "2023-01-22T14:02:46.940Z"
   },
   {
    "duration": 606,
    "start_time": "2023-01-22T14:02:46.958Z"
   },
   {
    "duration": 230,
    "start_time": "2023-01-22T14:02:47.565Z"
   },
   {
    "duration": 316,
    "start_time": "2023-01-22T14:02:47.797Z"
   },
   {
    "duration": 227,
    "start_time": "2023-01-22T14:02:48.115Z"
   },
   {
    "duration": 344,
    "start_time": "2023-01-22T14:02:48.344Z"
   },
   {
    "duration": 181,
    "start_time": "2023-01-22T14:02:48.690Z"
   },
   {
    "duration": 5,
    "start_time": "2023-01-22T14:02:48.873Z"
   },
   {
    "duration": 258,
    "start_time": "2023-01-22T14:02:48.892Z"
   },
   {
    "duration": 5,
    "start_time": "2023-01-22T14:02:49.152Z"
   },
   {
    "duration": 378,
    "start_time": "2023-01-22T14:02:49.159Z"
   },
   {
    "duration": 12,
    "start_time": "2023-01-22T14:02:49.539Z"
   },
   {
    "duration": 47,
    "start_time": "2023-01-22T14:02:49.553Z"
   },
   {
    "duration": 15,
    "start_time": "2023-01-22T14:02:49.603Z"
   },
   {
    "duration": 1221,
    "start_time": "2023-01-23T05:37:57.632Z"
   },
   {
    "duration": 2,
    "start_time": "2023-01-23T05:37:58.855Z"
   },
   {
    "duration": 74,
    "start_time": "2023-01-23T05:37:58.859Z"
   },
   {
    "duration": 4,
    "start_time": "2023-01-23T05:37:58.935Z"
   },
   {
    "duration": 7,
    "start_time": "2023-01-23T05:37:58.941Z"
   },
   {
    "duration": 64,
    "start_time": "2023-01-23T05:37:58.949Z"
   },
   {
    "duration": 129,
    "start_time": "2023-01-23T05:37:59.015Z"
   },
   {
    "duration": 16,
    "start_time": "2023-01-23T05:37:59.146Z"
   },
   {
    "duration": 13,
    "start_time": "2023-01-23T05:37:59.164Z"
   },
   {
    "duration": 5,
    "start_time": "2023-01-23T05:37:59.178Z"
   },
   {
    "duration": 18,
    "start_time": "2023-01-23T05:37:59.186Z"
   },
   {
    "duration": 4,
    "start_time": "2023-01-23T05:37:59.207Z"
   },
   {
    "duration": 6,
    "start_time": "2023-01-23T05:37:59.213Z"
   },
   {
    "duration": 37,
    "start_time": "2023-01-23T05:37:59.221Z"
   },
   {
    "duration": 17,
    "start_time": "2023-01-23T05:37:59.260Z"
   },
   {
    "duration": 584,
    "start_time": "2023-01-23T05:37:59.279Z"
   },
   {
    "duration": 224,
    "start_time": "2023-01-23T05:37:59.865Z"
   },
   {
    "duration": 278,
    "start_time": "2023-01-23T05:38:00.090Z"
   },
   {
    "duration": 217,
    "start_time": "2023-01-23T05:38:00.369Z"
   },
   {
    "duration": 311,
    "start_time": "2023-01-23T05:38:00.588Z"
   },
   {
    "duration": 174,
    "start_time": "2023-01-23T05:38:00.900Z"
   },
   {
    "duration": 6,
    "start_time": "2023-01-23T05:38:01.076Z"
   },
   {
    "duration": 263,
    "start_time": "2023-01-23T05:38:01.083Z"
   },
   {
    "duration": 8,
    "start_time": "2023-01-23T05:38:01.348Z"
   },
   {
    "duration": 370,
    "start_time": "2023-01-23T05:38:01.358Z"
   },
   {
    "duration": 12,
    "start_time": "2023-01-23T05:38:01.730Z"
   },
   {
    "duration": 49,
    "start_time": "2023-01-23T05:38:01.754Z"
   },
   {
    "duration": 18,
    "start_time": "2023-01-23T05:38:01.804Z"
   },
   {
    "duration": 55,
    "start_time": "2023-01-26T15:39:06.086Z"
   },
   {
    "duration": 1179,
    "start_time": "2023-01-26T15:39:15.584Z"
   },
   {
    "duration": 2,
    "start_time": "2023-01-26T15:39:16.765Z"
   },
   {
    "duration": 104,
    "start_time": "2023-01-26T15:39:16.769Z"
   },
   {
    "duration": 5,
    "start_time": "2023-01-26T15:39:16.876Z"
   },
   {
    "duration": 24,
    "start_time": "2023-01-26T15:39:16.883Z"
   },
   {
    "duration": 74,
    "start_time": "2023-01-26T15:39:16.908Z"
   },
   {
    "duration": 144,
    "start_time": "2023-01-26T15:39:16.984Z"
   },
   {
    "duration": 14,
    "start_time": "2023-01-26T15:39:17.130Z"
   },
   {
    "duration": 22,
    "start_time": "2023-01-26T15:39:17.146Z"
   },
   {
    "duration": 15,
    "start_time": "2023-01-26T15:39:17.171Z"
   },
   {
    "duration": 15,
    "start_time": "2023-01-26T15:39:17.188Z"
   },
   {
    "duration": 5,
    "start_time": "2023-01-26T15:39:17.205Z"
   },
   {
    "duration": 8,
    "start_time": "2023-01-26T15:39:17.212Z"
   },
   {
    "duration": 22,
    "start_time": "2023-01-26T15:39:17.222Z"
   },
   {
    "duration": 19,
    "start_time": "2023-01-26T15:39:17.245Z"
   },
   {
    "duration": 632,
    "start_time": "2023-01-26T15:39:17.266Z"
   },
   {
    "duration": 229,
    "start_time": "2023-01-26T15:39:17.900Z"
   },
   {
    "duration": 316,
    "start_time": "2023-01-26T15:39:18.130Z"
   },
   {
    "duration": 277,
    "start_time": "2023-01-26T15:39:18.448Z"
   },
   {
    "duration": 355,
    "start_time": "2023-01-26T15:39:18.727Z"
   },
   {
    "duration": 186,
    "start_time": "2023-01-26T15:39:19.084Z"
   },
   {
    "duration": 6,
    "start_time": "2023-01-26T15:39:19.272Z"
   },
   {
    "duration": 288,
    "start_time": "2023-01-26T15:39:19.280Z"
   },
   {
    "duration": 5,
    "start_time": "2023-01-26T15:39:19.570Z"
   },
   {
    "duration": 374,
    "start_time": "2023-01-26T15:39:19.576Z"
   },
   {
    "duration": 11,
    "start_time": "2023-01-26T15:39:19.952Z"
   },
   {
    "duration": 33,
    "start_time": "2023-01-26T15:39:19.964Z"
   },
   {
    "duration": 43,
    "start_time": "2023-01-26T15:39:20.000Z"
   },
   {
    "duration": 28,
    "start_time": "2023-01-26T19:30:00.441Z"
   },
   {
    "duration": 45,
    "start_time": "2023-01-27T10:23:25.084Z"
   },
   {
    "duration": 1059,
    "start_time": "2023-01-27T10:23:31.599Z"
   },
   {
    "duration": 2,
    "start_time": "2023-01-27T10:23:32.660Z"
   },
   {
    "duration": 76,
    "start_time": "2023-01-27T10:23:32.663Z"
   },
   {
    "duration": 5,
    "start_time": "2023-01-27T10:23:32.740Z"
   },
   {
    "duration": 10,
    "start_time": "2023-01-27T10:23:32.747Z"
   },
   {
    "duration": 59,
    "start_time": "2023-01-27T10:23:32.758Z"
   },
   {
    "duration": 116,
    "start_time": "2023-01-27T10:23:32.819Z"
   },
   {
    "duration": 17,
    "start_time": "2023-01-27T10:23:32.936Z"
   },
   {
    "duration": 14,
    "start_time": "2023-01-27T10:23:32.954Z"
   },
   {
    "duration": 7,
    "start_time": "2023-01-27T10:23:32.970Z"
   },
   {
    "duration": 19,
    "start_time": "2023-01-27T10:23:32.979Z"
   },
   {
    "duration": 7,
    "start_time": "2023-01-27T10:23:33.000Z"
   },
   {
    "duration": 8,
    "start_time": "2023-01-27T10:23:33.008Z"
   },
   {
    "duration": 96,
    "start_time": "2023-01-27T10:23:33.019Z"
   },
   {
    "duration": 0,
    "start_time": "2023-01-27T10:23:33.116Z"
   },
   {
    "duration": 0,
    "start_time": "2023-01-27T10:23:33.118Z"
   },
   {
    "duration": 0,
    "start_time": "2023-01-27T10:23:33.120Z"
   },
   {
    "duration": 0,
    "start_time": "2023-01-27T10:23:33.121Z"
   },
   {
    "duration": 0,
    "start_time": "2023-01-27T10:23:33.122Z"
   },
   {
    "duration": 0,
    "start_time": "2023-01-27T10:23:33.124Z"
   },
   {
    "duration": 0,
    "start_time": "2023-01-27T10:23:33.125Z"
   },
   {
    "duration": 0,
    "start_time": "2023-01-27T10:23:33.127Z"
   },
   {
    "duration": 0,
    "start_time": "2023-01-27T10:23:33.128Z"
   },
   {
    "duration": 0,
    "start_time": "2023-01-27T10:23:33.129Z"
   },
   {
    "duration": 0,
    "start_time": "2023-01-27T10:23:33.130Z"
   },
   {
    "duration": 0,
    "start_time": "2023-01-27T10:23:33.132Z"
   },
   {
    "duration": 0,
    "start_time": "2023-01-27T10:23:33.133Z"
   },
   {
    "duration": 0,
    "start_time": "2023-01-27T10:23:33.135Z"
   },
   {
    "duration": 0,
    "start_time": "2023-01-27T10:23:33.136Z"
   },
   {
    "duration": 8,
    "start_time": "2023-01-27T10:23:51.106Z"
   },
   {
    "duration": 164,
    "start_time": "2023-01-27T10:28:13.052Z"
   },
   {
    "duration": 56,
    "start_time": "2023-03-11T15:27:07.381Z"
   },
   {
    "duration": 1575,
    "start_time": "2023-03-11T15:27:14.139Z"
   },
   {
    "duration": 13,
    "start_time": "2023-03-11T15:27:15.716Z"
   },
   {
    "duration": 132,
    "start_time": "2023-03-11T15:27:15.733Z"
   },
   {
    "duration": 6,
    "start_time": "2023-03-11T15:27:15.867Z"
   },
   {
    "duration": 7,
    "start_time": "2023-03-11T15:27:15.876Z"
   },
   {
    "duration": 88,
    "start_time": "2023-03-11T15:27:15.885Z"
   },
   {
    "duration": 144,
    "start_time": "2023-03-11T15:27:15.975Z"
   },
   {
    "duration": 14,
    "start_time": "2023-03-11T15:27:16.120Z"
   },
   {
    "duration": 24,
    "start_time": "2023-03-11T15:27:16.136Z"
   },
   {
    "duration": 6,
    "start_time": "2023-03-11T15:27:16.162Z"
   },
   {
    "duration": 23,
    "start_time": "2023-03-11T15:27:16.169Z"
   },
   {
    "duration": 32,
    "start_time": "2023-03-11T15:27:16.194Z"
   },
   {
    "duration": 7,
    "start_time": "2023-03-11T15:27:16.229Z"
   },
   {
    "duration": 13,
    "start_time": "2023-03-11T15:27:16.247Z"
   },
   {
    "duration": 13,
    "start_time": "2023-03-11T15:27:16.262Z"
   },
   {
    "duration": 57,
    "start_time": "2023-03-11T15:27:16.278Z"
   },
   {
    "duration": 774,
    "start_time": "2023-03-11T15:27:16.339Z"
   },
   {
    "duration": 305,
    "start_time": "2023-03-11T15:27:17.123Z"
   },
   {
    "duration": 465,
    "start_time": "2023-03-11T15:27:17.432Z"
   },
   {
    "duration": 262,
    "start_time": "2023-03-11T15:27:17.899Z"
   },
   {
    "duration": 380,
    "start_time": "2023-03-11T15:27:18.163Z"
   },
   {
    "duration": 220,
    "start_time": "2023-03-11T15:27:18.549Z"
   },
   {
    "duration": 6,
    "start_time": "2023-03-11T15:27:18.770Z"
   },
   {
    "duration": 354,
    "start_time": "2023-03-11T15:27:18.777Z"
   },
   {
    "duration": 15,
    "start_time": "2023-03-11T15:27:19.135Z"
   },
   {
    "duration": 458,
    "start_time": "2023-03-11T15:27:19.153Z"
   },
   {
    "duration": 23,
    "start_time": "2023-03-11T15:27:19.612Z"
   },
   {
    "duration": 39,
    "start_time": "2023-03-11T15:27:19.638Z"
   },
   {
    "duration": 14,
    "start_time": "2023-03-11T15:27:19.679Z"
   }
  ],
  "kernelspec": {
   "display_name": "Python 3 (ipykernel)",
   "language": "python",
   "name": "python3"
  },
  "language_info": {
   "codemirror_mode": {
    "name": "ipython",
    "version": 3
   },
   "file_extension": ".py",
   "mimetype": "text/x-python",
   "name": "python",
   "nbconvert_exporter": "python",
   "pygments_lexer": "ipython3",
   "version": "3.9.13"
  },
  "toc": {
   "base_numbering": 1,
   "nav_menu": {},
   "number_sections": true,
   "sideBar": true,
   "skip_h1_title": true,
   "title_cell": "Table of Contents",
   "title_sidebar": "Contents",
   "toc_cell": false,
   "toc_position": {
    "height": "calc(100% - 180px)",
    "left": "10px",
    "top": "150px",
    "width": "288px"
   },
   "toc_section_display": true,
   "toc_window_display": true
  }
 },
 "nbformat": 4,
 "nbformat_minor": 2
}
